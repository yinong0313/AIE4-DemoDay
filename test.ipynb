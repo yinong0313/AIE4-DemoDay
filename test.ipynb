{
 "cells": [
  {
   "cell_type": "code",
   "execution_count": 11,
   "metadata": {},
   "outputs": [],
   "source": [
    "import pandas as pd"
   ]
  },
  {
   "cell_type": "code",
   "execution_count": null,
   "metadata": {},
   "outputs": [],
   "source": [
    "from dotenv import load_dotenv\n",
    "load_dotenv()"
   ]
  },
  {
   "cell_type": "markdown",
   "metadata": {},
   "source": [
    "### Data description\n",
    "Reference: https://www.kaggle.com/datasets/prosperchuks/health-dataset/data  \n",
    "#### Columns:\n",
    "- **Age**: 13-level age category (_AGEG5YR see codebook) 1 = 18-24 9 = 60-64 13 = 80 or older\n",
    "- **Sex**: patient's gender (1: male; 0: female)\n",
    "- **HighChol**: 0 = no high cholesterol 1 = high cholesterol\n",
    "- **CholCheck**: 0 = no cholesterol check in 5 years 1 = yes cholesterol check in 5 years\n",
    "- **BMI**: Body Mass Index\n",
    "- **Smoker**: Have you smoked at least 100 cigarettes in your entire life? [Note: 5 packs = 100 cigarettes] 0 = no 1 = yes\n",
    "- **HeartDiseaseorAttack**: coronary heart disease (CHD) or myocardial infarction (MI) 0 = no 1 = yes\n",
    "- **PhysActivity**: physical activity in past 30 days - not including job 0 = no 1 = yes\n",
    "- **Fruits**: Consume Fruit 1 or more times per day 0 = no 1 = yes\n",
    "- **Veggies**: Consume Vegetables 1 or more times per day 0 = no 1 = yes\n",
    "- **HvyAlcoholConsump**: (adult men >=14 drinks per week and adult women>=7 drinks per week) 0 = no 1 = yes\n",
    "- **GenHlth**: Would you say that in general your health is: scale 1-5 1 = excellent 2 = very good 3 = good 4 = fair 5 = poor\n",
    "- **MentHlth**: days of poor mental health scale 1-30 days\n",
    "- **PhysHlth**: physical illness or injury days in past 30 days scale 1-30\n",
    "- **DiffWalk**: Do you have serious difficulty walking or climbing stairs? 0 = no 1 = yes\n",
    "- **Stroke**: you ever had a stroke. 0 = no, 1 = yes\n",
    "- **HighBP**: 0 = no high, BP 1 = high BP  \n",
    "\n",
    "### Research questions and hypothesis\n",
    "- Hypothesis: older people are at higher risk of diabetes\n",
    "- What kind of life style contributes or prevents diabetes?"
   ]
  },
  {
   "cell_type": "code",
   "execution_count": null,
   "metadata": {},
   "outputs": [],
   "source": [
    "df = pd.read_csv('data/raw_data/diabetes_data.csv')\n",
    "df.shape"
   ]
  },
  {
   "cell_type": "code",
   "execution_count": null,
   "metadata": {},
   "outputs": [],
   "source": [
    "df.head()"
   ]
  },
  {
   "cell_type": "code",
   "execution_count": 7,
   "metadata": {},
   "outputs": [
    {
     "data": {
      "text/plain": [
       "True"
      ]
     },
     "execution_count": 7,
     "metadata": {},
     "output_type": "execute_result"
    }
   ],
   "source": [
    "from dotenv import load_dotenv\n",
    "load_dotenv()"
   ]
  },
  {
   "cell_type": "code",
   "execution_count": 8,
   "metadata": {},
   "outputs": [
    {
     "name": "stderr",
     "output_type": "stream",
     "text": [
      "/opt/anaconda3/envs/ai-playground/lib/python3.11/site-packages/sentence_transformers/cross_encoder/CrossEncoder.py:13: TqdmWarning: IProgress not found. Please update jupyter and ipywidgets. See https://ipywidgets.readthedocs.io/en/stable/user_install.html\n",
      "  from tqdm.autonotebook import tqdm, trange\n",
      "/opt/anaconda3/envs/ai-playground/lib/python3.11/site-packages/transformers/tokenization_utils_base.py:1601: FutureWarning: `clean_up_tokenization_spaces` was not set. It will be set to `True` by default. This behavior will be depracted in transformers v4.45, and will be then set to `False` by default. For more details check this issue: https://github.com/huggingface/transformers/issues/31884\n",
      "  warnings.warn(\n",
      "/opt/anaconda3/envs/ai-playground/lib/python3.11/site-packages/transformers/tokenization_utils_base.py:1601: FutureWarning: `clean_up_tokenization_spaces` was not set. It will be set to `True` by default. This behavior will be depracted in transformers v4.45, and will be then set to `False` by default. For more details check this issue: https://github.com/huggingface/transformers/issues/31884\n",
      "  warnings.warn(\n",
      "/opt/anaconda3/envs/ai-playground/lib/python3.11/site-packages/langgraph/graph/graph.py:36: LangChainDeprecationWarning: As of langchain-core 0.3.0, LangChain uses pydantic v2 internally. The langchain_core.pydantic_v1 module was a compatibility shim for pydantic v1, and should no longer be used. Please update the code to import from Pydantic directly.\n",
      "\n",
      "For example, replace imports like: `from langchain_core.pydantic_v1 import BaseModel`\n",
      "with: `from pydantic import BaseModel`\n",
      "or the v1 compatibility namespace if you are working in a code base that has not been fully upgraded to pydantic 2 yet. \tfrom pydantic.v1 import BaseModel\n",
      "\n",
      "  from langgraph.pregel import Channel, Pregel\n"
     ]
    }
   ],
   "source": [
    "from utils.graphs import compile_analysis_graph"
   ]
  },
  {
   "cell_type": "code",
   "execution_count": 9,
   "metadata": {},
   "outputs": [
    {
     "name": "stderr",
     "output_type": "stream",
     "text": [
      "/Users/zding/Documents/aibootcamp/code/AIE4-DemoDay/utils/agent_helper.py:83: LangChainDeprecationWarning: The method `BaseChatOpenAI.bind_functions` was deprecated in langchain-openai 0.2.1 and will be removed in 0.3.0. Use :meth:`~langchain_openai.chat_models.base.ChatOpenAI.bind_tools` instead.\n",
      "  | llm.bind_functions(functions=[function_def], function_call=\"route\")\n",
      "INFO:httpx:HTTP Request: POST https://api.openai.com/v1/assistants \"HTTP/1.1 200 OK\"\n"
     ]
    },
    {
     "name": "stdout",
     "output_type": "stream",
     "text": [
      "187 documents loaded!\n",
      "4733 documents loaded!\n"
     ]
    }
   ],
   "source": [
    "graph = compile_analysis_graph()"
   ]
  },
  {
   "cell_type": "code",
   "execution_count": 10,
   "metadata": {},
   "outputs": [],
   "source": [
    "question = \"what is the relationship between life style and diabetes?\"\n",
    "file_path = \"data/raw_data/diabetes_data.csv\""
   ]
  },
  {
   "cell_type": "code",
   "execution_count": null,
   "metadata": {},
   "outputs": [],
   "source": [
    "for s in graph.stream(question, file_path=file_path):\n",
    "    if \"__end__\" not in s:\n",
    "        print(s)\n",
    "        print(\"---\")"
   ]
  },
  {
   "cell_type": "code",
   "execution_count": 16,
   "metadata": {},
   "outputs": [],
   "source": [
    "\n",
    "analysis = []\n",
    "references = []\n"
   ]
  },
  {
   "cell_type": "code",
   "execution_count": 17,
   "metadata": {},
   "outputs": [
    {
     "name": "stderr",
     "output_type": "stream",
     "text": [
      "INFO:httpx:HTTP Request: POST https://api.openai.com/v1/files \"HTTP/1.1 200 OK\"\n",
      "INFO:root:File uploaded successfully with ID: file-AaCoCE6s3rBAgEpri0yWTzxf\n",
      "INFO:httpx:HTTP Request: POST https://api.openai.com/v1/threads \"HTTP/1.1 200 OK\"\n",
      "INFO:root:Thread created successfully with ID: thread_srWJAYpazyZCiojWgjAPjlc7\n",
      "INFO:httpx:HTTP Request: POST https://api.openai.com/v1/threads/thread_srWJAYpazyZCiojWgjAPjlc7/messages \"HTTP/1.1 200 OK\"\n",
      "INFO:httpx:HTTP Request: POST https://api.openai.com/v1/threads/thread_srWJAYpazyZCiojWgjAPjlc7/runs \"HTTP/1.1 200 OK\"\n",
      "INFO:httpx:HTTP Request: GET https://api.openai.com/v1/threads/thread_srWJAYpazyZCiojWgjAPjlc7/runs/run_yBu5T6sndM4aHcOZkErUFWnF \"HTTP/1.1 200 OK\"\n",
      "INFO:httpx:HTTP Request: GET https://api.openai.com/v1/threads/thread_srWJAYpazyZCiojWgjAPjlc7/runs/run_yBu5T6sndM4aHcOZkErUFWnF \"HTTP/1.1 200 OK\"\n",
      "INFO:httpx:HTTP Request: GET https://api.openai.com/v1/threads/thread_srWJAYpazyZCiojWgjAPjlc7/runs/run_yBu5T6sndM4aHcOZkErUFWnF \"HTTP/1.1 200 OK\"\n",
      "INFO:httpx:HTTP Request: GET https://api.openai.com/v1/threads/thread_srWJAYpazyZCiojWgjAPjlc7/runs/run_yBu5T6sndM4aHcOZkErUFWnF \"HTTP/1.1 200 OK\"\n",
      "INFO:httpx:HTTP Request: GET https://api.openai.com/v1/threads/thread_srWJAYpazyZCiojWgjAPjlc7/runs/run_yBu5T6sndM4aHcOZkErUFWnF \"HTTP/1.1 200 OK\"\n",
      "INFO:httpx:HTTP Request: GET https://api.openai.com/v1/threads/thread_srWJAYpazyZCiojWgjAPjlc7/runs/run_yBu5T6sndM4aHcOZkErUFWnF \"HTTP/1.1 200 OK\"\n",
      "INFO:httpx:HTTP Request: GET https://api.openai.com/v1/threads/thread_srWJAYpazyZCiojWgjAPjlc7/runs/run_yBu5T6sndM4aHcOZkErUFWnF \"HTTP/1.1 200 OK\"\n",
      "INFO:httpx:HTTP Request: GET https://api.openai.com/v1/threads/thread_srWJAYpazyZCiojWgjAPjlc7/runs/run_yBu5T6sndM4aHcOZkErUFWnF \"HTTP/1.1 200 OK\"\n",
      "INFO:httpx:HTTP Request: GET https://api.openai.com/v1/threads/thread_srWJAYpazyZCiojWgjAPjlc7/runs/run_yBu5T6sndM4aHcOZkErUFWnF \"HTTP/1.1 200 OK\"\n",
      "INFO:httpx:HTTP Request: GET https://api.openai.com/v1/threads/thread_srWJAYpazyZCiojWgjAPjlc7/runs/run_yBu5T6sndM4aHcOZkErUFWnF \"HTTP/1.1 200 OK\"\n",
      "INFO:httpx:HTTP Request: GET https://api.openai.com/v1/threads/thread_srWJAYpazyZCiojWgjAPjlc7/runs/run_yBu5T6sndM4aHcOZkErUFWnF \"HTTP/1.1 200 OK\"\n",
      "INFO:httpx:HTTP Request: GET https://api.openai.com/v1/threads/thread_srWJAYpazyZCiojWgjAPjlc7/runs/run_yBu5T6sndM4aHcOZkErUFWnF \"HTTP/1.1 200 OK\"\n",
      "INFO:httpx:HTTP Request: GET https://api.openai.com/v1/threads/thread_srWJAYpazyZCiojWgjAPjlc7/runs/run_yBu5T6sndM4aHcOZkErUFWnF \"HTTP/1.1 200 OK\"\n",
      "INFO:httpx:HTTP Request: GET https://api.openai.com/v1/threads/thread_srWJAYpazyZCiojWgjAPjlc7/runs/run_yBu5T6sndM4aHcOZkErUFWnF \"HTTP/1.1 200 OK\"\n",
      "INFO:httpx:HTTP Request: GET https://api.openai.com/v1/threads/thread_srWJAYpazyZCiojWgjAPjlc7/runs/run_yBu5T6sndM4aHcOZkErUFWnF \"HTTP/1.1 200 OK\"\n",
      "INFO:httpx:HTTP Request: GET https://api.openai.com/v1/threads/thread_srWJAYpazyZCiojWgjAPjlc7/runs/run_yBu5T6sndM4aHcOZkErUFWnF \"HTTP/1.1 200 OK\"\n",
      "INFO:httpx:HTTP Request: GET https://api.openai.com/v1/threads/thread_srWJAYpazyZCiojWgjAPjlc7/runs/run_yBu5T6sndM4aHcOZkErUFWnF \"HTTP/1.1 200 OK\"\n",
      "INFO:httpx:HTTP Request: GET https://api.openai.com/v1/threads/thread_srWJAYpazyZCiojWgjAPjlc7/runs/run_yBu5T6sndM4aHcOZkErUFWnF \"HTTP/1.1 200 OK\"\n",
      "INFO:httpx:HTTP Request: GET https://api.openai.com/v1/threads/thread_srWJAYpazyZCiojWgjAPjlc7/runs/run_yBu5T6sndM4aHcOZkErUFWnF \"HTTP/1.1 200 OK\"\n",
      "INFO:httpx:HTTP Request: GET https://api.openai.com/v1/threads/thread_srWJAYpazyZCiojWgjAPjlc7/runs/run_yBu5T6sndM4aHcOZkErUFWnF \"HTTP/1.1 200 OK\"\n",
      "INFO:httpx:HTTP Request: GET https://api.openai.com/v1/threads/thread_srWJAYpazyZCiojWgjAPjlc7/runs/run_yBu5T6sndM4aHcOZkErUFWnF \"HTTP/1.1 200 OK\"\n",
      "INFO:httpx:HTTP Request: GET https://api.openai.com/v1/threads/thread_srWJAYpazyZCiojWgjAPjlc7/runs/run_yBu5T6sndM4aHcOZkErUFWnF \"HTTP/1.1 200 OK\"\n",
      "INFO:httpx:HTTP Request: GET https://api.openai.com/v1/threads/thread_srWJAYpazyZCiojWgjAPjlc7/runs/run_yBu5T6sndM4aHcOZkErUFWnF \"HTTP/1.1 200 OK\"\n",
      "INFO:httpx:HTTP Request: GET https://api.openai.com/v1/threads/thread_srWJAYpazyZCiojWgjAPjlc7/runs/run_yBu5T6sndM4aHcOZkErUFWnF \"HTTP/1.1 200 OK\"\n",
      "INFO:httpx:HTTP Request: GET https://api.openai.com/v1/threads/thread_srWJAYpazyZCiojWgjAPjlc7/runs/run_yBu5T6sndM4aHcOZkErUFWnF \"HTTP/1.1 200 OK\"\n",
      "INFO:httpx:HTTP Request: GET https://api.openai.com/v1/threads/thread_srWJAYpazyZCiojWgjAPjlc7/runs/run_yBu5T6sndM4aHcOZkErUFWnF \"HTTP/1.1 200 OK\"\n",
      "INFO:httpx:HTTP Request: GET https://api.openai.com/v1/threads/thread_srWJAYpazyZCiojWgjAPjlc7/runs/run_yBu5T6sndM4aHcOZkErUFWnF \"HTTP/1.1 200 OK\"\n",
      "INFO:httpx:HTTP Request: GET https://api.openai.com/v1/threads/thread_srWJAYpazyZCiojWgjAPjlc7/messages?order=asc \"HTTP/1.1 200 OK\"\n",
      "INFO:httpx:HTTP Request: GET https://api.openai.com/v1/threads/thread_srWJAYpazyZCiojWgjAPjlc7/messages?order=asc&after=msg_ydMVjmF0C4YyR1dZhhhIAw7n \"HTTP/1.1 200 OK\"\n",
      "INFO:root:Assistant invocation results: Message(id='msg_ydMVjmF0C4YyR1dZhhhIAw7n', assistant_id='asst_NpdcM28DYm16BtJYL74RA7Io', attachments=[], completed_at=None, content=[ImageFileContentBlock(image_file=ImageFile(file_id='file-zRXsjiB3h5c1Xmzj4rL4pPIu', detail=None), type='image_file'), TextContentBlock(text=Text(annotations=[], value='The visualizations illustrate the relationship between various lifestyle factors and diabetes prevalence:\\n\\n1. **Physical Activity**: \\n   - Individuals who engage in physical activity (1.0) show a significantly lower prevalence of diabetes compared to those who do not (0.0) as indicated by the blue bar heights. \\n\\n2. **Fruit Consumption**: \\n   - Those who consume fruits (1.0) have a slightly lower prevalence of diabetes compared to those who do not (0.0). However, the difference is not as stark as seen with physical activity.\\n\\n3. **Vegetable Consumption**: \\n   - Similar to fruit consumption, individuals consuming vegetables (1.0) tend to show lower diabetes prevalence, but the distinction is less pronounced compared to physical activity.\\n\\n4. **Smoking Status**: \\n   - Smokers (1.0) have a higher prevalence of diabetes compared to non-smokers (0.0), highlighting smoking as a risk factor.\\n\\n### Summary of Insights:\\n- **Physical activity** and **non-smoking** appear to be protective factors against diabetes.\\n- **Consumption of fruits and vegetables** shows some association with lower diabetes rates but is less decisive.\\n- The patterns suggest that promoting a more active lifestyle and reducing smoking can contribute positively to preventing diabetes.\\n\\nThese results emphasize the importance of lifestyle choices in managing and preventing diabetes.'), type='text')], created_at=1729654000, incomplete_at=None, incomplete_details=None, metadata={}, object='thread.message', role='assistant', run_id='run_yBu5T6sndM4aHcOZkErUFWnF', status=None, thread_id='thread_srWJAYpazyZCiojWgjAPjlc7')\n",
      "INFO:httpx:HTTP Request: GET https://api.openai.com/v1/files/file-zRXsjiB3h5c1Xmzj4rL4pPIu/content \"HTTP/1.1 200 OK\"\n",
      "INFO:root:Image saved successfully to: data/data_visualisation/plot_20241022232647.png\n",
      "INFO:httpx:HTTP Request: POST https://api.openai.com/v1/chat/completions \"HTTP/1.1 200 OK\"\n",
      "INFO:httpx:HTTP Request: POST https://api.openai.com/v1/chat/completions \"HTTP/1.1 200 OK\"\n",
      "INFO:httpx:HTTP Request: POST https://api.openai.com/v1/chat/completions \"HTTP/1.1 200 OK\"\n"
     ]
    }
   ],
   "source": [
    "for chunk in graph.stream(question, file_path=file_path):\n",
    "        \n",
    "    for role, values in chunk.items():\n",
    "        # Extract messages from values\n",
    "        if \"messages\" in values:\n",
    "            if role == 'Visualisation':\n",
    "                analysis.append(values[\"messages\"][0].content)\n",
    "            else:\n",
    "                references.extend([v.content for v in values[\"messages\"]])"
   ]
  },
  {
   "cell_type": "code",
   "execution_count": 18,
   "metadata": {},
   "outputs": [
    {
     "data": {
      "text/plain": [
       "'The visualizations illustrate the relationship between various lifestyle factors and diabetes prevalence:\\n\\n1. **Physical Activity**: \\n   - Individuals who engage in physical activity (1.0) show a significantly lower prevalence of diabetes compared to those who do not (0.0) as indicated by the blue bar heights. \\n\\n2. **Fruit Consumption**: \\n   - Those who consume fruits (1.0) have a slightly lower prevalence of diabetes compared to those who do not (0.0). However, the difference is not as stark as seen with physical activity.\\n\\n3. **Vegetable Consumption**: \\n   - Similar to fruit consumption, individuals consuming vegetables (1.0) tend to show lower diabetes prevalence, but the distinction is less pronounced compared to physical activity.\\n\\n4. **Smoking Status**: \\n   - Smokers (1.0) have a higher prevalence of diabetes compared to non-smokers (0.0), highlighting smoking as a risk factor.\\n\\n### Summary of Insights:\\n- **Physical activity** and **non-smoking** appear to be protective factors against diabetes.\\n- **Consumption of fruits and vegetables** shows some association with lower diabetes rates but is less decisive.\\n- The patterns suggest that promoting a more active lifestyle and reducing smoking can contribute positively to preventing diabetes.\\n\\nThese results emphasize the importance of lifestyle choices in managing and preventing diabetes.'"
      ]
     },
     "execution_count": 18,
     "metadata": {},
     "output_type": "execute_result"
    }
   ],
   "source": [
    "analysis[0]"
   ]
  },
  {
   "cell_type": "code",
   "execution_count": 20,
   "metadata": {},
   "outputs": [
    {
     "data": {
      "text/plain": [
       "'The data visualizations provide insights into the relationship between lifestyle factors and diabetes prevalence:\\n\\n1. **Physical Activity**: Engaging in physical activity is associated with a significantly lower prevalence of diabetes, indicating it as a protective factor.\\n\\n2. **Fruit Consumption**: Individuals who consume fruits show a slightly lower prevalence of diabetes, although the difference is not as pronounced as with physical activity.\\n\\n3. **Vegetable Consumption**: Similar to fruit consumption, those who eat vegetables tend to have lower diabetes prevalence, but again, the distinction is less marked compared to physical activity.\\n\\n4. **Smoking Status**: Smokers exhibit a higher prevalence of diabetes than non-smokers, identifying smoking as a risk factor.\\n\\n### Summary:\\n- Promoting physical activity and non-smoking can help in preventing diabetes.\\n- The consumption of fruits and vegetables may also have a beneficial effect, though less definitively. \\n\\nThese findings underscore the significant role of lifestyle choices in diabetes management and prevention.'"
      ]
     },
     "execution_count": 20,
     "metadata": {},
     "output_type": "execute_result"
    }
   ],
   "source": [
    "references[0]"
   ]
  },
  {
   "cell_type": "code",
   "execution_count": 15,
   "metadata": {},
   "outputs": [
    {
     "data": {
      "text/plain": [
       "'## Data Analysis:\\n### Insights from the Analysis:\\n\\n1. **Physical Activity**:\\n   - **Active Individuals**: There is a significantly lower prevalence of diabetes among those who engage in physical activity compared to those who do not. This suggests that regular physical activity may help in reducing the risk of developing diabetes.\\n   - **Inactive Individuals**: The prevalence of diabetes is higher in those not participating in any physical activity.\\n\\n2. **Fruit Consumption**:\\n   - **Fruit Consumers**: Individuals who consume fruits show a marginally lower prevalence of diabetes compared to those who do not consume fruits.\\n   - **Non-consumers**: The counts indicate a higher number of diabetes cases among those not consuming fruits.\\n\\n3. **Vegetable Consumption**:\\n   - **Vegetable Consumers**: Similar to fruit consumption, those who eat vegetables tend to have a lower prevalence of diabetes.\\n   - **Non-consumers**: The count is noticeably higher for diabetes cases among individuals who do not consume vegetables regularly.\\n\\n4. **Smoking Status**:\\n   - **Non-Smokers**: The relationship shows that non-smokers exhibit a slightly lower prevalence of diabetes compared to smokers.\\n   - **Smokers**: There is a higher count of diabetes cases among smokers, indicating a potential correlation between smoking and increased diabetes risk.\\n\\n### Conclusion:\\nThe data suggests that lifestyle factors such as physical activity, and the consumption of fruits and vegetables are associated with lower rates of diabetes. In contrast, sedentarism and smoking are linked with higher diabetes prevalence. These insights underline the importance of healthy lifestyle choices in managing and preventing diabetes.:\\n\\n## References:\\nThe relationship between lifestyle and diabetes is significant, as various lifestyle factors can influence the risk and management of the disease. \\n\\n1. **Physical Activity**: Engaging in regular physical activity is associated with a lower prevalence of diabetes. Inactive individuals show a higher prevalence of the condition.\\n\\n2. **Dietary Habits**: \\n   - **Fruit and Vegetable Consumption**: Individuals who consume fruits and vegetables regularly tend to have a lower prevalence of diabetes compared to non-consumers.\\n   \\n3. **Smoking**: Non-smokers exhibit a lower prevalence of diabetes than smokers, indicating that smoking may increase the risk of developing diabetes.\\n\\nThe \"Textbook of Diabetes\" further emphasizes the importance of lifestyle choices, such as diet and exercise, in diabetes management and prevention. It also discusses how healthcare professionals can support individuals in making lifestyle changes to improve their health and manage diabetes effectively. Additionally, the book highlights the need for psychological support for individuals facing discrimination related to diabetes (Holt et al., 2017).'"
      ]
     },
     "execution_count": 15,
     "metadata": {},
     "output_type": "execute_result"
    }
   ],
   "source": [
    "references = '\\n'.join(references)\n",
    "text = f\"## Data Analysis:\\n{analysis[0]}:\\n\\n## References:\\n{references}\"\n",
    "text"
   ]
  },
  {
   "cell_type": "code",
   "execution_count": 1,
   "metadata": {},
   "outputs": [],
   "source": [
    "import pickle"
   ]
  },
  {
   "cell_type": "code",
   "execution_count": 2,
   "metadata": {},
   "outputs": [
    {
     "name": "stdout",
     "output_type": "stream",
     "text": [
      "Processing data/text_books/Textbook-of-Diabetes-2024.pdf...\n",
      "[                                        ] (0/1229[                                        ] (   1/122[                                        ] (   2/122[                                        ] (   3/122[                                        ] (   4/122[                                        ] (   5/122[                                        ] (   6/122[                                        ] (   7/122[                                        ] (   8/122[                                        ] (   9/122[                                        ] (  10/122[                                        ] (  11/122[                                        ] (  12/122[                                        ] (  13/122[                                        ] (  14/122[                                        ] (  15/122[                                        ] (  16/122[                                        ] (  17/122[                                        ] (  18/122[                                        ] (  19/122[                                        ] (  20/122[                                        ] (  21/122[                                        ] (  22/122[                                        ] (  23/122[                                        ] (  24/122[                                        ] (  25/122[                                        ] (  26/122[                                        ] (  27/122[                                        ] (  28/122[                                        ] (  29/122[                                        ] (  30/1229[=                                       ] (  31/1229[=                                       ] (  32/1229[=                                       ] (  33/12[=                                       ] (  34/12[=                                       ] (  35/12[=                                       ] (  36/12[=                                       ] (  37/12[=                                       ] (  38/12[=                                       ] (  39/12[=                                       ] (  40/12[=                                       ] (  41/12[=                                       ] (  42/12[=                                       ] (  43/12[=                                       ] (  44/12[=                                       ] (  45/12[=                                       ] (  46/12[=                                       ] (  47/12[=                                       ] (  48/12[=                                       ] (  49/12[=                                       ] (  50/12[=                                       ] (  51/12[=                                       ] (  52/12[=                                       ] (  53/12[=                                       ] (  54/12[=                                       ] (  55/12[=                                       ] (  56/12[=                                       ] (  57/12[=                                       ] (  58/12[=                                       ] (  59/12[=                                       ] (  60/1229[=                                       ] (  61/122[==                                      ] (  62/122[==                                      ] (  63/122[==                                      ] (  64/122[==                                      ] (  65/122[==                                      ] (  66/122[==                                      ] (  67/122[==                                      ] (  68/122[==                                      ] (  69/122[==                                      ] (  70/122[==                                      ] (  71/122[==                                      ] (  72/122[==                                      ] (  73/122[==                                      ] (  74/122[==                                      ] (  75/122[==                                      ] (  76/122[==                                      ] (  77/122[==                                      ] (  78/122[==                                      ] (  79/122[==                                      ] (  80/122[==                                      ] (  81/122[==                                      ] (  82/122[==                                      ] (  83/122[==                                      ] (  84/122[==                                      ] (  85/122[==                                      ] (  86/122[==                                      ] (  87/122[==                                      ] (  88/122[==                                      ] (  89/122[==                                      ] (  90/122[==                                      ] (  91/122[==                                      ] (  92/1229[===                                     ] (  93/12[===                                     ] (  94/12[===                                     ] (  95/1229[===                                     ] (  96/1229[===                                     ] (  97/12[===                                     ] (  98/12[===                                     ] (  99/12[===                                     ] ( 100/12[===                                     ] ( 101/12[===                                     ] ( 102/12[===                                     ] ( 103/12[===                                     ] ( 104/12[===                                     ] ( 105/12[===                                     ] ( 106/12[===                                     ] ( 107/12[===                                     ] ( 108/12[===                                     ] ( 109/12[===                                     ] ( 110/12[===                                     ] ( 111/12[===                                     ] ( 112/12[===                                     ] ( 113/12[===                                     ] ( 114/1229[===                                     ] ( 115/12[===                                     ] ( 116/12[===                                     ] ( 117/12[===                                     ] ( 118/1229[===                                     ] ( 119/12[===                                     ] ( 120/12[===                                     ] ( 121/12[===                                     ] ( 122/122[====                                    ] ( 123/122[====                                    ] ( 124/122[====                                    ] ( 125/122[====                                    ] ( 126/122[====                                    ] ( 127/122[====                                    ] ( 128/122[====                                    ] ( 129/122[====                                    ] ( 130/122[====                                    ] ( 131/122[====                                    ] ( 132/122[====                                    ] ( 133/122[====                                    ] ( 134/122[====                                    ] ( 135/122[====                                    ] ( 136/122[====                                    ] ( 137/122[====                                    ] ( 138/122[====                                    ] ( 139/122[====                                    ] ( 140/122[====                                    ] ( 141/122[====                                    ] ( 142/122[====                                    ] ( 143/122[====                                    ] ( 144/122[====                                    ] ( 145/122[====                                    ] ( 146/122[====                                    ] ( 147/122[====                                    ] ( 148/122[====                                    ] ( 149/122[====                                    ] ( 150/122[====                                    ] ( 151/122[====                                    ] ( 152/122[====                                    ] ( 153/1229[=====                                   ] ( 154/12[=====                                   ] ( 155/12[=====                                   ] ( 156/12[=====                                   ] ( 157/12[=====                                   ] ( 158/12[=====                                   ] ( 159/12[=====                                   ] ( 160/12[=====                                   ] ( 161/1229[=====                                   ] ( 162/12[=====                                   ] ( 163/12[=====                                   ] ( 164/12[=====                                   ] ( 165/12[=====                                   ] ( 166/12[=====                                   ] ( 167/12[=====                                   ] ( 168/12[=====                                   ] ( 169/12[=====                                   ] ( 170/12[=====                                   ] ( 171/12[=====                                   ] ( 172/12[=====                                   ] ( 173/12[=====                                   ] ( 174/12[=====                                   ] ( 175/1229[=====                                   ] ( 176/1229[=====                                   ] ( 177/12[=====                                   ] ( 178/12[=====                                   ] ( 179/12[=====                                   ] ( 180/12[=====                                   ] ( 181/12[=====                                   ] ( 182/12[=====                                   ] ( 183/12[=====                                   ] ( 184/122[======                                  ] ( 185/122[======                                  ] ( 186/122[======                                  ] ( 187/122[======                                  ] ( 188/122[======                                  ] ( 189/122[======                                  ] ( 190/122[======                                  ] ( 191/122[======                                  ] ( 192/122[======                                  ] ( 193/122[======                                  ] ( 194/122[======                                  ] ( 195/122[======                                  ] ( 196/122[======                                  ] ( 197/122[======                                  ] ( 198/122[======                                  ] ( 199/122[======                                  ] ( 200/122[======                                  ] ( 201/122[======                                  ] ( 202/122[======                                  ] ( 203/122[======                                  ] ( 204/122[======                                  ] ( 205/122[======                                  ] ( 206/122[======                                  ] ( 207/122[======                                  ] ( 208/122[======                                  ] ( 209/122[======                                  ] ( 210/122[======                                  ] ( 211/122[======                                  ] ( 212/122[======                                  ] ( 213/122[======                                  ] ( 214/122[======                                  ] ( 215/1229[=======                                 ] ( 216/12[=======                                 ] ( 217/12[=======                                 ] ( 218/12[=======                                 ] ( 219/12[=======                                 ] ( 220/12[=======                                 ] ( 221/12[=======                                 ] ( 222/1229[=======                                 ] ( 223/12[=======                                 ] ( 224/12[=======                                 ] ( 225/12[=======                                 ] ( 226/12[=======                                 ] ( 227/12[=======                                 ] ( 228/1229[=======                                 ] ( 229/12[=======                                 ] ( 230/12[=======                                 ] ( 231/12[=======                                 ] ( 232/12[=======                                 ] ( 233/12[=======                                 ] ( 234/1229[=======                                 ] ( 235/12[=======                                 ] ( 236/12[=======                                 ] ( 237/12[=======                                 ] ( 238/12[=======                                 ] ( 239/12[=======                                 ] ( 240/12[=======                                 ] ( 241/12[=======                                 ] ( 242/12[=======                                 ] ( 243/12[=======                                 ] ( 244/12[=======                                 ] ( 245/122[========                                ] ( 246/122[========                                ] ( 247/122[========                                ] ( 248/122[========                                ] ( 249/122[========                                ] ( 250/122[========                                ] ( 251/122[========                                ] ( 252/122[========                                ] ( 253/122[========                                ] ( 254/122[========                                ] ( 255/122[========                                ] ( 256/122[========                                ] ( 257/122[========                                ] ( 258/122[========                                ] ( 259/122[========                                ] ( 260/122[========                                ] ( 261/122[========                                ] ( 262/122[========                                ] ( 263/122[========                                ] ( 264/122[========                                ] ( 265/122[========                                ] ( 266/122[========                                ] ( 267/122[========                                ] ( 268/122[========                                ] ( 269/122[========                                ] ( 270/122[========                                ] ( 271/122[========                                ] ( 272/122[========                                ] ( 273/122[========                                ] ( 274/122[========                                ] ( 275/122[========                                ] ( 276/1229[=========                               ] ( 277/1229[=========                               ] ( 278/12[=========                               ] ( 279/12[=========                               ] ( 280/12[=========                               ] ( 281/12[=========                               ] ( 282/12[=========                               ] ( 283/12[=========                               ] ( 284/12[=========                               ] ( 285/12[=========                               ] ( 286/12[=========                               ] ( 287/12[=========                               ] ( 288/12[=========                               ] ( 289/12[=========                               ] ( 290/12[=========                               ] ( 291/12[=========                               ] ( 292/1229[=========                               ] ( 293/1229[=========                               ] ( 294/1229[=========                               ] ( 295/12[=========                               ] ( 296/12[=========                               ] ( 297/12[=========                               ] ( 298/12[=========                               ] ( 299/12[=========                               ] ( 300/12[=========                               ] ( 301/12[=========                               ] ( 302/12[=========                               ] ( 303/12[=========                               ] ( 304/12[=========                               ] ( 305/12[=========                               ] ( 306/12[=========                               ] ( 307/122[==========                              ] ( 308/122[==========                              ] ( 309/122[==========                              ] ( 310/122[==========                              ] ( 311/122[==========                              ] ( 312/122[==========                              ] ( 313/122[==========                              ] ( 314/122[==========                              ] ( 315/122[==========                              ] ( 316/122[==========                              ] ( 317/122[==========                              ] ( 318/122[==========                              ] ( 319/122[==========                              ] ( 320/122[==========                              ] ( 321/122[==========                              ] ( 322/122[==========                              ] ( 323/122[==========                              ] ( 324/122[==========                              ] ( 325/122[==========                              ] ( 326/122[==========                              ] ( 327/122[==========                              ] ( 328/122[==========                              ] ( 329/122[==========                              ] ( 330/122[==========                              ] ( 331/122[==========                              ] ( 332/122[==========                              ] ( 333/122[==========                              ] ( 334/122[==========                              ] ( 335/122[==========                              ] ( 336/122[==========                              ] ( 337/1229[===========                             ] ( 338/12[===========                             ] ( 339/12[===========                             ] ( 340/12[===========                             ] ( 341/12[===========                             ] ( 342/1229[===========                             ] ( 343/12[===========                             ] ( 344/1229[===========                             ] ( 345/12[===========                             ] ( 346/12[===========                             ] ( 347/12[===========                             ] ( 348/12[===========                             ] ( 349/12[===========                             ] ( 350/12[===========                             ] ( 351/12[===========                             ] ( 352/12[===========                             ] ( 353/12[===========                             ] ( 354/12[===========                             ] ( 355/12[===========                             ] ( 356/12[===========                             ] ( 357/12[===========                             ] ( 358/12[===========                             ] ( 359/12[===========                             ] ( 360/1229[===========                             ] ( 361/1229[===========                             ] ( 362/1229[===========                             ] ( 363/12[===========                             ] ( 364/12[===========                             ] ( 365/12[===========                             ] ( 366/12[===========                             ] ( 367/1229[===========                             ] ( 368/122[============                            ] ( 369/122[============                            ] ( 370/122[============                            ] ( 371/122[============                            ] ( 372/122[============                            ] ( 373/122[============                            ] ( 374/122[============                            ] ( 375/122[============                            ] ( 376/122[============                            ] ( 377/122[============                            ] ( 378/122[============                            ] ( 379/122[============                            ] ( 380/122[============                            ] ( 381/122[============                            ] ( 382/122[============                            ] ( 383/122[============                            ] ( 384/122[============                            ] ( 385/122[============                            ] ( 386/122[============                            ] ( 387/122[============                            ] ( 388/122[============                            ] ( 389/122[============                            ] ( 390/122[============                            ] ( 391/122[============                            ] ( 392/122[============                            ] ( 393/122[============                            ] ( 394/122[============                            ] ( 395/122[============                            ] ( 396/122[============                            ] ( 397/122[============                            ] ( 398/122[============                            ] ( 399/1229[=============                           ] ( 400/12[=============                           ] ( 401/1229[=============                           ] ( 402/12[=============                           ] ( 403/12[=============                           ] ( 404/12[=============                           ] ( 405/12[=============                           ] ( 406/1229[=============                           ] ( 407/12[=============                           ] ( 408/1229[=============                           ] ( 409/12[=============                           ] ( 410/12[=============                           ] ( 411/12[=============                           ] ( 412/12[=============                           ] ( 413/12[=============                           ] ( 414/12[=============                           ] ( 415/1229[=============                           ] ( 416/12[=============                           ] ( 417/12[=============                           ] ( 418/12[=============                           ] ( 419/12[=============                           ] ( 420/12[=============                           ] ( 421/12[=============                           ] ( 422/12[=============                           ] ( 423/12[=============                           ] ( 424/12[=============                           ] ( 425/12[=============                           ] ( 426/12[=============                           ] ( 427/12[=============                           ] ( 428/12[=============                           ] ( 429/1229[=============                           ] ( 430/122[==============                          ] ( 431/122[==============                          ] ( 432/122[==============                          ] ( 433/122[==============                          ] ( 434/122[==============                          ] ( 435/122[==============                          ] ( 436/122[==============                          ] ( 437/122[==============                          ] ( 438/122[==============                          ] ( 439/122[==============                          ] ( 440/122[==============                          ] ( 441/122[==============                          ] ( 442/122[==============                          ] ( 443/122[==============                          ] ( 444/122[==============                          ] ( 445/122[==============                          ] ( 446/122[==============                          ] ( 447/122[==============                          ] ( 448/122[==============                          ] ( 449/122[==============                          ] ( 450/122[==============                          ] ( 451/122[==============                          ] ( 452/122[==============                          ] ( 453/122[==============                          ] ( 454/122[==============                          ] ( 455/122[==============                          ] ( 456/122[==============                          ] ( 457/122[==============                          ] ( 458/122[==============                          ] ( 459/122[==============                          ] ( 460/1229[===============                         ] ( 461/12[===============                         ] ( 462/12[===============                         ] ( 463/12[===============                         ] ( 464/12[===============                         ] ( 465/12[===============                         ] ( 466/12[===============                         ] ( 467/1229[===============                         ] ( 468/12[===============                         ] ( 469/1229[===============                         ] ( 470/12[===============                         ] ( 471/12[===============                         ] ( 472/12[===============                         ] ( 473/1229[===============                         ] ( 474/12[===============                         ] ( 475/12[===============                         ] ( 476/1229[===============                         ] ( 477/12[===============                         ] ( 478/12[===============                         ] ( 479/12[===============                         ] ( 480/12[===============                         ] ( 481/12[===============                         ] ( 482/12[===============                         ] ( 483/12[===============                         ] ( 484/12[===============                         ] ( 485/12[===============                         ] ( 486/12[===============                         ] ( 487/12[===============                         ] ( 488/12[===============                         ] ( 489/12[===============                         ] ( 490/12[===============                         ] ( 491/122[================                        ] ( 492/122[================                        ] ( 493/122[================                        ] ( 494/122[================                        ] ( 495/122[================                        ] ( 496/122[================                        ] ( 497/122[================                        ] ( 498/122[================                        ] ( 499/122[================                        ] ( 500/122[================                        ] ( 501/122[================                        ] ( 502/122[================                        ] ( 503/122[================                        ] ( 504/122[================                        ] ( 505/122[================                        ] ( 506/122[================                        ] ( 507/122[================                        ] ( 508/122[================                        ] ( 509/122[================                        ] ( 510/122[================                        ] ( 511/122[================                        ] ( 512/122[================                        ] ( 513/122[================                        ] ( 514/122[================                        ] ( 515/122[================                        ] ( 516/122[================                        ] ( 517/122[================                        ] ( 518/122[================                        ] ( 519/122[================                        ] ( 520/122[================                        ] ( 521/122[================                        ] ( 522/1229[=================                       ] ( 523/12[=================                       ] ( 524/1229[=================                       ] ( 525/12[=================                       ] ( 526/12[=================                       ] ( 527/12[=================                       ] ( 528/12[=================                       ] ( 529/12[=================                       ] ( 530/12[=================                       ] ( 531/12[=================                       ] ( 532/1229[=================                       ] ( 533/12[=================                       ] ( 534/12[=================                       ] ( 535/12[=================                       ] ( 536/12[=================                       ] ( 537/12[=================                       ] ( 538/12[=================                       ] ( 539/12[=================                       ] ( 540/12[=================                       ] ( 541/12[=================                       ] ( 542/12[=================                       ] ( 543/12[=================                       ] ( 544/12[=================                       ] ( 545/12[=================                       ] ( 546/12[=================                       ] ( 547/12[=================                       ] ( 548/12[=================                       ] ( 549/12[=================                       ] ( 550/12[=================                       ] ( 551/12[=================                       ] ( 552/12[=================                       ] ( 553/122[==================                      ] ( 554/122[==================                      ] ( 555/122[==================                      ] ( 556/122[==================                      ] ( 557/122[==================                      ] ( 558/122[==================                      ] ( 559/122[==================                      ] ( 560/122[==================                      ] ( 561/122[==================                      ] ( 562/122[==================                      ] ( 563/122[==================                      ] ( 564/122[==================                      ] ( 565/122[==================                      ] ( 566/122[==================                      ] ( 567/122[==================                      ] ( 568/122[==================                      ] ( 569/122[==================                      ] ( 570/122[==================                      ] ( 571/122[==================                      ] ( 572/122[==================                      ] ( 573/122[==================                      ] ( 574/122[==================                      ] ( 575/122[==================                      ] ( 576/122[==================                      ] ( 577/122[==================                      ] ( 578/122[==================                      ] ( 579/122[==================                      ] ( 580/122[==================                      ] ( 581/122[==================                      ] ( 582/122[==================                      ] ( 583/1229[===================                     ] ( 584/12[===================                     ] ( 585/12[===================                     ] ( 586/1229[===================                     ] ( 587/12[===================                     ] ( 588/12[===================                     ] ( 589/1229[===================                     ] ( 590/12[===================                     ] ( 591/12[===================                     ] ( 592/12[===================                     ] ( 593/12[===================                     ] ( 594/12[===================                     ] ( 595/12[===================                     ] ( 596/12[===================                     ] ( 597/12[===================                     ] ( 598/12[===================                     ] ( 599/12[===================                     ] ( 600/12[===================                     ] ( 601/12[===================                     ] ( 602/12[===================                     ] ( 603/12[===================                     ] ( 604/12[===================                     ] ( 605/12[===================                     ] ( 606/12[===================                     ] ( 607/12[===================                     ] ( 608/12[===================                     ] ( 609/1229[===================                     ] ( 610/12[===================                     ] ( 611/12[===================                     ] ( 612/12[===================                     ] ( 613/1229[===================                     ] ( 614/122[====================                    ] ( 615/122[====================                    ] ( 616/122[====================                    ] ( 617/122[====================                    ] ( 618/122[====================                    ] ( 619/122[====================                    ] ( 620/122[====================                    ] ( 621/122[====================                    ] ( 622/122[====================                    ] ( 623/122[====================                    ] ( 624/122[====================                    ] ( 625/122[====================                    ] ( 626/122[====================                    ] ( 627/122[====================                    ] ( 628/122[====================                    ] ( 629/122[====================                    ] ( 630/122[====================                    ] ( 631/122[====================                    ] ( 632/122[====================                    ] ( 633/122[====================                    ] ( 634/122[====================                    ] ( 635/122[====================                    ] ( 636/122[====================                    ] ( 637/122[====================                    ] ( 638/122[====================                    ] ( 639/122[====================                    ] ( 640/122[====================                    ] ( 641/122[====================                    ] ( 642/122[====================                    ] ( 643/122[====================                    ] ( 644/122[====================                    ] ( 645/1229[=====================                   ] ( 646/12[=====================                   ] ( 647/1229[=====================                   ] ( 648/1229[=====================                   ] ( 649/12[=====================                   ] ( 650/12[=====================                   ] ( 651/12[=====================                   ] ( 652/12[=====================                   ] ( 653/12[=====================                   ] ( 654/12[=====================                   ] ( 655/12[=====================                   ] ( 656/12[=====================                   ] ( 657/12[=====================                   ] ( 658/12[=====================                   ] ( 659/12[=====================                   ] ( 660/12[=====================                   ] ( 661/12[=====================                   ] ( 662/12[=====================                   ] ( 663/12[=====================                   ] ( 664/1229[=====================                   ] ( 665/12[=====================                   ] ( 666/12[=====================                   ] ( 667/12[=====================                   ] ( 668/12[=====================                   ] ( 669/12[=====================                   ] ( 670/12[=====================                   ] ( 671/12[=====================                   ] ( 672/12[=====================                   ] ( 673/1229[=====================                   ] ( 674/12[=====================                   ] ( 675/122[======================                  ] ( 676/122[======================                  ] ( 677/122[======================                  ] ( 678/122[======================                  ] ( 679/122[======================                  ] ( 680/122[======================                  ] ( 681/122[======================                  ] ( 682/122[======================                  ] ( 683/122[======================                  ] ( 684/122[======================                  ] ( 685/122[======================                  ] ( 686/122[======================                  ] ( 687/122[======================                  ] ( 688/122[======================                  ] ( 689/122[======================                  ] ( 690/122[======================                  ] ( 691/122[======================                  ] ( 692/122[======================                  ] ( 693/122[======================                  ] ( 694/122[======================                  ] ( 695/122[======================                  ] ( 696/122[======================                  ] ( 697/122[======================                  ] ( 698/122[======================                  ] ( 699/122[======================                  ] ( 700/122[======================                  ] ( 701/122[======================                  ] ( 702/122[======================                  ] ( 703/122[======================                  ] ( 704/122[======================                  ] ( 705/122[======================                  ] ( 706/1229[=======================                 ] ( 707/12[=======================                 ] ( 708/12[=======================                 ] ( 709/12[=======================                 ] ( 710/12[=======================                 ] ( 711/12[=======================                 ] ( 712/12[=======================                 ] ( 713/12[=======================                 ] ( 714/12[=======================                 ] ( 715/12[=======================                 ] ( 716/12[=======================                 ] ( 717/1229[=======================                 ] ( 718/12[=======================                 ] ( 719/12[=======================                 ] ( 720/12[=======================                 ] ( 721/12[=======================                 ] ( 722/12[=======================                 ] ( 723/12[=======================                 ] ( 724/12[=======================                 ] ( 725/1229[=======================                 ] ( 726/12[=======================                 ] ( 727/12[=======================                 ] ( 728/12[=======================                 ] ( 729/12[=======================                 ] ( 730/1229[=======================                 ] ( 731/12[=======================                 ] ( 732/12[=======================                 ] ( 733/12[=======================                 ] ( 734/12[=======================                 ] ( 735/12[=======================                 ] ( 736/12[=======================                 ] ( 737/122[========================                ] ( 738/122[========================                ] ( 739/122[========================                ] ( 740/122[========================                ] ( 741/122[========================                ] ( 742/122[========================                ] ( 743/122[========================                ] ( 744/122[========================                ] ( 745/122[========================                ] ( 746/122[========================                ] ( 747/122[========================                ] ( 748/122[========================                ] ( 749/122[========================                ] ( 750/122[========================                ] ( 751/122[========================                ] ( 752/122[========================                ] ( 753/122[========================                ] ( 754/122[========================                ] ( 755/122[========================                ] ( 756/122[========================                ] ( 757/122[========================                ] ( 758/122[========================                ] ( 759/122[========================                ] ( 760/122[========================                ] ( 761/122[========================                ] ( 762/122[========================                ] ( 763/122[========================                ] ( 764/122[========================                ] ( 765/122[========================                ] ( 766/122[========================                ] ( 767/122[========================                ] ( 768/1229[=========================               ] ( 769/12[=========================               ] ( 770/12[=========================               ] ( 771/1229[=========================               ] ( 772/12[=========================               ] ( 773/12[=========================               ] ( 774/12[=========================               ] ( 775/12[=========================               ] ( 776/12[=========================               ] ( 777/12[=========================               ] ( 778/12[=========================               ] ( 779/12[=========================               ] ( 780/1229[=========================               ] ( 781/12[=========================               ] ( 782/1229[=========================               ] ( 783/12[=========================               ] ( 784/12[=========================               ] ( 785/1229[=========================               ] ( 786/12[=========================               ] ( 787/1229[=========================               ] ( 788/1229[=========================               ] ( 789/1229[=========================               ] ( 790/1229[=========================               ] ( 791/12[=========================               ] ( 792/12[=========================               ] ( 793/12[=========================               ] ( 794/12[=========================               ] ( 795/12[=========================               ] ( 796/12[=========================               ] ( 797/12[=========================               ] ( 798/122[==========================              ] ( 799/122[==========================              ] ( 800/122[==========================              ] ( 801/122[==========================              ] ( 802/122[==========================              ] ( 803/122[==========================              ] ( 804/122[==========================              ] ( 805/122[==========================              ] ( 806/122[==========================              ] ( 807/122[==========================              ] ( 808/122[==========================              ] ( 809/122[==========================              ] ( 810/122[==========================              ] ( 811/122[==========================              ] ( 812/122[==========================              ] ( 813/122[==========================              ] ( 814/122[==========================              ] ( 815/122[==========================              ] ( 816/122[==========================              ] ( 817/122[==========================              ] ( 818/122[==========================              ] ( 819/122[==========================              ] ( 820/122[==========================              ] ( 821/122[==========================              ] ( 822/122[==========================              ] ( 823/122[==========================              ] ( 824/122[==========================              ] ( 825/122[==========================              ] ( 826/122[==========================              ] ( 827/122[==========================              ] ( 828/122[==========================              ] ( 829/1229[===========================             ] ( 830/12[===========================             ] ( 831/12[===========================             ] ( 832/1229[===========================             ] ( 833/12[===========================             ] ( 834/12[===========================             ] ( 835/12[===========================             ] ( 836/12[===========================             ] ( 837/12[===========================             ] ( 838/12[===========================             ] ( 839/12[===========================             ] ( 840/12[===========================             ] ( 841/12[===========================             ] ( 842/12[===========================             ] ( 843/12[===========================             ] ( 844/12[===========================             ] ( 845/12[===========================             ] ( 846/1229[===========================             ] ( 847/12[===========================             ] ( 848/1229[===========================             ] ( 849/12[===========================             ] ( 850/12[===========================             ] ( 851/12[===========================             ] ( 852/12[===========================             ] ( 853/12[===========================             ] ( 854/12[===========================             ] ( 855/12[===========================             ] ( 856/12[===========================             ] ( 857/12[===========================             ] ( 858/12[===========================             ] ( 859/1229[===========================             ] ( 860/122[============================            ] ( 861/122[============================            ] ( 862/122[============================            ] ( 863/122[============================            ] ( 864/122[============================            ] ( 865/122[============================            ] ( 866/122[============================            ] ( 867/122[============================            ] ( 868/122[============================            ] ( 869/122[============================            ] ( 870/122[============================            ] ( 871/122[============================            ] ( 872/122[============================            ] ( 873/122[============================            ] ( 874/122[============================            ] ( 875/122[============================            ] ( 876/122[============================            ] ( 877/122[============================            ] ( 878/122[============================            ] ( 879/122[============================            ] ( 880/122[============================            ] ( 881/122[============================            ] ( 882/122[============================            ] ( 883/122[============================            ] ( 884/122[============================            ] ( 885/122[============================            ] ( 886/122[============================            ] ( 887/122[============================            ] ( 888/122[============================            ] ( 889/122[============================            ] ( 890/122[============================            ] ( 891/1229[=============================           ] ( 892/12[=============================           ] ( 893/12[=============================           ] ( 894/1229[=============================           ] ( 895/12[=============================           ] ( 896/12[=============================           ] ( 897/12[=============================           ] ( 898/12[=============================           ] ( 899/12[=============================           ] ( 900/12[=============================           ] ( 901/12[=============================           ] ( 902/12[=============================           ] ( 903/12[=============================           ] ( 904/12[=============================           ] ( 905/12[=============================           ] ( 906/12[=============================           ] ( 907/12[=============================           ] ( 908/12[=============================           ] ( 909/12[=============================           ] ( 910/12[=============================           ] ( 911/12[=============================           ] ( 912/12[=============================           ] ( 913/12[=============================           ] ( 914/12[=============================           ] ( 915/12[=============================           ] ( 916/12[=============================           ] ( 917/12[=============================           ] ( 918/12[=============================           ] ( 919/12[=============================           ] ( 920/12[=============================           ] ( 921/122[==============================          ] ( 922/122[==============================          ] ( 923/122[==============================          ] ( 924/122[==============================          ] ( 925/122[==============================          ] ( 926/122[==============================          ] ( 927/122[==============================          ] ( 928/122[==============================          ] ( 929/122[==============================          ] ( 930/122[==============================          ] ( 931/122[==============================          ] ( 932/122[==============================          ] ( 933/122[==============================          ] ( 934/122[==============================          ] ( 935/122[==============================          ] ( 936/122[==============================          ] ( 937/122[==============================          ] ( 938/122[==============================          ] ( 939/122[==============================          ] ( 940/122[==============================          ] ( 941/122[==============================          ] ( 942/122[==============================          ] ( 943/122[==============================          ] ( 944/122[==============================          ] ( 945/122[==============================          ] ( 946/122[==============================          ] ( 947/122[==============================          ] ( 948/122[==============================          ] ( 949/122[==============================          ] ( 950/122[==============================          ] ( 951/122[==============================          ] ( 952/1229[===============================         ] ( 953/1229[===============================         ] ( 954/12[===============================         ] ( 955/12[===============================         ] ( 956/12[===============================         ] ( 957/12[===============================         ] ( 958/12[===============================         ] ( 959/12[===============================         ] ( 960/12[===============================         ] ( 961/12[===============================         ] ( 962/12[===============================         ] ( 963/12[===============================         ] ( 964/12[===============================         ] ( 965/12[===============================         ] ( 966/12[===============================         ] ( 967/12[===============================         ] ( 968/12[===============================         ] ( 969/12[===============================         ] ( 970/12[===============================         ] ( 971/12[===============================         ] ( 972/12[===============================         ] ( 973/12[===============================         ] ( 974/1229[===============================         ] ( 975/12[===============================         ] ( 976/12[===============================         ] ( 977/12[===============================         ] ( 978/12[===============================         ] ( 979/12[===============================         ] ( 980/12[===============================         ] ( 981/12[===============================         ] ( 982/12[===============================         ] ( 983/122[================================        ] ( 984/122[================================        ] ( 985/122[================================        ] ( 986/122[================================        ] ( 987/122[================================        ] ( 988/122[================================        ] ( 989/122[================================        ] ( 990/122[================================        ] ( 991/122[================================        ] ( 992/122[================================        ] ( 993/122[================================        ] ( 994/122[================================        ] ( 995/122[================================        ] ( 996/122[================================        ] ( 997/122[================================        ] ( 998/122[================================        ] ( 999/122[================================        ] (1000/122[================================        ] (1001/122[================================        ] (1002/122[================================        ] (1003/122[================================        ] (1004/122[================================        ] (1005/122[================================        ] (1006/122[================================        ] (1007/122[================================        ] (1008/122[================================        ] (1009/122[================================        ] (1010/122[================================        ] (1011/122[================================        ] (1012/122[================================        ] (1013/1229[=================================       ] (1014/12[=================================       ] (1015/12[=================================       ] (1016/12[=================================       ] (1017/12[=================================       ] (1018/1229[=================================       ] (1019/12[=================================       ] (1020/12[=================================       ] (1021/1229[=================================       ] (1022/12[=================================       ] (1023/12[=================================       ] (1024/12[=================================       ] (1025/12[=================================       ] (1026/12[=================================       ] (1027/12[=================================       ] (1028/12[=================================       ] (1029/12[=================================       ] (1030/12[=================================       ] (1031/12[=================================       ] (1032/12[=================================       ] (1033/12[=================================       ] (1034/12[=================================       ] (1035/12[=================================       ] (1036/12[=================================       ] (1037/12[=================================       ] (1038/12[=================================       ] (1039/12[=================================       ] (1040/12[=================================       ] (1041/12[=================================       ] (1042/12[=================================       ] (1043/12[=================================       ] (1044/122[==================================      ] (1045/122[==================================      ] (1046/122[==================================      ] (1047/122[==================================      ] (1048/122[==================================      ] (1049/122[==================================      ] (1050/122[==================================      ] (1051/122[==================================      ] (1052/122[==================================      ] (1053/122[==================================      ] (1054/122[==================================      ] (1055/122[==================================      ] (1056/122[==================================      ] (1057/122[==================================      ] (1058/122[==================================      ] (1059/122[==================================      ] (1060/122[==================================      ] (1061/122[==================================      ] (1062/122[==================================      ] (1063/122[==================================      ] (1064/122[==================================      ] (1065/122[==================================      ] (1066/122[==================================      ] (1067/122[==================================      ] (1068/122[==================================      ] (1069/122[==================================      ] (1070/122[==================================      ] (1071/122[==================================      ] (1072/122[==================================      ] (1073/122[==================================      ] (1074/122[==================================      ] (1075/1229[===================================     ] (1076/12[===================================     ] (1077/12[===================================     ] (1078/12[===================================     ] (1079/12[===================================     ] (1080/12[===================================     ] (1081/12[===================================     ] (1082/12[===================================     ] (1083/12[===================================     ] (1084/12[===================================     ] (1085/12[===================================     ] (1086/12[===================================     ] (1087/12[===================================     ] (1088/12[===================================     ] (1089/12[===================================     ] (1090/12[===================================     ] (1091/12[===================================     ] (1092/12[===================================     ] (1093/12[===================================     ] (1094/12[===================================     ] (1095/12[===================================     ] (1096/12[===================================     ] (1097/12[===================================     ] (1098/12[===================================     ] (1099/12[===================================     ] (1100/12[===================================     ] (1101/12[===================================     ] (1102/12[===================================     ] (1103/12[===================================     ] (1104/12[===================================     ] (1105/12[===================================     ] (1106/122[====================================    ] (1107/122[====================================    ] (1108/122[====================================    ] (1109/122[====================================    ] (1110/122[====================================    ] (1111/122[====================================    ] (1112/122[====================================    ] (1113/122[====================================    ] (1114/122[====================================    ] (1115/122[====================================    ] (1116/122[====================================    ] (1117/122[====================================    ] (1118/122[====================================    ] (1119/122[====================================    ] (1120/122[====================================    ] (1121/122[====================================    ] (1122/122[====================================    ] (1123/122[====================================    ] (1124/122[====================================    ] (1125/122[====================================    ] (1126/122[====================================    ] (1127/122[====================================    ] (1128/122[====================================    ] (1129/122[====================================    ] (1130/122[====================================    ] (1131/122[====================================    ] (1132/122[====================================    ] (1133/122[====================================    ] (1134/122[====================================    ] (1135/122[====================================    ] (1136/1229[=====================================   ] (1137/1229[=====================================   ] (1138/12[=====================================   ] (1139/12[=====================================   ] (1140/12[=====================================   ] (1141/1229[=====================================   ] (1142/1229[=====================================   ] (1143/1229[=====================================   ] (1144/1229[=====================================   ] (1145/12[=====================================   ] (1146/12[=====================================   ] (1147/12[=====================================   ] (1148/12[=====================================   ] (1149/12[=====================================   ] (1150/12[=====================================   ] (1151/12[=====================================   ] (1152/12[=====================================   ] (1153/12[=====================================   ] (1154/12[=====================================   ] (1155/12[=====================================   ] (1156/12[=====================================   ] (1157/12[=====================================   ] (1158/12[=====================================   ] (1159/12[=====================================   ] (1160/12[=====================================   ] (1161/12[=====================================   ] (1162/12[=====================================   ] (1163/12[=====================================   ] (1164/12[=====================================   ] (1165/12[=====================================   ] (1166/12[=====================================   ] (1167/122[======================================  ] (1168/122[======================================  ] (1169/122[======================================  ] (1170/122[======================================  ] (1171/122[======================================  ] (1172/122[======================================  ] (1173/122[======================================  ] (1174/122[======================================  ] (1175/122[======================================  ] (1176/122[======================================  ] (1177/122[======================================  ] (1178/122[======================================  ] (1179/122[======================================  ] (1180/122[======================================  ] (1181/122[======================================  ] (1182/122[======================================  ] (1183/122[======================================  ] (1184/122[======================================  ] (1185/122[======================================  ] (1186/122[======================================  ] (1187/122[======================================  ] (1188/122[======================================  ] (1189/122[======================================  ] (1190/122[======================================  ] (1191/122[======================================  ] (1192/122[======================================  ] (1193/122[======================================  ] (1194/122[======================================  ] (1195/122[======================================  ] (1196/122[======================================  ] (1197/122[======================================  ] (1198/1229[======================================= ] (1199/12[======================================= ] (1200/12[======================================= ] (1201/12[======================================= ] (1202/12[======================================= ] (1203/12[======================================= ] (1204/12[======================================= ] (1205/12[======================================= ] (1206/12[======================================= ] (1207/12[======================================= ] (1208/12[======================================= ] (1209/12[======================================= ] (1210/12[======================================= ] (1211/12[======================================= ] (1212/12[======================================= ] (1213/12[======================================= ] (1214/12[======================================= ] (1215/12[======================================= ] (1216/12[======================================= ] (1217/12[======================================= ] (1218/12[======================================= ] (1219/12[======================================= ] (1220/12[======================================= ] (1221/12[======================================= ] (1222/12[======================================= ] (1223/12[======================================= ] (1224/12[======================================= ] (1225/12[======================================= ] (1226/12[======================================= ] (1227/12[======================================= ] (1228/122[========================================] (1229/1229]\n"
     ]
    }
   ],
   "source": [
    "# path = 'data/text_books/Textbook-of-Diabetes-2024.pdf'\n",
    "# textbook_documents = get_markdown_documents(path, chunk_size=500, chunk_overlap=50)\n",
    "# with open(\"data/text_books/textbook_docs.pkl\", \"wb\") as f:\n",
    "#     pickle.dump(textbook_documents, f)"
   ]
  },
  {
   "cell_type": "code",
   "execution_count": 4,
   "metadata": {},
   "outputs": [
    {
     "name": "stdout",
     "output_type": "stream",
     "text": [
      "Processing data/literature/s41591-023-02278-8.pdf...\n",
      "[                                        ] (0/3[=                                       ] ( 1/3[==                                      ] ( 2/35[===                                     ] ( 3/3[====                                    ] ( 4/35[=====                                   ] ( 5/3[======                                  ] ( 6/35[========                                ] ( 7/35=[=========                               ] ( 8/3[==========                              ] ( 9/35[===========                             ] (10/3[============                            ] (11/35[=============                           ] (12/3[==============                          ] (13/35[================                        ] (14/35=[=================                       ] (15/3[==================                      ] (16/35[===================                     ] (17/3[====================                    ] (18/35[=====================                   ] (19/3[======================                  ] (20/35[========================                ] (21/35=[=========================               ] (22/3[==========================              ] (23/35[===========================             ] (24/3[============================            ] (25/35[=============================           ] (26/3[==============================          ] (27/35[================================        ] (28/35=[=================================       ] (29/3[==================================      ] (30/35[===================================     ] (31/3[====================================    ] (32/35[=====================================   ] (33/3[======================================  ] (34/35[========================================] (35/35]\n",
      "Processing data/literature/PIIS1550413121006318.pdf...\n",
      "[                                        ] (0/1===[====                                    ] ( 1/10===[========                                ] ( 2/10===[============                            ] ( 3/10===[================                        ] ( 4/10===[====================                    ] ( 5/10===[========================                ] ( 6/10===[============================            ] ( 7/10===[================================        ] ( 8/10===[====================================    ] ( 9/10===[========================================] (10/10]\n"
     ]
    }
   ],
   "source": [
    "# folder = 'data/literature'\n",
    "# paths = [os.path.join(folder, file) for file in  os.listdir(folder)]\n",
    "\n",
    "# paper_documents = []\n",
    "# for path in paths:\n",
    "#     document = get_markdown_documents(path, chunk_size=500, chunk_overlap=50)\n",
    "#     paper_documents.extend(document)\n",
    "# with open(\"data/text_books/textbook_docs.pkl\", \"wb\") as f:\n",
    "#     pickle.dump(textbook_documents, f)"
   ]
  },
  {
   "cell_type": "code",
   "execution_count": 2,
   "metadata": {},
   "outputs": [],
   "source": [
    "with open(\"data/literature/paper_docs.pkl\", \"rb\") as f:\n",
    "    paper_documents = pickle.load(f)"
   ]
  },
  {
   "cell_type": "code",
   "execution_count": 4,
   "metadata": {},
   "outputs": [
    {
     "data": {
      "text/plain": [
       "187"
      ]
     },
     "execution_count": 4,
     "metadata": {},
     "output_type": "execute_result"
    }
   ],
   "source": [
    "len(paper_documents)"
   ]
  },
  {
   "cell_type": "code",
   "execution_count": 5,
   "metadata": {},
   "outputs": [],
   "source": [
    "with open('data/text_books/textbook_docs.pkl', 'rb') as f:\n",
    "    textbook_documents = pickle.load(f)"
   ]
  },
  {
   "cell_type": "code",
   "execution_count": 6,
   "metadata": {},
   "outputs": [
    {
     "data": {
      "text/plain": [
       "4733"
      ]
     },
     "execution_count": 6,
     "metadata": {},
     "output_type": "execute_result"
    }
   ],
   "source": [
    "len(textbook_documents)"
   ]
  },
  {
   "cell_type": "code",
   "execution_count": null,
   "metadata": {},
   "outputs": [],
   "source": [
    "async def run_analysis(file_path, question, graph):\n",
    "    \n",
    "    analysis = \"\"\n",
    "    image_file = None\n",
    "    references = []\n",
    "    # Run the compiled graph asynchronously\n",
    "    async for chunk in graph.astream(question, file_path=file_path):\n",
    "        \n",
    "        references = []\n",
    "        for role, values in chunk.items():\n",
    "            # Extract messages from values\n",
    "            if \"messages\" in values:\n",
    "                if role == 'Visualisation':\n",
    "                    analysis = values[\"messages\"][0].content\n",
    "                    image_file = values[\"messages\"][0].image_path\n",
    "                elif role == \"Research\" or role == \"Query\":\n",
    "                    references.append(values[\"messages\"][0].content)\n",
    "                else:\n",
    "                    pass\n",
    "    references = '\\n'.join(references)\n",
    "    return f\"## Data Analysis\\n{analysis}\\n\\n## References\\n{references}\", image_file\n"
   ]
  }
 ],
 "metadata": {
  "kernelspec": {
   "display_name": "ai-playground",
   "language": "python",
   "name": "python3"
  },
  "language_info": {
   "codemirror_mode": {
    "name": "ipython",
    "version": 3
   },
   "file_extension": ".py",
   "mimetype": "text/x-python",
   "name": "python",
   "nbconvert_exporter": "python",
   "pygments_lexer": "ipython3",
   "version": "3.11.9"
  }
 },
 "nbformat": 4,
 "nbformat_minor": 2
}

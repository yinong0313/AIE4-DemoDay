{
 "cells": [
  {
   "cell_type": "code",
   "execution_count": 12,
   "metadata": {},
   "outputs": [],
   "source": [
    "\n",
    "from utils.agent_helper import *\n",
    "from utils.models import REASONING_LLM, RAG_LLM, EMBEDDING_MODEL\n",
    "from utils.rag import *\n",
    "from utils.vector_store import *\n",
    "from utils.prompts import *\n",
    "\n",
    "\n",
    "from langchain_core.prompts import ChatPromptTemplate\n",
    "from langchain_core.messages import AIMessage, BaseMessage, HumanMessage\n",
    "from langchain_community.tools.semanticscholar.tool import SemanticScholarQueryRun\n",
    "from langchain_community.utilities.semanticscholar import SemanticScholarAPIWrapper\n",
    "from langgraph.graph import END, StateGraph\n",
    "from langchain_core.tools import tool\n",
    "\n",
    "\n",
    "\n",
    "import functools\n",
    "import operator\n",
    "from typing import Annotated, List, TypedDict\n",
    "import os"
   ]
  },
  {
   "cell_type": "code",
   "execution_count": 13,
   "metadata": {},
   "outputs": [
    {
     "data": {
      "text/plain": [
       "True"
      ]
     },
     "execution_count": 13,
     "metadata": {},
     "output_type": "execute_result"
    }
   ],
   "source": [
    "from dotenv import load_dotenv\n",
    "\n",
    "load_dotenv()"
   ]
  },
  {
   "cell_type": "markdown",
   "metadata": {},
   "source": [
    "### Semantic scholar search agent"
   ]
  },
  {
   "cell_type": "code",
   "execution_count": 14,
   "metadata": {},
   "outputs": [],
   "source": [
    "api_wrapper = SemanticScholarAPIWrapper(top_k_results = 2, load_max_docs = 2)\n",
    "semantic_query_tool = SemanticScholarQueryRun(api_wrapper=api_wrapper)\n",
    "\n",
    "query_agent = create_agent(REASONING_LLM, [semantic_query_tool], QUERY_AGENT_PROMPT)\n",
    "\n",
    "query_node = functools.partial(agent_node, agent=query_agent, name=\"ScholarQuery\")\n"
   ]
  },
  {
   "cell_type": "markdown",
   "metadata": {},
   "source": [
    "### research agent"
   ]
  },
  {
   "cell_type": "code",
   "execution_count": 4,
   "metadata": {},
   "outputs": [],
   "source": [
    "from langchain.schema.output_parser import StrOutputParser\n",
    "from operator import itemgetter\n",
    "def create_rag_chain(rag_prompt_template, vector_store, llm):\n",
    "    retriever = vector_store.as_retriever(search_kwargs={\"k\": 5})\n",
    "    rag_chain = ({\"context\": itemgetter(\"question\") | retriever, \"question\": itemgetter(\"question\")}\n",
    "                    | rag_prompt_template | llm | StrOutputParser())\n",
    "    return rag_chain"
   ]
  },
  {
   "cell_type": "code",
   "execution_count": 15,
   "metadata": {},
   "outputs": [
    {
     "name": "stdout",
     "output_type": "stream",
     "text": [
      "Processing data/text_books/Textbook-of-Diabetes-2024-shortened.pdf...\n",
      "[                                        ] (0/78[                                        ] ( 1/78[=                                       ] ( 2/78[=                                       ] ( 3/7[==                                      ] ( 4/7[==                                      ] ( 5/78[===                                     ] ( 6/78[===                                     ] ( 7/7[====                                    ] ( 8/7[====                                    ] ( 9/78[=====                                   ] (10/[=====                                   ] (11/7[======                                  ] (12/7[======                                  ] (13/78[=======                                 ] (14/[=======                                 ] (15/7[========                                ] (16/7[========                                ] (17/78[=========                               ] (18/[=========                               ] (19/7[==========                              ] (20/7[==========                              ] (21/78[===========                             ] (22/78[===========                             ] (23/7[============                            ] (24/7[============                            ] (25/78[=============                           ] (26/[=============                           ] (27/7[==============                          ] (28/7[==============                          ] (29/78[===============                         ] (30/[===============                         ] (31/7[================                        ] (32/7[================                        ] (33/78[=================                       ] (34/[=================                       ] (35/7[==================                      ] (36/7[==================                      ] (37/78[===================                     ] (38/[====================                    ] (39/78[====================                    ] (40/78[=====================                   ] (41/[=====================                   ] (42/7[======================                  ] (43/7[======================                  ] (44/78[=======================                 ] (45/[=======================                 ] (46/7[========================                ] (47/7[========================                ] (48/78[=========================               ] (49/[=========================               ] (50/7[==========================              ] (51/7[==========================              ] (52/78[===========================             ] (53/[===========================             ] (54/7[============================            ] (55/7[============================            ] (56/78[=============================           ] (57/[=============================           ] (58/7[==============================          ] (59/7[==============================          ] (60/78[===============================         ] (61/[===============================         ] (62/7[================================        ] (63/7[================================        ] (64/78[=================================       ] (65/[=================================       ] (66/7[==================================      ] (67/7[==================================      ] (68/78[===================================     ] (69/[===================================     ] (70/7[====================================    ] (71/7[====================================    ] (72/78[=====================================   ] (73/[=====================================   ] (74/7[======================================  ] (75/7[======================================  ] (76/78[======================================= ] (77/78[========================================] (78/78]\n"
     ]
    }
   ],
   "source": [
    "textbook_documents = get_markdown_documents('data/text_books/Textbook-of-Diabetes-2024-shortened.pdf', chunk_size=500, chunk_overlap=50)\n",
    "\n",
    "rag_runnables = RAGRunnables(\n",
    "                            rag_prompt_template = ChatPromptTemplate.from_template(TEXTBOOK_RAG_PROMPT),\n",
    "                            vector_store = get_vector_store(textbook_documents, EMBEDDING_MODEL, emb_dim=384, collection_name='textbook_collection'),\n",
    "                            llm = RAG_LLM\n",
    "                        )\n",
    "textbook_chain = create_rag_chain(rag_runnables.rag_prompt_template, \n",
    "                                    rag_runnables.vector_store, \n",
    "                                    rag_runnables.llm)\n",
    "\n",
    "@tool\n",
    "def retrieve_textbook_information(\n",
    "    query: Annotated[str, \"query to ask the retrieve information tool\"]\n",
    "    ):\n",
    "  \"\"\"Use Retrieval Augmented Generation to retrieve information about the book 'Textbook of Diabetes'.\"\"\"\n",
    "  return textbook_chain.invoke({\"question\" : query})\n"
   ]
  },
  {
   "cell_type": "code",
   "execution_count": 16,
   "metadata": {},
   "outputs": [
    {
     "name": "stdout",
     "output_type": "stream",
     "text": [
      "Processing data/literature/s41591-023-02278-8.pdf...\n",
      "[                                        ] (0/3[=                                       ] ( 1/3[==                                      ] ( 2/35[===                                     ] ( 3/3[====                                    ] ( 4/35[=====                                   ] ( 5/3[======                                  ] ( 6/35[========                                ] ( 7/35=[=========                               ] ( 8/3[==========                              ] ( 9/35[===========                             ] (10/3[============                            ] (11/35[=============                           ] (12/3[==============                          ] (13/35[================                        ] (14/35=[=================                       ] (15/3[==================                      ] (16/35[===================                     ] (17/3[====================                    ] (18/35[=====================                   ] (19/3[======================                  ] (20/35[========================                ] (21/35=[=========================               ] (22/3[==========================              ] (23/35[===========================             ] (24/3[============================            ] (25/35[=============================           ] (26/3[==============================          ] (27/35[================================        ] (28/35=[=================================       ] (29/3[==================================      ] (30/35[===================================     ] (31/3[====================================    ] (32/35[=====================================   ] (33/3[======================================  ] (34/35[========================================] (35/35]\n",
      "Processing data/literature/PIIS1550413121006318.pdf...\n",
      "[                                        ] (0/1===[====                                    ] ( 1/10===[========                                ] ( 2/10===[============                            ] ( 3/10===[================                        ] ( 4/10===[====================                    ] ( 5/10===[========================                ] ( 6/10===[============================            ] ( 7/10===[================================        ] ( 8/10===[====================================    ] ( 9/10===[========================================] (10/10]\n"
     ]
    }
   ],
   "source": [
    "folder = 'data/literature'\n",
    "paths = [os.path.join(folder, file) for file in  os.listdir(folder)]\n",
    "\n",
    "paper_documents = []\n",
    "for path in paths:\n",
    "    document = get_markdown_documents(path, chunk_size=500, chunk_overlap=50)\n",
    "    paper_documents.extend(document)\n",
    "\n",
    "rag_runnables = RAGRunnables(\n",
    "                            rag_prompt_template = ChatPromptTemplate.from_template(PAPER_RAG_PROMPT),\n",
    "                            vector_store = get_vector_store(paper_documents, EMBEDDING_MODEL, emb_dim=384, collection_name='paper_collection'),\n",
    "                            llm = RAG_LLM)\n",
    "    \n",
    "paper_chain = create_rag_chain(rag_runnables.rag_prompt_template, \n",
    "                                    rag_runnables.vector_store, \n",
    "                                    rag_runnables.llm)\n",
    "\n",
    "@tool\n",
    "def retrieve_paper_information(\n",
    "    query: Annotated[str, \"query to ask the retrieve information tool\"]\n",
    "    ):\n",
    "  \"\"\"Use Retrieval Augmented Generation to retrieve information about the papers provided.\"\"\"\n",
    "  return paper_chain.invoke({\"question\" : query})\n"
   ]
  },
  {
   "cell_type": "code",
   "execution_count": 62,
   "metadata": {},
   "outputs": [],
   "source": [
    "RESEARCH_AGENT_PROMPT = \"\"\"You are a research assistant who can provide specific information on the documents received. You must only respond with information about the documents related to the request. Make sure every documents are covered.\"\"\"\n"
   ]
  },
  {
   "cell_type": "code",
   "execution_count": 18,
   "metadata": {},
   "outputs": [],
   "source": [
    "from langchain_core.tools import tool\n",
    "\n",
    "@tool\n",
    "def retrieve_paper_information(\n",
    "    query: Annotated[str, \"query to ask the retrieve information tool\"]\n",
    "    ):\n",
    "  \"\"\"Use Retrieval Augmented Generation to retrieve information about the papers provided.\"\"\"\n",
    "  return paper_chain.invoke({\"question\" : query})['response']\n",
    "\n",
    "@tool\n",
    "def retrieve_textbook_information(\n",
    "    query: Annotated[str, \"query to ask the retrieve information tool\"]\n",
    "    ):\n",
    "  \"\"\"Use Retrieval Augmented Generation to retrieve information about the book 'Textbook of Diabetes'.\"\"\"\n",
    "  return textbook_chain.invoke({\"question\" : query})['response']"
   ]
  },
  {
   "cell_type": "code",
   "execution_count": 19,
   "metadata": {},
   "outputs": [],
   "source": [
    "research_agent = create_agent(\n",
    "    REASONING_LLM,\n",
    "    [retrieve_paper_information, retrieve_textbook_information],\n",
    "    RESEARCH_AGENT_PROMPT,\n",
    ")\n",
    "\n",
    "research_node = functools.partial(agent_node, agent=research_agent, name=\"LocalInformationRetriever\")"
   ]
  },
  {
   "cell_type": "markdown",
   "metadata": {},
   "source": [
    "### Supervisor agent"
   ]
  },
  {
   "cell_type": "code",
   "execution_count": 20,
   "metadata": {},
   "outputs": [
    {
     "name": "stderr",
     "output_type": "stream",
     "text": [
      "/Users/zding/Documents/aibootcamp/code/AIE4-DemoDay/utils/agent_helper.py:90: LangChainDeprecationWarning: The method `BaseChatOpenAI.bind_functions` was deprecated in langchain-openai 0.2.1 and will be removed in 0.3.0. Use :meth:`~langchain_openai.chat_models.base.ChatOpenAI.bind_tools` instead.\n",
      "  | llm.bind_functions(functions=[function_def], function_call=\"route\")\n"
     ]
    }
   ],
   "source": [
    "supervisor_agent = create_team_supervisor(\n",
    "    REASONING_LLM,\n",
    "    SUPERVISOR_PROMPT,\n",
    "    [\"ScholarQuery\", \"LocalInformationRetriever\"],\n",
    ")"
   ]
  },
  {
   "cell_type": "markdown",
   "metadata": {},
   "source": [
    "### graph state"
   ]
  },
  {
   "cell_type": "code",
   "execution_count": 21,
   "metadata": {},
   "outputs": [],
   "source": [
    "class ResearchTeamState(TypedDict):\n",
    "    messages: Annotated[List[BaseMessage], operator.add]\n",
    "    team_members: List[str]\n",
    "    next: str"
   ]
  },
  {
   "cell_type": "code",
   "execution_count": 22,
   "metadata": {},
   "outputs": [],
   "source": [
    "def next_step(state):\n",
    "    return state['next']"
   ]
  },
  {
   "cell_type": "code",
   "execution_count": 23,
   "metadata": {},
   "outputs": [],
   "source": [
    "graph = StateGraph(ResearchTeamState)\n",
    "graph.add_node(\"Research\", research_node)\n",
    "graph.add_node(\"Query\", query_node)\n",
    "graph.add_node(\"Supervisor\", supervisor_agent)\n",
    "\n",
    "graph.add_edge(\"Query\", \"Supervisor\")\n",
    "graph.add_edge(\"Research\", \"Supervisor\")\n",
    "graph.add_conditional_edges(\n",
    "    \"Supervisor\",\n",
    "    next_step,\n",
    "    {\"ScholarQuery\": \"Query\", \"LocalInformationRetriever\": \"Research\", \"FINISH\": END},\n",
    ")"
   ]
  },
  {
   "cell_type": "code",
   "execution_count": 24,
   "metadata": {},
   "outputs": [],
   "source": [
    "graph.set_entry_point(\"Supervisor\")\n",
    "chain = graph.compile()"
   ]
  },
  {
   "cell_type": "code",
   "execution_count": null,
   "metadata": {},
   "outputs": [],
   "source": [
    "from IPython.display import Image, display\n",
    "\n",
    "try:\n",
    "    display(Image(chain.get_graph(xray=True).draw_mermaid_png()))\n",
    "except:\n",
    "    pass"
   ]
  },
  {
   "cell_type": "code",
   "execution_count": 25,
   "metadata": {},
   "outputs": [],
   "source": [
    "def enter_chain(message: str):\n",
    "    results = {\n",
    "        \"messages\": [HumanMessage(content=message)],\n",
    "    }\n",
    "    return results\n",
    "\n",
    "research_chain = enter_chain | chain"
   ]
  },
  {
   "cell_type": "code",
   "execution_count": 26,
   "metadata": {},
   "outputs": [
    {
     "name": "stdout",
     "output_type": "stream",
     "text": [
      "{'Supervisor': {'next': 'ScholarQuery'}}\n",
      "---\n",
      "{'Query': {'messages': [HumanMessage(content='The research paper titled \"Social Determinants of Health and Structural Inequities-Root Causes of Diabetes Disparities\" discusses how social determinants of health (SDOH) and structural inequities are the root causes of diabetes disparities. The paper emphasizes that historically marginalized groups, such as racial and ethnic minorities and those with lower socioeconomic status, bear a disproportionate burden of diabetes and its associated complications. Factors such as socioeconomic status, neighborhood and physical environment, food environment, health care, and social context are highlighted as key contributors to diabetes outcomes. The paper calls for addressing SDOH at the structural and systems level to achieve health equity and improve outcomes, particularly for marginalized communities.', additional_kwargs={}, response_metadata={}, name='ScholarQuery')]}}\n",
      "---\n",
      "{'Supervisor': {'next': 'LocalInformationRetriever'}}\n",
      "---\n",
      "{'Research': {'messages': [HumanMessage(content='The research paper titled \"Social Determinants of Health and Structural Inequities-Root Causes of Diabetes Disparities\" discusses how social determinants of health (SDOH) and structural inequities are identified as the root causes of diabetes disparities. The paper points out that historically marginalized groups, such as racial and ethnic minorities and individuals with lower socioeconomic status, are disproportionately affected by diabetes and its complications. Key factors contributing to diabetes outcomes include socioeconomic status, neighborhood and physical environment, food environment, health care, and social context. The paper emphasizes the importance of addressing SDOH at the structural and systems level to achieve health equity and improve outcomes, especially for marginalized communities.', additional_kwargs={}, response_metadata={}, name='LocalInformationRetriever')]}}\n",
      "---\n",
      "{'Supervisor': {'next': 'FINISH'}}\n",
      "---\n"
     ]
    }
   ],
   "source": [
    "for s in research_chain.stream(\n",
    "    \"what caused diabetes?\", {\"recursion_limit\": 100}\n",
    "):\n",
    "    if \"__end__\" not in s:\n",
    "        print(s)\n",
    "        print(\"---\")"
   ]
  },
  {
   "cell_type": "code",
   "execution_count": null,
   "metadata": {},
   "outputs": [],
   "source": []
  }
 ],
 "metadata": {
  "kernelspec": {
   "display_name": "ai-playground",
   "language": "python",
   "name": "python3"
  },
  "language_info": {
   "codemirror_mode": {
    "name": "ipython",
    "version": 3
   },
   "file_extension": ".py",
   "mimetype": "text/x-python",
   "name": "python",
   "nbconvert_exporter": "python",
   "pygments_lexer": "ipython3",
   "version": "3.11.9"
  }
 },
 "nbformat": 4,
 "nbformat_minor": 2
}

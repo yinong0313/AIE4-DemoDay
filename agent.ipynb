{
 "cells": [
  {
   "cell_type": "code",
   "execution_count": 1,
   "metadata": {},
   "outputs": [
    {
     "name": "stderr",
     "output_type": "stream",
     "text": [
      "/opt/anaconda3/envs/ai-playground/lib/python3.11/site-packages/sentence_transformers/cross_encoder/CrossEncoder.py:13: TqdmWarning: IProgress not found. Please update jupyter and ipywidgets. See https://ipywidgets.readthedocs.io/en/stable/user_install.html\n",
      "  from tqdm.autonotebook import tqdm, trange\n",
      "/opt/anaconda3/envs/ai-playground/lib/python3.11/site-packages/transformers/tokenization_utils_base.py:1601: FutureWarning: `clean_up_tokenization_spaces` was not set. It will be set to `True` by default. This behavior will be depracted in transformers v4.45, and will be then set to `False` by default. For more details check this issue: https://github.com/huggingface/transformers/issues/31884\n",
      "  warnings.warn(\n",
      "/opt/anaconda3/envs/ai-playground/lib/python3.11/site-packages/transformers/tokenization_utils_base.py:1601: FutureWarning: `clean_up_tokenization_spaces` was not set. It will be set to `True` by default. This behavior will be depracted in transformers v4.45, and will be then set to `False` by default. For more details check this issue: https://github.com/huggingface/transformers/issues/31884\n",
      "  warnings.warn(\n",
      "/opt/anaconda3/envs/ai-playground/lib/python3.11/site-packages/langgraph/graph/graph.py:36: LangChainDeprecationWarning: As of langchain-core 0.3.0, LangChain uses pydantic v2 internally. The langchain_core.pydantic_v1 module was a compatibility shim for pydantic v1, and should no longer be used. Please update the code to import from Pydantic directly.\n",
      "\n",
      "For example, replace imports like: `from langchain_core.pydantic_v1 import BaseModel`\n",
      "with: `from pydantic import BaseModel`\n",
      "or the v1 compatibility namespace if you are working in a code base that has not been fully upgraded to pydantic 2 yet. \tfrom pydantic.v1 import BaseModel\n",
      "\n",
      "  from langgraph.pregel import Channel, Pregel\n"
     ]
    }
   ],
   "source": [
    "\n",
    "\n",
    "from utils.graphs import compile_graph\n"
   ]
  },
  {
   "cell_type": "code",
   "execution_count": 2,
   "metadata": {},
   "outputs": [
    {
     "data": {
      "text/plain": [
       "True"
      ]
     },
     "execution_count": 2,
     "metadata": {},
     "output_type": "execute_result"
    }
   ],
   "source": [
    "from dotenv import load_dotenv\n",
    "load_dotenv()"
   ]
  },
  {
   "cell_type": "code",
   "execution_count": 3,
   "metadata": {},
   "outputs": [
    {
     "name": "stderr",
     "output_type": "stream",
     "text": [
      "/Users/zding/Documents/aibootcamp/code/AIE4-DemoDay/utils/agent_helper.py:78: LangChainDeprecationWarning: The method `BaseChatOpenAI.bind_functions` was deprecated in langchain-openai 0.2.1 and will be removed in 0.3.0. Use :meth:`~langchain_openai.chat_models.base.ChatOpenAI.bind_tools` instead.\n",
      "  | llm.bind_functions(functions=[function_def], function_call=\"route\")\n"
     ]
    },
    {
     "name": "stdout",
     "output_type": "stream",
     "text": [
      "Processing data/literature/s41591-023-02278-8.pdf...\n",
      "[                                        ] (0/3[=                                       ] ( 1/3[==                                      ] ( 2/35[===                                     ] ( 3/3[====                                    ] ( 4/35[=====                                   ] ( 5/3[======                                  ] ( 6/35[========                                ] ( 7/35=[=========                               ] ( 8/3[==========                              ] ( 9/35[===========                             ] (10/3[============                            ] (11/35[=============                           ] (12/3[==============                          ] (13/35[================                        ] (14/35=[=================                       ] (15/3[==================                      ] (16/35[===================                     ] (17/3[====================                    ] (18/35[=====================                   ] (19/3[======================                  ] (20/35[========================                ] (21/35=[=========================               ] (22/3[==========================              ] (23/35[===========================             ] (24/3[============================            ] (25/35[=============================           ] (26/3[==============================          ] (27/35[================================        ] (28/35=[=================================       ] (29/3[==================================      ] (30/35[===================================     ] (31/3[====================================    ] (32/35[=====================================   ] (33/3[======================================  ] (34/35[========================================] (35/35]\n",
      "Processing data/literature/PIIS1550413121006318.pdf...\n",
      "[                                        ] (0/1===[====                                    ] ( 1/10===[========                                ] ( 2/10===[============                            ] ( 3/10===[================                        ] ( 4/10===[====================                    ] ( 5/10===[========================                ] ( 6/10===[============================            ] ( 7/10===[================================        ] ( 8/10===[====================================    ] ( 9/10===[========================================] (10/10]\n",
      "Processing data/text_books/Textbook-of-Diabetes-2024-shortened.pdf...\n",
      "[                                        ] (0/78[                                        ] ( 1/78[=                                       ] ( 2/78[=                                       ] ( 3/7[==                                      ] ( 4/7[==                                      ] ( 5/78[===                                     ] ( 6/78[===                                     ] ( 7/7[====                                    ] ( 8/7[====                                    ] ( 9/78[=====                                   ] (10/[=====                                   ] (11/7[======                                  ] (12/7[======                                  ] (13/78[=======                                 ] (14/[=======                                 ] (15/7[========                                ] (16/7[========                                ] (17/78[=========                               ] (18/[=========                               ] (19/7[==========                              ] (20/7[==========                              ] (21/78[===========                             ] (22/78[===========                             ] (23/7[============                            ] (24/7[============                            ] (25/78[=============                           ] (26/78[=============                           ] (27/7[==============                          ] (28/7[==============                          ] (29/78[===============                         ] (30/[===============                         ] (31/7[================                        ] (32/7[================                        ] (33/78[=================                       ] (34/[=================                       ] (35/7[==================                      ] (36/7[==================                      ] (37/78[===================                     ] (38/[====================                    ] (39/78[====================                    ] (40/78[=====================                   ] (41/[=====================                   ] (42/7[======================                  ] (43/7[======================                  ] (44/78[=======================                 ] (45/[=======================                 ] (46/7[========================                ] (47/7[========================                ] (48/78[=========================               ] (49/[=========================               ] (50/7[==========================              ] (51/7[==========================              ] (52/78[===========================             ] (53/78[===========================             ] (54/7[============================            ] (55/7[============================            ] (56/78[=============================           ] (57/[=============================           ] (58/7[==============================          ] (59/7[==============================          ] (60/78[===============================         ] (61/[===============================         ] (62/7[================================        ] (63/7[================================        ] (64/78[=================================       ] (65/[=================================       ] (66/7[==================================      ] (67/7[==================================      ] (68/78[===================================     ] (69/[===================================     ] (70/7[====================================    ] (71/7[====================================    ] (72/78[=====================================   ] (73/[=====================================   ] (74/7[======================================  ] (75/7[======================================  ] (76/78[======================================= ] (77/78[========================================] (78/78]\n"
     ]
    }
   ],
   "source": [
    "research_chain = compile_graph()"
   ]
  },
  {
   "cell_type": "code",
   "execution_count": 5,
   "metadata": {},
   "outputs": [
    {
     "name": "stdout",
     "output_type": "stream",
     "text": [
      "{'Supervisor': {'next': 'ScholarQuery'}}\n",
      "---\n",
      "{'Query': {'messages': [HumanMessage(content='The research paper titled \"Social Determinants of Health and Structural Inequities-Root Causes of Diabetes Disparities\" by Michelle Ogunwole and S. Golden discusses how social determinants of health (SDOH) and structural inequities are root causes of diabetes disparities. The paper highlights the disproportionate burden of diabetes on historically marginalized groups and emphasizes the importance of addressing contextual factors outside of traditional medical care to improve outcomes, especially for marginalized communities. The authors argue that social and environmental factors, collectively known as SDOH, play a significant role in shaping health outcomes and contributing to health disparities. Addressing SDOH at the structural and systems level is crucial for achieving health equity and reducing diabetes disparities.', additional_kwargs={}, response_metadata={}, name='ScholarQuery')]}}\n",
      "---\n",
      "{'Supervisor': {'next': 'LocalInformationRetriever'}}\n",
      "---\n",
      "{'Research': {'messages': [HumanMessage(content='The papers provided do not include information on the specific topic \"Social Determinants of Health and Structural Inequities-Root Causes of Diabetes Disparities by Michelle Ogunwole and S. Golden.\" If you need information on a different document, feel free to provide the title or details.', additional_kwargs={}, response_metadata={}, name='LocalInformationRetriever')]}}\n",
      "---\n",
      "{'Supervisor': {'next': 'LocalInformationRetriever'}}\n",
      "---\n",
      "{'Research': {'messages': [HumanMessage(content='The research papers provided do not include information on the specific topic \"Social Determinants of Health and Structural Inequities-Root Causes of Diabetes Disparities\" by Michelle Ogunwole and S. Golden. If you have any other papers or specific details you would like to inquire about, feel free to provide more information.', additional_kwargs={}, response_metadata={}, name='LocalInformationRetriever')]}}\n",
      "---\n",
      "{'Supervisor': {'next': 'ScholarQuery'}}\n",
      "---\n",
      "{'Query': {'messages': [HumanMessage(content='The research paper titled \"Social Determinants of Health and Structural Inequities-Root Causes of Diabetes Disparities\" by Michelle Ogunwole and S. Golden discusses how social determinants of health (SDOH) and structural inequities are root causes of diabetes disparities. The paper highlights the disproportionate burden of diabetes on historically marginalized groups and emphasizes the importance of addressing contextual factors outside of traditional medical care to improve outcomes, especially for marginalized communities. The authors argue that social and environmental factors, collectively known as SDOH, play a significant role in shaping health outcomes and contributing to health disparities. Addressing SDOH at the structural and systems level is crucial for achieving health equity and reducing diabetes disparities.', additional_kwargs={}, response_metadata={}, name='ScholarQuery')]}}\n",
      "---\n",
      "{'Supervisor': {'next': 'LocalInformationRetriever'}}\n",
      "---\n",
      "{'Research': {'messages': [HumanMessage(content='The information on the research paper \"Social Determinants of Health and Structural Inequities-Root Causes of Diabetes Disparities\" by Michelle Ogunwole and S. Golden is not available in the documents provided. If you have any other specific papers or details you would like to inquire about, feel free to provide more information.', additional_kwargs={}, response_metadata={}, name='LocalInformationRetriever')]}}\n",
      "---\n",
      "{'Supervisor': {'next': 'FINISH'}}\n",
      "---\n"
     ]
    }
   ],
   "source": [
    "for s in research_chain.stream(\n",
    "    \"what caused diabetes?\", {\"recursion_limit\": 100}\n",
    "):\n",
    "    if \"__end__\" not in s:\n",
    "        print(s)\n",
    "        print(\"---\")"
   ]
  },
  {
   "cell_type": "code",
   "execution_count": 4,
   "metadata": {},
   "outputs": [
    {
     "name": "stdout",
     "output_type": "stream",
     "text": [
      "Na...\n"
     ]
    }
   ],
   "source": [
    "from IPython.display import Image, display\n",
    "\n",
    "try:\n",
    "    display(Image(research_chain.get_graph(xray=True).draw_mermaid_png()))\n",
    "except:\n",
    "    print('Na...')\n",
    "    pass"
   ]
  },
  {
   "cell_type": "code",
   "execution_count": null,
   "metadata": {},
   "outputs": [],
   "source": []
  }
 ],
 "metadata": {
  "kernelspec": {
   "display_name": "ai-playground",
   "language": "python",
   "name": "python3"
  },
  "language_info": {
   "codemirror_mode": {
    "name": "ipython",
    "version": 3
   },
   "file_extension": ".py",
   "mimetype": "text/x-python",
   "name": "python",
   "nbconvert_exporter": "python",
   "pygments_lexer": "ipython3",
   "version": "3.11.9"
  }
 },
 "nbformat": 4,
 "nbformat_minor": 2
}

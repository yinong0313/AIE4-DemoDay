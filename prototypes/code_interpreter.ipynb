{
 "cells": [
  {
   "cell_type": "code",
   "execution_count": 1,
   "metadata": {},
   "outputs": [],
   "source": [
    "import pandas as pd\n",
    "from langchain_experimental.openai_assistant import OpenAIAssistantRunnable"
   ]
  },
  {
   "cell_type": "code",
   "execution_count": 2,
   "metadata": {},
   "outputs": [
    {
     "data": {
      "text/plain": [
       "True"
      ]
     },
     "execution_count": 2,
     "metadata": {},
     "output_type": "execute_result"
    }
   ],
   "source": [
    "from dotenv import load_dotenv\n",
    "\n",
    "load_dotenv()"
   ]
  },
  {
   "cell_type": "markdown",
   "metadata": {},
   "source": [
    "### Data description\n",
    "Reference: https://www.kaggle.com/datasets/prosperchuks/health-dataset/data  \n",
    "#### Columns:\n",
    "- **Age**: 13-level age category (_AGEG5YR see codebook) 1 = 18-24 9 = 60-64 13 = 80 or older\n",
    "- **Sex**: patient's gender (1: male; 0: female)\n",
    "- **HighChol**: 0 = no high cholesterol 1 = high cholesterol\n",
    "- **CholCheck**: 0 = no cholesterol check in 5 years 1 = yes cholesterol check in 5 years\n",
    "- **BMI**: Body Mass Index\n",
    "- **Smoker**: Have you smoked at least 100 cigarettes in your entire life? [Note: 5 packs = 100 cigarettes] 0 = no 1 = yes\n",
    "- **HeartDiseaseorAttack**: coronary heart disease (CHD) or myocardial infarction (MI) 0 = no 1 = yes\n",
    "- **PhysActivity**: physical activity in past 30 days - not including job 0 = no 1 = yes\n",
    "- **Fruits**: Consume Fruit 1 or more times per day 0 = no 1 = yes\n",
    "- **Veggies**: Consume Vegetables 1 or more times per day 0 = no 1 = yes\n",
    "- **HvyAlcoholConsump**: (adult men >=14 drinks per week and adult women>=7 drinks per week) 0 = no 1 = yes\n",
    "- **GenHlth**: Would you say that in general your health is: scale 1-5 1 = excellent 2 = very good 3 = good 4 = fair 5 = poor\n",
    "- **MentHlth**: days of poor mental health scale 1-30 days\n",
    "- **PhysHlth**: physical illness or injury days in past 30 days scale 1-30\n",
    "- **DiffWalk**: Do you have serious difficulty walking or climbing stairs? 0 = no 1 = yes\n",
    "- **Stroke**: you ever had a stroke. 0 = no, 1 = yes\n",
    "- **HighBP**: 0 = no high, BP 1 = high BP  \n",
    "\n",
    "### Research questions and hypothesis\n",
    "- Hypothesis: older people are at higher risk of diabetes\n",
    "- What kind of life style contributes or prevents diabetes?"
   ]
  },
  {
   "cell_type": "code",
   "execution_count": 13,
   "metadata": {},
   "outputs": [
    {
     "data": {
      "text/plain": [
       "(70692, 18)"
      ]
     },
     "execution_count": 13,
     "metadata": {},
     "output_type": "execute_result"
    }
   ],
   "source": [
    "df = pd.read_csv('data/raw_data/diabetes_data.csv')\n",
    "df.shape"
   ]
  },
  {
   "cell_type": "code",
   "execution_count": 5,
   "metadata": {},
   "outputs": [],
   "source": [
    "# Ref: https://python.langchain.com/v0.2/api_reference/langchain/agents/langchain.agents.openai_assistant.base.OpenAIAssistantRunnable.html#langchain.agents.openai_assistant.base.OpenAIAssistantRunnable\n",
    "\n",
    "from openai import OpenAI\n",
    "client = OpenAI()\n",
    "prompt = \"You are a medical scientist great at interpreting clinical data through data visualization and story telling. You analyze data present in .csv files, understand patterns, and come up with data visualizations relevant to those patterns. You also share a brief story of the patterns observed from the data with references provided.\"\n",
    "\n",
    "file = client.files.create(\n",
    "  file=open(\"data/raw_data/diabetes_data.csv\", \"rb\"),\n",
    "  purpose='assistants'\n",
    ")\n",
    "\n",
    "assistant = client.beta.assistants.create(\n",
    "  name=\"Data visualizer\",\n",
    "  description=prompt,\n",
    "  model=\"gpt-3.5-turbo\",\n",
    "  tools=[{\"type\": \"code_interpreter\"}],\n",
    "  tool_resources={\n",
    "    \"code_interpreter\": {\n",
    "      \"file_ids\": [file.id]\n",
    "    }\n",
    "  }\n",
    ")\n",
    "\n"
   ]
  },
  {
   "cell_type": "code",
   "execution_count": 23,
   "metadata": {},
   "outputs": [],
   "source": [
    "content = \"Is age an major factor of diabetes? Create a data visualizations based on the data in this file.\""
   ]
  },
  {
   "cell_type": "code",
   "execution_count": 26,
   "metadata": {},
   "outputs": [
    {
     "data": {
      "text/plain": [
       "'file-407LwMXODdQ3A0DSV3IkQrcY'"
      ]
     },
     "execution_count": 26,
     "metadata": {},
     "output_type": "execute_result"
    }
   ],
   "source": [
    "file = client.files.create(\n",
    "  file=open(\"data/raw_data/diabetes_data.csv\", \"rb\"),\n",
    "  purpose='assistants'\n",
    ")\n",
    "file.id"
   ]
  },
  {
   "cell_type": "code",
   "execution_count": 46,
   "metadata": {},
   "outputs": [],
   "source": [
    "# create thread\n",
    "thread = client.beta.threads.create(\n",
    "            messages=[{\"role\": \"user\",\n",
    "                        \"content\": content}]\n",
    "            )"
   ]
  },
  {
   "cell_type": "code",
   "execution_count": 47,
   "metadata": {},
   "outputs": [],
   "source": [
    "# create run\n",
    "run = client.beta.threads.runs.create_and_poll(\n",
    "  thread_id=thread.id,\n",
    "  assistant_id=assistant.id,\n",
    "  instructions=\"Please address the user as Jane Doe. The user has a premium account.\"\n",
    ")"
   ]
  },
  {
   "cell_type": "code",
   "execution_count": null,
   "metadata": {},
   "outputs": [],
   "source": [
    "import time\n",
    "while run.status != 'completed':\n",
    "    print(run.status)\n",
    "    time.sleep(3)\n",
    "\n",
    "print(f'run {run.status}')\n",
    "messages = client.beta.threads.messages.list(thread_id=thread.id)\n",
    "print(messages)"
   ]
  },
  {
   "cell_type": "code",
   "execution_count": 48,
   "metadata": {},
   "outputs": [
    {
     "name": "stdout",
     "output_type": "stream",
     "text": [
      "SyncCursorPage[Message](data=[Message(id='msg_8CVNAHWCn218LvJDBHg4vBLG', assistant_id='asst_EXBcbKGQqqYreARSiFQriwle', attachments=[], completed_at=None, content=[ImageFileContentBlock(image_file=ImageFile(file_id='file-eDBy7pWtG6ce1JZ0iQk5LSoG', detail=None), type='image_file'), TextContentBlock(text=Text(annotations=[], value='The bar chart above shows the distribution of diabetes cases across different age groups. From the visualization, we can observe how the proportion of individuals with diabetes varies with age. This can help us determine if age plays a significant role as a factor in the presence of diabetes.\\n\\nIf you would like to explore more visualizations or have any specific analysis in mind, feel free to let me know!'), type='text')], created_at=1729020579, incomplete_at=None, incomplete_details=None, metadata={}, object='thread.message', role='assistant', run_id='run_RJTA6QGKXZ5wOjTejkv1Y58p', status=None, thread_id='thread_Vre3bOl0mLXxMvRPNsouJFjQ'), Message(id='msg_3clnvJWMalCuid0hw0GuuEQ6', assistant_id='asst_EXBcbKGQqqYreARSiFQriwle', attachments=[], completed_at=None, content=[TextContentBlock(text=Text(annotations=[], value=\"The dataset contains several columns including 'Age' and 'Diabetes'. The 'Age' column represents the age of individuals, and the 'Diabetes' column indicates whether the individual has diabetes (1 for yes, 0 for no).\\n\\nLet's now create data visualizations to analyze the relationship between age and diabetes. We can start by creating a bar chart showing the distribution of diabetes cases across different age groups. This will help us understand if there is a significant correlation between age and diabetes. Let's go ahead and create the visualization.\"), type='text')], created_at=1729020570, incomplete_at=None, incomplete_details=None, metadata={}, object='thread.message', role='assistant', run_id='run_RJTA6QGKXZ5wOjTejkv1Y58p', status=None, thread_id='thread_Vre3bOl0mLXxMvRPNsouJFjQ'), Message(id='msg_mExfqqS8dxNIq3BXIZuYLFly', assistant_id='asst_EXBcbKGQqqYreARSiFQriwle', attachments=[], completed_at=None, content=[TextContentBlock(text=Text(annotations=[], value=\"To determine if age is a major factor of diabetes based on the data in the uploaded file, we will first need to explore the data to understand its structure and contents. \\n\\nLet's start by loading the data from the uploaded file and then we can proceed with creating data visualizations to analyze the relationship between age and diabetes.\"), type='text')], created_at=1729020563, incomplete_at=None, incomplete_details=None, metadata={}, object='thread.message', role='assistant', run_id='run_RJTA6QGKXZ5wOjTejkv1Y58p', status=None, thread_id='thread_Vre3bOl0mLXxMvRPNsouJFjQ'), Message(id='msg_DIf0kut2061bvXLQ126aTThc', assistant_id=None, attachments=[], completed_at=None, content=[TextContentBlock(text=Text(annotations=[], value='Is age an major factor of diabetes? Create a data visualizations based on the data in this file.'), type='text')], created_at=1729020557, incomplete_at=None, incomplete_details=None, metadata={}, object='thread.message', role='user', run_id=None, status=None, thread_id='thread_Vre3bOl0mLXxMvRPNsouJFjQ')], object='list', first_id='msg_8CVNAHWCn218LvJDBHg4vBLG', last_id='msg_DIf0kut2061bvXLQ126aTThc', has_more=False)\n"
     ]
    }
   ],
   "source": [
    "# if run.status == 'completed': \n",
    "#   messages = client.beta.threads.messages.list(thread_id=thread.id)\n",
    "#   print(messages)\n",
    "# else:\n",
    "#   print(run.status)\n"
   ]
  },
  {
   "cell_type": "code",
   "execution_count": 52,
   "metadata": {},
   "outputs": [
    {
     "data": {
      "text/plain": [
       "ImageFileContentBlock(image_file=ImageFile(file_id='file-eDBy7pWtG6ce1JZ0iQk5LSoG', detail=None), type='image_file')"
      ]
     },
     "execution_count": 52,
     "metadata": {},
     "output_type": "execute_result"
    }
   ],
   "source": [
    "response = messages.data[0].content\n",
    "response[0]"
   ]
  },
  {
   "cell_type": "code",
   "execution_count": 63,
   "metadata": {},
   "outputs": [
    {
     "data": {
      "text/plain": [
       "\"The dataset contains several columns including 'Age' and 'Diabetes'. The 'Age' column represents the age of individuals, and the 'Diabetes' column indicates whether the individual has diabetes (1 for yes, 0 for no).\\n\\nLet's now create data visualizations to analyze the relationship between age and diabetes. We can start by creating a bar chart showing the distribution of diabetes cases across different age groups. This will help us understand if there is a significant correlation between age and diabetes. Let's go ahead and create the visualization.\""
      ]
     },
     "execution_count": 63,
     "metadata": {},
     "output_type": "execute_result"
    }
   ],
   "source": [
    "messages.data[1].content[0].text.value"
   ]
  },
  {
   "cell_type": "code",
   "execution_count": 58,
   "metadata": {},
   "outputs": [],
   "source": [
    "# retrieve image\n",
    "image_data = client.files.content(response[0].image_file.file_id)\n",
    "image_data_bytes = image_data.read()\n",
    "\n",
    "with open(\"data/my-image.png\", \"wb\") as file:\n",
    "    file.write(image_data_bytes)"
   ]
  }
 ],
 "metadata": {
  "kernelspec": {
   "display_name": "ai-playground",
   "language": "python",
   "name": "python3"
  },
  "language_info": {
   "codemirror_mode": {
    "name": "ipython",
    "version": 3
   },
   "file_extension": ".py",
   "mimetype": "text/x-python",
   "name": "python",
   "nbconvert_exporter": "python",
   "pygments_lexer": "ipython3",
   "version": "3.11.9"
  }
 },
 "nbformat": 4,
 "nbformat_minor": 2
}

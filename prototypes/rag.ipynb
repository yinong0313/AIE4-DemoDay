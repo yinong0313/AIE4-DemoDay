{
 "cells": [
  {
   "cell_type": "code",
   "execution_count": null,
   "metadata": {},
   "outputs": [],
   "source": [
    "from utils.models import *\n",
    "from utils.rag import *\n",
    "from utils.vector_store import *\n",
    "from langchain_core.prompts import ChatPromptTemplate"
   ]
  },
  {
   "cell_type": "code",
   "execution_count": null,
   "metadata": {},
   "outputs": [],
   "source": [
    "from dotenv import load_dotenv\n",
    "load_dotenv()"
   ]
  },
  {
   "cell_type": "markdown",
   "metadata": {},
   "source": [
    "### Text book RAG"
   ]
  },
  {
   "cell_type": "code",
   "execution_count": null,
   "metadata": {},
   "outputs": [],
   "source": [
    "textbook_documents = get_markdown_documents('data/text_books/Textbook-of-Diabetes-2024.pdf')\n",
    "\n",
    "rag_runnables = RAGRunnables(\n",
    "                        rag_prompt_template = ChatPromptTemplate.from_template(RAG_PROMPT),\n",
    "                        vector_store = get_vector_store(textbook_documents, EMBEDDING_MODEL, emb_dim=384),\n",
    "                        llm = RAG_LLM\n",
    "                    )\n",
    "rag_chain = create_rag_chain(rag_runnables.rag_prompt_template, \n",
    "                                 rag_runnables.vector_store, \n",
    "                                 rag_runnables.llm)"
   ]
  }
 ],
 "metadata": {
  "kernelspec": {
   "display_name": "ai-playground",
   "language": "python",
   "name": "python3"
  },
  "language_info": {
   "name": "python",
   "version": "3.11.9"
  }
 },
 "nbformat": 4,
 "nbformat_minor": 2
}

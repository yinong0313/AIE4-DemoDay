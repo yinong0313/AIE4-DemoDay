{
 "cells": [
  {
   "cell_type": "code",
   "execution_count": null,
   "metadata": {},
   "outputs": [],
   "source": [
    "from utils.agent_helper import *\n",
    "from utils.models import REASONING_LLM, RAG_LLM, EMBEDDING_MODEL\n",
    "from utils.rag import *\n",
    "from utils.vector_store import *\n",
    "from utils.prompts import *\n",
    "\n",
    "from langchain_community.tools.google_scholar import GoogleScholarQueryRun\n",
    "from langchain_community.utilities.google_scholar import GoogleScholarAPIWrapper\n",
    "from langchain_core.prompts import ChatPromptTemplate\n",
    "\n",
    "import functools\n",
    "from typing import Annotated\n",
    "import os"
   ]
  },
  {
   "cell_type": "markdown",
   "metadata": {},
   "source": [
    "### Google scholar search agent"
   ]
  },
  {
   "cell_type": "code",
   "execution_count": null,
   "metadata": {},
   "outputs": [],
   "source": [
    "g_scholar_tool = GoogleScholarQueryRun(api_wrapper=GoogleScholarAPIWrapper())\n",
    "\n",
    "search_agent = create_agent(\n",
    "    REASONING_LLM,\n",
    "    [g_scholar_tool],\n",
    "    \"You are a research assistant who can search for the top 3 most relevant publications in the last one month using the google scholar search engine.\",\n",
    ")\n",
    "search_node = functools.partial(agent_node, agent=search_agent, name=\"Search\")"
   ]
  },
  {
   "cell_type": "markdown",
   "metadata": {},
   "source": [
    "### text book agent"
   ]
  },
  {
   "cell_type": "code",
   "execution_count": null,
   "metadata": {},
   "outputs": [],
   "source": [
    "textbook_documents = get_markdown_documents('data/text_books/Textbook-of-Diabetes-2024.pdf')\n",
    "\n",
    "rag_runnables = RAGRunnables(\n",
    "                            rag_prompt_template = ChatPromptTemplate.from_template(RAG_PROMPT),\n",
    "                            vector_store = get_vector_store(textbook_documents, EMBEDDING_MODEL, emb_dim=384),\n",
    "                            llm = RAG_LLM\n",
    "                        )\n",
    "textbook_chain = create_rag_chain(rag_runnables.rag_prompt_template, \n",
    "                                    rag_runnables.vector_store, \n",
    "                                    rag_runnables.llm)\n",
    "\n",
    "@tool\n",
    "def retrieve_information(\n",
    "    query: Annotated[str, \"query to ask the retrieve information tool\"]\n",
    "    ):\n",
    "  \"\"\"Use Retrieval Augmented Generation to retrieve information about the book 'Textbook of Diabetes'.\"\"\"\n",
    "  return textbook_chain.invoke({\"question\" : query})['response']\n",
    "\n",
    "\n",
    "textbook_agent = create_agent(\n",
    "    REASONING_LLM,\n",
    "    [textbook_chain],\n",
    "    TEXTBOOK_AGENT_PROMPT,\n",
    ")\n",
    "\n",
    "textbook_node = functools.partial(agent_node, agent=textbook_agent, name=\"TextbookInformationRetriever\")"
   ]
  },
  {
   "cell_type": "markdown",
   "metadata": {},
   "source": [
    "### paper agent"
   ]
  },
  {
   "cell_type": "code",
   "execution_count": null,
   "metadata": {},
   "outputs": [],
   "source": [
    "folder = 'data/literature'\n",
    "paths = [os.path.join(folder, file) for file in  os.listdir(folder)]\n",
    "\n",
    "paper_documents = []\n",
    "for path in paths:\n",
    "    document = get_markdown_documents(path)\n",
    "    paper_documents.extend(document)\n",
    "\n",
    "rag_runnables = RAGRunnables(\n",
    "                            rag_prompt_template = ChatPromptTemplate.from_template(RAG_PROMPT),\n",
    "                            vector_store = get_vector_store(paper_documents, EMBEDDING_MODEL, emb_dim=384),\n",
    "                            llm = RAG_LLM)\n",
    "    \n",
    "paper_chain = create_rag_chain(rag_runnables.rag_prompt_template, \n",
    "                                    rag_runnables.vector_store, \n",
    "                                    rag_runnables.llm)\n",
    "\n",
    "@tool\n",
    "def retrieve_information(\n",
    "    query: Annotated[str, \"query to ask the retrieve information tool\"]\n",
    "    ):\n",
    "  \"\"\"Use Retrieval Augmented Generation to retrieve information about the papers provided.\"\"\"\n",
    "  return textbook_chain.invoke({\"question\" : query})['response']\n",
    "\n",
    "\n",
    "paper_agent = create_agent(\n",
    "    REASONING_LLM,\n",
    "    [textbook_chain],\n",
    "    SAVED_PAPER_AGENT_PROMPT,\n",
    ")\n",
    "\n",
    "paper_node = functools.partial(agent_node, agent=paper_agent, name=\"TextbookInformationRetriever\") "
   ]
  }
 ],
 "metadata": {
  "kernelspec": {
   "display_name": "ai-playground",
   "language": "python",
   "name": "python3"
  },
  "language_info": {
   "name": "python",
   "version": "3.11.9"
  }
 },
 "nbformat": 4,
 "nbformat_minor": 2
}

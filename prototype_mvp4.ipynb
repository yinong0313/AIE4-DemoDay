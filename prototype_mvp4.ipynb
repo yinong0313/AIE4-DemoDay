{
 "cells": [
  {
   "cell_type": "code",
   "execution_count": 1,
   "metadata": {},
   "outputs": [],
   "source": [
    "import os\n",
    "import getpass\n",
    "\n",
    "os.environ[\"OPENAI_API_KEY\"] = getpass.getpass(\"OpenAI API Key:\")"
   ]
  },
  {
   "cell_type": "code",
   "execution_count": 2,
   "metadata": {},
   "outputs": [],
   "source": [
    "#some funtions for easy print\n",
    "from IPython.display import display, Markdown\n",
    "from typing import Any\n",
    "\n",
    "#def pretty_print(message: str) -> str:\n",
    "#    display(Markdown(message))\n",
    "def pretty_print(message: str) -> None:\n",
    "    display(Markdown(f\"```markdown\\n{message}\\n```\"))\n",
    "\n",
    "def format_output(data: Any, indent=0) -> str:\n",
    "    spacing = ' ' * indent\n",
    "    if isinstance(data, dict):\n",
    "        result = []\n",
    "        for key, value in data.items():\n",
    "            result.append(f\"{spacing}{key}: {format_output(value, indent + 4)}\")\n",
    "        return \"\\n\".join(result)\n",
    "    elif isinstance(data, list):\n",
    "        result = []\n",
    "        for item in data:\n",
    "            result.append(format_output(item, indent + 4))\n",
    "        return \"\\n\".join(result)\n",
    "    elif isinstance(data, BaseMessage):\n",
    "        return f\"{spacing}{type(data).__name__}(content='{data.content}', name='{data.name}')\"\n",
    "    else:\n",
    "        return f\"{spacing}{str(data)}\""
   ]
  },
  {
   "cell_type": "markdown",
   "metadata": {},
   "source": [
    "\n",
    "\n",
    "Title: Tele-Mental Health Service: Unveiling the Disparity and Impact on Healthcare Access and Expenditures during the COVID-19 Pandemic in Mississippi.\n",
    "PMID: 39063396\n",
    "\n",
    "Title: Double Trouble: COVID-19 Infection Exacerbates Sickle Cell Crisis Outcomes in Hospitalized Patients-Insights from National Inpatient Sample 2020.\n",
    "PMID: 39051414"
   ]
  },
  {
   "cell_type": "code",
   "execution_count": 3,
   "metadata": {},
   "outputs": [
    {
     "name": "stdout",
     "output_type": "stream",
     "text": [
      "2024-10-09 14:25:35 - Loaded .env file\n"
     ]
    }
   ],
   "source": [
    "from langchain_openai import OpenAIEmbeddings\n",
    "import os\n",
    "from typing import List\n",
    "from langchain_community.document_loaders import PyMuPDFLoader\n",
    "import uuid\n",
    "\n",
    "from langchain_openai import OpenAIEmbeddings\n",
    "from langchain.text_splitter import RecursiveCharacterTextSplitter\n",
    "from langchain.chains import (\n",
    "    ConversationalRetrievalChain,\n",
    ")\n",
    "from langchain.document_loaders import PyPDFLoader\n",
    "from langchain.chat_models import ChatOpenAI\n",
    "from langchain.prompts.chat import (\n",
    "    ChatPromptTemplate,\n",
    "    SystemMessagePromptTemplate,\n",
    "    HumanMessagePromptTemplate,\n",
    ")\n",
    "from langchain.docstore.document import Document\n",
    "from langchain.memory import ChatMessageHistory, ConversationBufferMemory\n",
    "from chainlit.types import AskFileResponse\n",
    "\n",
    "import chainlit as cl\n",
    "from langchain_qdrant import QdrantVectorStore\n",
    "from qdrant_client import QdrantClient\n",
    "from qdrant_client.http.models import Distance, VectorParams\n",
    "from langchain_huggingface import HuggingFaceEmbeddings"
   ]
  },
  {
   "cell_type": "markdown",
   "metadata": {},
   "source": [
    "# set up basic RAG chain (will use it as a tool later). The RAG chain contains the information about 2 papers.\n",
    "Title: Tele-Mental Health Service: Unveiling the Disparity and Impact on Healthcare Access and Expenditures during the COVID-19 Pandemic in Mississippi.\n",
    "PMID: 39063396\n",
    "\n",
    "Title: Double Trouble: COVID-19 Infection Exacerbates Sickle Cell Crisis Outcomes in Hospitalized Patients-Insights from National Inpatient Sample 2020.\n",
    "PMID: 39051414\n"
   ]
  },
  {
   "cell_type": "code",
   "execution_count": 7,
   "metadata": {},
   "outputs": [
    {
     "name": "stdout",
     "output_type": "stream",
     "text": [
      "107\n"
     ]
    },
    {
     "data": {
      "text/plain": [
       "Document(metadata={'source': 'https://www.mdpi.com/1660-4601/21/7/819/pdf', 'file_path': 'https://www.mdpi.com/1660-4601/21/7/819/pdf', 'page': 0, 'total_pages': 11, 'format': 'PDF 1.7', 'title': 'Tele-Mental Health Service: Unveiling the Disparity and Impact on Healthcare Access and Expenditures during the COVID-19 Pandemic in Mississippi', 'author': 'Yunxi Zhang, Lincy S. Lal, Yueh-Yun Lin, J. Michael Swint, Ying Zhang, Richard L. Summers, Barbara F. Jones, Saurabh Chandra and Mark E. Ladner', 'subject': 'During the COVID-19 pandemic, tele-mental health (TMH) was a viable approach for providing accessible mental and behavioral health (MBH) services. This study examines the sociodemographic disparities in TMH utilization and its effects on healthcare resource utilization (HCRU) and medical expenditures in Mississippi. Utilizing a cohort of 6787 insured adult patients at the University of Mississippi Medical Center and its affiliated sites between January 2020 and June 2023, including 3065 who accessed TMH services, we observed sociodemographic disparities between TMH and non-TMH cohorts. The TMH cohort was more likely to be younger, female, White/Caucasian, using payment methods other than Medicare, Medicaid, or commercial insurers, residing in rural areas, and with higher household income compared to the non-TMH cohort. Adjusting for sociodemographic factors, TMH utilization was associated with a 190% increase in MBH-related outpatient visits, a 17% increase in MBH-related medical expenditures, and a 12% decrease in all-cause medical expenditures (all p < 0.001). Among rural residents, TMH utilization was associated with a 205% increase in MBH-related outpatient visits and a 19% decrease in all-cause medical expenditures (both p < 0.001). This study underscores the importance of addressing sociodemographic disparities in TMH services to promote equitable healthcare access while reducing overall medical expenditures.', 'keywords': 'telehealth; mental health services; access to health care; healthcare resources; health expenditure; healthcare disparities; socioeconomic disparities; health equity', 'creator': 'LaTeX with hyperref', 'producer': 'pdfTeX-1.40.25', 'creationDate': \"D:20240622174944+08'00'\", 'modDate': \"D:20240622115218+02'00'\", 'trapped': ''}, page_content='Citation: Zhang, Y.; Lal, L.S.; Lin, Y.-Y.;\\nSwint, J.M.; Zhang, Y.; Summers, R.L.;\\nJones, B.F.; Chandra, S.; Ladner, M.E.\\nTele-Mental Health Service: Unveiling\\nthe Disparity and Impact on\\nHealthcare Access and Expenditures\\nduring the COVID-19 Pandemic in\\nMississippi. Int. J. Environ. Res. Public\\nHealth 2024, 21, 819. https://doi.org/\\n10.3390/ijerph21070819\\nAcademic Editor: Paul B.\\nTchounwou\\nReceived: 31 May 2024\\nRevised: 19 June 2024\\nAccepted: 20 June 2024\\nPublished: 22 June 2024\\nCopyright: © 2024 by the authors.\\nLicensee MDPI, Basel, Switzerland.\\nThis article is an open access article\\ndistributed\\nunder\\nthe\\nterms\\nand\\nconditions of the Creative Commons\\nAttribution (CC BY) license (https://\\ncreativecommons.org/licenses/by/\\n4.0/).\\nInternational  Journal  of\\nEnvironmental Research\\nand Public Health\\nArticle\\nTele-Mental Health Service: Unveiling the Disparity and Impact\\non Healthcare Access and Expenditures during the COVID-19\\nPandemic in Mississippi\\nYunxi Zhang 1,2,*\\n, Lincy S. Lal 3')"
      ]
     },
     "execution_count": 7,
     "metadata": {},
     "output_type": "execute_result"
    }
   ],
   "source": [
    "pdf_links = [\n",
    "\"https://www.mdpi.com/1660-4601/21/7/819/pdf\",\n",
    "\"https://www.mdpi.com/2038-8330/16/3/41/pdf\"]\n",
    "\n",
    "documents = []\n",
    "for pdf_link in pdf_links:\n",
    "    loader = PyMuPDFLoader(pdf_link)\n",
    "    loaded_docs = loader.load()\n",
    "    documents.extend(loaded_docs)\n",
    "\n",
    "    CHUNK_SIZE = 1000\n",
    "    CHUNK_OVERLAP = 200\n",
    "\n",
    "    text_splitter = RecursiveCharacterTextSplitter(\n",
    "        chunk_size=CHUNK_SIZE,\n",
    "        chunk_overlap=CHUNK_OVERLAP,\n",
    "        length_function=len,\n",
    "    )\n",
    "split_chunks = text_splitter.split_documents(documents)\n",
    "print(len(split_chunks))\n",
    "split_chunks[0]"
   ]
  },
  {
   "cell_type": "code",
   "execution_count": 11,
   "metadata": {},
   "outputs": [
    {
     "name": "stdout",
     "output_type": "stream",
     "text": [
      "2024-10-09 14:42:52 - HTTP Request: POST https://api.openai.com/v1/embeddings \"HTTP/1.1 200 OK\"\n"
     ]
    }
   ],
   "source": [
    "EMBEDDING_MODEL = \"text-embedding-3-small\"\n",
    "embeddings = OpenAIEmbeddings(model=EMBEDDING_MODEL)\n",
    "\n",
    "LOCATION = \":memory:\"\n",
    "COLLECTION_NAME = \"PubMed\"\n",
    "VECTOR_SIZE = 1536\n",
    "\n",
    "\n",
    "qdrant_client = QdrantClient(LOCATION)\n",
    "\n",
    "qdrant_client.create_collection(\n",
    "    collection_name=COLLECTION_NAME,\n",
    "    vectors_config=VectorParams(size=VECTOR_SIZE, distance=Distance.COSINE),\n",
    ")\n",
    "\n",
    "qdrant_vector_store = QdrantVectorStore(\n",
    "    client=qdrant_client,\n",
    "    collection_name=COLLECTION_NAME,\n",
    "    embedding=embeddings,\n",
    ")\n"
   ]
  },
  {
   "cell_type": "code",
   "execution_count": 12,
   "metadata": {},
   "outputs": [
    {
     "name": "stdout",
     "output_type": "stream",
     "text": [
      "2024-10-09 14:42:54 - HTTP Request: POST https://api.openai.com/v1/embeddings \"HTTP/1.1 200 OK\"\n",
      "2024-10-09 14:42:55 - HTTP Request: POST https://api.openai.com/v1/embeddings \"HTTP/1.1 200 OK\"\n"
     ]
    }
   ],
   "source": [
    "qdrant_vector_store.add_documents(split_chunks)\n",
    "qdrant_retriever = qdrant_vector_store.as_retriever()"
   ]
  },
  {
   "cell_type": "code",
   "execution_count": 13,
   "metadata": {},
   "outputs": [],
   "source": [
    "from langchain_core.prompts import ChatPromptTemplate\n",
    "\n",
    "RAG_PROMPT = \"\"\"\n",
    "CONTEXT:\n",
    "{context}\n",
    "\n",
    "QUERY:\n",
    "{question}\n",
    "\n",
    "You are a helpful assistant. Use the available context to answer the question. If you can't answer the question, say you don't know.\n",
    "\"\"\"\n",
    "\n",
    "rag_prompt = ChatPromptTemplate.from_template(RAG_PROMPT)"
   ]
  },
  {
   "cell_type": "code",
   "execution_count": 14,
   "metadata": {},
   "outputs": [],
   "source": [
    "from langchain_openai import ChatOpenAI\n",
    "\n",
    "openai_chat_model = ChatOpenAI(model=\"gpt-4o-mini\")"
   ]
  },
  {
   "cell_type": "code",
   "execution_count": 15,
   "metadata": {},
   "outputs": [],
   "source": [
    "from operator import itemgetter\n",
    "from langchain.schema.output_parser import StrOutputParser\n",
    "\n",
    "rag_chain = (\n",
    "    {\"context\": itemgetter(\"question\") | qdrant_retriever, \"question\": itemgetter(\"question\")}\n",
    "    | rag_prompt | openai_chat_model | StrOutputParser()\n",
    ")"
   ]
  },
  {
   "cell_type": "code",
   "execution_count": 16,
   "metadata": {},
   "outputs": [
    {
     "name": "stdout",
     "output_type": "stream",
     "text": [
      "2024-10-09 14:44:24 - HTTP Request: POST https://api.openai.com/v1/embeddings \"HTTP/1.1 200 OK\"\n",
      "2024-10-09 14:44:27 - HTTP Request: POST https://api.openai.com/v1/chat/completions \"HTTP/1.1 200 OK\"\n"
     ]
    },
    {
     "data": {
      "text/markdown": [
       "```markdown\n",
       "Tele-mental health (TMH) services leverage telecommunication and videoconferencing technologies to facilitate decentralized mental and behavioral healthcare. This approach allows patients in remote locations to access mental health services, overcoming geographical barriers and improving healthcare access, particularly in underserved rural communities. During the COVID-19 pandemic, TMH emerged as a viable solution for providing accessible mental and behavioral health services.\n",
       "```"
      ],
      "text/plain": [
       "<IPython.core.display.Markdown object>"
      ]
     },
     "metadata": {},
     "output_type": "display_data"
    }
   ],
   "source": [
    "pretty_print(rag_chain.invoke({\"question\" : \"What is Tele-mental health (TMH) services?\"}))"
   ]
  },
  {
   "cell_type": "markdown",
   "metadata": {},
   "source": [
    "# set up agents"
   ]
  },
  {
   "cell_type": "code",
   "execution_count": 23,
   "metadata": {},
   "outputs": [],
   "source": [
    "import functools\n",
    "import operator\n",
    "\n",
    "from langchain_core.messages import AIMessage, BaseMessage, HumanMessage\n",
    "from langchain_openai.chat_models import ChatOpenAI\n",
    "import functools\n",
    "from IPython.display import Image, display\n",
    "llm = ChatOpenAI(model=\"gpt-4-turbo\")"
   ]
  },
  {
   "cell_type": "code",
   "execution_count": 18,
   "metadata": {},
   "outputs": [],
   "source": [
    "from typing import Any, Callable, List, Optional, TypedDict, Union\n",
    "\n",
    "from langchain.agents import AgentExecutor, create_openai_functions_agent\n",
    "from langchain.output_parsers.openai_functions import JsonOutputFunctionsParser\n",
    "from langchain_core.prompts import ChatPromptTemplate, MessagesPlaceholder\n",
    "from langchain_core.messages import AIMessage, BaseMessage, HumanMessage\n",
    "from langchain_core.runnables import Runnable\n",
    "from langchain_core.tools import BaseTool\n",
    "from langchain_openai import ChatOpenAI\n",
    "\n",
    "from langgraph.graph import END, StateGraph\n",
    "\n",
    "def agent_node(state, agent, name):\n",
    "    result = agent.invoke(state)\n",
    "    return {\"messages\": [HumanMessage(content=result[\"output\"], name=name)]}\n",
    "\n",
    "def create_agent(\n",
    "    llm: ChatOpenAI,\n",
    "    tools: list,\n",
    "    system_prompt: str,\n",
    ") -> str:\n",
    "    \"\"\"Create a function-calling agent and add it to the graph.\"\"\"\n",
    "    system_prompt += (\"\\nWork autonomously according to your specialty, using the tools available to you.\"\n",
    "    \" Do not ask for clarification.\"\n",
    "    \" Your other team members (and other teams) will collaborate with you with their own specialties.\"\n",
    "    \" You are chosen for a reason! You are one of the following team members: {team_members}.\")\n",
    "    prompt = ChatPromptTemplate.from_messages(\n",
    "        [\n",
    "            (\n",
    "                \"system\",\n",
    "                system_prompt,\n",
    "            ),\n",
    "            MessagesPlaceholder(variable_name=\"messages\"),\n",
    "            MessagesPlaceholder(variable_name=\"agent_scratchpad\"),\n",
    "        ]\n",
    "    )\n",
    "    agent = create_openai_functions_agent(llm, tools, prompt)\n",
    "    executor = AgentExecutor(agent=agent, tools=tools)\n",
    "    return executor\n",
    "\n",
    "def create_team_supervisor(llm: ChatOpenAI, system_prompt, members) -> str:\n",
    "    \"\"\"An LLM-based router.\"\"\"\n",
    "    options = [\"FINISH\"] + members\n",
    "    function_def = {\n",
    "        \"name\": \"route\",\n",
    "        \"description\": \"Select the next role.\",\n",
    "        \"parameters\": {\n",
    "            \"title\": \"routeSchema\",\n",
    "            \"type\": \"object\",\n",
    "            \"properties\": {\n",
    "                \"next\": {\n",
    "                    \"title\": \"Next\",\n",
    "                    \"anyOf\": [\n",
    "                        {\"enum\": options},\n",
    "                    ],\n",
    "                },\n",
    "            },\n",
    "            \"required\": [\"next\"],\n",
    "        },\n",
    "    }\n",
    "    prompt = ChatPromptTemplate.from_messages(\n",
    "        [\n",
    "            (\"system\", system_prompt),\n",
    "            MessagesPlaceholder(variable_name=\"messages\"),\n",
    "            (\n",
    "                \"system\",\n",
    "                \"Given the conversation above, who should act next?\"\n",
    "                \" Or should we FINISH? Select one of: {options}\",\n",
    "            ),\n",
    "        ]\n",
    "    ).partial(options=str(options), team_members=\", \".join(members))\n",
    "    return (\n",
    "        prompt\n",
    "        | llm.bind_functions(functions=[function_def], function_call=\"route\")\n",
    "        | JsonOutputFunctionsParser()\n",
    "    )"
   ]
  },
  {
   "cell_type": "code",
   "execution_count": 19,
   "metadata": {},
   "outputs": [],
   "source": [
    "from pathlib import Path\n",
    "from tempfile import TemporaryDirectory\n",
    "from typing import Dict, Optional\n",
    "from typing_extensions import TypedDict\n",
    "import uuid\n",
    "import os\n",
    "from typing import Annotated, List, Tuple, Union\n",
    "from langchain_core.tools import tool\n",
    "\n",
    "os.makedirs('./content/data', exist_ok=True)\n",
    "\n",
    "def create_random_subdirectory():\n",
    "    random_id = str(uuid.uuid4())[:8]  # Use first 8 characters of a UUID\n",
    "    subdirectory_path = os.path.join('./content/data', random_id)\n",
    "    os.makedirs(subdirectory_path, exist_ok=True)\n",
    "    return subdirectory_path\n",
    "\n",
    "WORKING_DIRECTORY = Path(create_random_subdirectory())"
   ]
  },
  {
   "cell_type": "code",
   "execution_count": 35,
   "metadata": {},
   "outputs": [],
   "source": [
    "@tool\n",
    "def retrieve_information(\n",
    "    query: Annotated[str, \"query to ask the retrieve information tool\"]\n",
    "    ):\n",
    "  \"\"\"Use Retrieval Augmented Generation to retrieve information about 2 papers:\n",
    "  Paper 1: Tele-Mental Health Service: Unveiling the Disparity and Impact on Healthcare Access and Expenditures during the COVID-19 Pandemic in Mississippi.\n",
    "  Paper 2: Double Trouble: COVID-19 Infection Exacerbates Sickle Cell Crisis Outcomes in Hospitalized Patients-Insights from National Inpatient Sample 2020.\"\"\"\n",
    "  return rag_chain.invoke({\"question\" : query})\n",
    "\n",
    "@tool\n",
    "def create_citation(\n",
    "    points: Annotated[List[str], \"cite the correct source paper and add citations/reference numbers inside to the paragraph. At the end of the paragraph, make a list of paper you referenced.\"],\n",
    "    file_name: Annotated[str, \"File path to save the outline.\"],\n",
    ") -> Annotated[str, \"Path of the saved outline file.\"]:\n",
    "    \"\"\"Added and saved citations.\"\"\"\n",
    "    with (WORKING_DIRECTORY / file_name).open(\"w\") as file:\n",
    "        for i, point in enumerate(points):\n",
    "            file.write(f\"{i + 1}. {point}\\n\")\n",
    "    return f\"citation saved to {file_name}\"\n",
    "\n",
    "\n",
    "@tool\n",
    "def read_document(\n",
    "    file_name: Annotated[str, \"File path to save the document.\"],\n",
    "    start: Annotated[Optional[int], \"The start line. Default is 0\"] = None,\n",
    "    end: Annotated[Optional[int], \"The end line. Default is None\"] = None,\n",
    ") -> str:\n",
    "    \"\"\"Read the specified document.\"\"\"\n",
    "    with (WORKING_DIRECTORY / file_name).open(\"r\") as file:\n",
    "        lines = file.readlines()\n",
    "    if start is not None:\n",
    "        start = 0\n",
    "    return \"\\n\".join(lines[start:end])\n",
    "\n",
    "\n",
    "@tool\n",
    "def write_document(\n",
    "    content: Annotated[str, \"Text content to be written into the document.\"],\n",
    "    file_name: Annotated[str, \"File path to save the document.\"],\n",
    ") -> Annotated[str, \"Path of the saved document file.\"]:\n",
    "    \"\"\"Create and save a text document.\"\"\"\n",
    "    with (WORKING_DIRECTORY / file_name).open(\"w\") as file:\n",
    "        file.write(content)\n",
    "    return f\"Document saved to {file_name}\"\n",
    "\n",
    "\n",
    "@tool\n",
    "def edit_document(\n",
    "    file_name: Annotated[str, \"Path of the document to be edited.\"],\n",
    "    inserts: Annotated[\n",
    "        Dict[int, str],\n",
    "        \"Dictionary where key is the line number (1-indexed) and value is the text to be inserted at that line.\",\n",
    "    ] = {},\n",
    ") -> Annotated[str, \"Path of the edited document file.\"]:\n",
    "    \"\"\"Edit a document by inserting text at specific line numbers.\"\"\"\n",
    "\n",
    "    with (WORKING_DIRECTORY / file_name).open(\"r\") as file:\n",
    "        lines = file.readlines()\n",
    "\n",
    "    sorted_inserts = sorted(inserts.items())\n",
    "\n",
    "    for line_number, text in sorted_inserts:\n",
    "        if 1 <= line_number <= len(lines) + 1:\n",
    "            lines.insert(line_number - 1, text + \"\\n\")\n",
    "        else:\n",
    "            return f\"Error: Line number {line_number} is out of range.\"\n",
    "\n",
    "    with (WORKING_DIRECTORY / file_name).open(\"w\") as file:\n",
    "        file.writelines(lines)\n",
    "\n",
    "    return f\"Document edited and saved to {file_name}\""
   ]
  },
  {
   "cell_type": "code",
   "execution_count": 36,
   "metadata": {},
   "outputs": [],
   "source": [
    "import operator\n",
    "from pathlib import Path\n",
    "\n",
    "class DocWritingState(TypedDict):\n",
    "    messages: Annotated[List[BaseMessage], operator.add]\n",
    "    team_members: str\n",
    "    next: str\n",
    "    current_files: str"
   ]
  },
  {
   "cell_type": "code",
   "execution_count": 21,
   "metadata": {},
   "outputs": [],
   "source": [
    "def prelude(state):\n",
    "    written_files = []\n",
    "    if not WORKING_DIRECTORY.exists():\n",
    "        WORKING_DIRECTORY.mkdir()\n",
    "    try:\n",
    "        written_files = [\n",
    "            f.relative_to(WORKING_DIRECTORY) for f in WORKING_DIRECTORY.rglob(\"*\")\n",
    "        ]\n",
    "    except:\n",
    "        pass\n",
    "    if not written_files:\n",
    "        return {**state, \"current_files\": \"No files written.\"}\n",
    "    return {\n",
    "        **state,\n",
    "        \"current_files\": \"\\nBelow are files your team has written to the directory:\\n\"\n",
    "        + \"\\n\".join([f\" - {f}\" for f in written_files]),\n",
    "    }"
   ]
  },
  {
   "cell_type": "code",
   "execution_count": 37,
   "metadata": {},
   "outputs": [],
   "source": [
    "doc_writer_agent = create_agent(\n",
    "    llm,\n",
    "    [retrieve_information,write_document, edit_document, read_document],\n",
    "    (\"You are an expert writing paper summarization.\\n\"\n",
    "    \"Below are files currently in your directory:\\n{current_files}\"\n",
    "    \"You may only speak as your role. You must not speak as any other roles.\"),\n",
    ")\n",
    "context_aware_doc_writer_agent = prelude | doc_writer_agent\n",
    "doc_writing_node = functools.partial(\n",
    "    agent_node, agent=context_aware_doc_writer_agent, name=\"DocWriter\"\n",
    ")\n",
    "\n",
    "\n",
    "citation_agent = create_agent(\n",
    "    llm,\n",
    "    [create_citation, write_document, edit_document, read_document],\n",
    "    (\"You are an expert in research citation. You will add citations numbers inside the research summarization and at the end of the paragraph, create a citation list.\\n\"\n",
    "    \"Below are files currently in your directory:\\n{current_files}\"\n",
    "    \"You may only speak as your role. You must not speak as any other roles.\"),\n",
    ")\n",
    "context_aware_citation_agent = prelude | citation_agent\n",
    "citation_node = functools.partial(\n",
    "    agent_node, agent=context_aware_citation_agent, name=\"CiteEditor\"\n",
    ")\n",
    "\n",
    "copy_editor_agent = create_agent(\n",
    "    llm,\n",
    "    [write_document, edit_document, read_document],\n",
    "    (\"You are an expert in research ariticle editing who focuses on fixing grammar, spelling, and tone issues\\n\"\n",
    "    \"Below are files currently in your directory:\\n{current_files}\"\n",
    "    \"You may only speak as your role. You must not speak as any other roles.\"),\n",
    ")\n",
    "context_aware_copy_editor_agent = prelude | copy_editor_agent\n",
    "copy_editing_node = functools.partial(\n",
    "    agent_node, agent=context_aware_copy_editor_agent, name=\"CopyEditor\"\n",
    ")\n",
    "\n",
    "\n",
    "doc_writing_supervisor = create_team_supervisor(\n",
    "    llm,\n",
    "    (\"You are a supervisor tasked with managing a conversation between the\"\n",
    "    \" following workers: {team_members}. You should always verify the technical\"\n",
    "    \" contents after any edits are made. \"\n",
    "    \"Given the following user request,\"\n",
    "    \" respond with the worker to act next. Each worker will perform a\"\n",
    "    \" task and respond with their results and status. When each team is finished,\"\n",
    "    \" you must respond with FINISH.\"),\n",
    "    [\"DocWriter\", \"CiteEditor\",\"CopyEditor\"],\n",
    ")"
   ]
  },
  {
   "cell_type": "code",
   "execution_count": 38,
   "metadata": {},
   "outputs": [],
   "source": [
    "authoring_graph = StateGraph(DocWritingState)\n",
    "authoring_graph.add_node(\"DocWriter\", doc_writing_node)\n",
    "authoring_graph.add_node(\"CiteEditor\", citation_node)\n",
    "authoring_graph.add_node(\"CopyEditor\", copy_editing_node)\n",
    "authoring_graph.add_node(\"supervisor\", doc_writing_supervisor)\n",
    "\n",
    "authoring_graph.add_edge(\"DocWriter\", \"CiteEditor\")\n",
    "authoring_graph.add_edge(\"CiteEditor\", \"CopyEditor\")\n",
    "authoring_graph.add_edge(\"CopyEditor\", \"supervisor\")\n",
    "\n",
    "\n",
    "\n",
    "authoring_graph.add_conditional_edges(\n",
    "    \"supervisor\",\n",
    "    lambda x: x[\"next\"],\n",
    "    {\n",
    "        \"DocWriter\": \"DocWriter\",\n",
    "        \"CiteEditor\": \"CiteEditor\",\n",
    "        \"CopyEditor\" : \"CopyEditor\",\n",
    "        \"FINISH\": END,\n",
    "    },\n",
    ")\n",
    "\n",
    "authoring_graph.set_entry_point(\"supervisor\")\n",
    "chain_linkedin = authoring_graph.compile()"
   ]
  },
  {
   "cell_type": "markdown",
   "metadata": {},
   "source": [
    "## the whole team"
   ]
  },
  {
   "cell_type": "code",
   "execution_count": 39,
   "metadata": {},
   "outputs": [
    {
     "data": {
      "image/jpeg": "[encoded data removed]",
      "text/plain": [
       "<IPython.core.display.Image object>"
      ]
     },
     "metadata": {},
     "output_type": "display_data"
    }
   ],
   "source": [
    "from IPython.display import Image, display\n",
    "\n",
    "try:\n",
    "    display(Image(chain_linkedin.get_graph(xray=True).draw_mermaid_png()))\n",
    "except:\n",
    "    pass"
   ]
  },
  {
   "cell_type": "code",
   "execution_count": 40,
   "metadata": {},
   "outputs": [],
   "source": [
    "def enter_chain(message: str, members: List[str]):\n",
    "    results = {\n",
    "        \"messages\": [HumanMessage(content=message)],\n",
    "        \"team_members\": \", \".join(members),\n",
    "    }\n",
    "    return results\n",
    "\n",
    "authoring_chain = (\n",
    "    functools.partial(enter_chain, members=authoring_graph.nodes)\n",
    "    | authoring_graph.compile()\n",
    ")"
   ]
  },
  {
   "cell_type": "markdown",
   "metadata": {},
   "source": [
    "## sample run"
   ]
  },
  {
   "cell_type": "code",
   "execution_count": 42,
   "metadata": {},
   "outputs": [
    {
     "name": "stdout",
     "output_type": "stream",
     "text": [
      "2024-10-10 14:31:41 - HTTP Request: POST https://api.openai.com/v1/chat/completions \"HTTP/1.1 200 OK\"\n",
      "{'supervisor': {'next': 'DocWriter'}}\n",
      "---\n",
      "2024-10-10 14:31:42 - HTTP Request: POST https://api.openai.com/v1/chat/completions \"HTTP/1.1 200 OK\"\n",
      "2024-10-10 14:31:43 - HTTP Request: POST https://api.openai.com/v1/embeddings \"HTTP/1.1 200 OK\"\n",
      "2024-10-10 14:31:47 - HTTP Request: POST https://api.openai.com/v1/chat/completions \"HTTP/1.1 200 OK\"\n",
      "2024-10-10 14:31:48 - HTTP Request: POST https://api.openai.com/v1/chat/completions \"HTTP/1.1 200 OK\"\n",
      "2024-10-10 14:31:50 - HTTP Request: POST https://api.openai.com/v1/embeddings \"HTTP/1.1 200 OK\"\n",
      "2024-10-10 14:31:53 - HTTP Request: POST https://api.openai.com/v1/chat/completions \"HTTP/1.1 200 OK\"\n",
      "2024-10-10 14:31:55 - HTTP Request: POST https://api.openai.com/v1/chat/completions \"HTTP/1.1 200 OK\"\n",
      "2024-10-10 14:32:25 - HTTP Request: POST https://api.openai.com/v1/chat/completions \"HTTP/1.1 200 OK\"\n",
      "{'DocWriter': {'messages': [HumanMessage(content='The detailed summaries of the two papers have been successfully written and saved to the document named \"paper_summaries.txt\".', name='DocWriter')]}}\n",
      "---\n",
      "2024-10-10 14:32:27 - HTTP Request: POST https://api.openai.com/v1/chat/completions \"HTTP/1.1 200 OK\"\n",
      "2024-10-10 14:32:28 - HTTP Request: POST https://api.openai.com/v1/chat/completions \"HTTP/1.1 200 OK\"\n",
      "{'CiteEditor': {'messages': [HumanMessage(content='The detailed summaries of the two papers are as follows:\\n\\n**Paper 1: Tele-Mental Health Service: Unveiling the Disparity and Impact on Healthcare Access and Expenditures during the COVID-19 Pandemic in Mississippi**\\n\\nThe study investigates the role of tele-mental health (TMH) services during the COVID-19 pandemic in Mississippi, revealing significant disparities in access and the impact on healthcare utilization and expenses. A cohort of 6,787 adult patients insured by the University of Mississippi Medical Center was analyzed, with 3,065 utilizing TMH services from January 2020 to June 2023. The TMH users predominantly included younger, female, White/Caucasian individuals, particularly from rural areas with higher income levels[1].\\n\\nFindings indicated a substantial increase in mental health-related outpatient visits (190%) and related medical expenditures (17%) due to TMH utilization. Conversely, there was a notable decrease in all-cause medical expenditures by 12%, suggesting cost-effectiveness in managing mental health needs remotely. Rural residents experienced even greater benefits, with a 205% increase in outpatient visits and a 19% reduction in overall medical costs. The study highlights the necessity of addressing sociodemographic disparities to enhance access to TMH and reduce healthcare costs comprehensively[1].\\n\\n**Paper 2: Double Trouble: COVID-19 Infection Exacerbates Sickle Cell Crisis Outcomes in Hospitalized Patients—Insights from National Inpatient Sample 2020**\\n\\nThis research explores the exacerbated outcomes of sickle cell crisis (SCC) in patients also diagnosed with COVID-19. Utilizing the National Inpatient Sample data from 2020, the study reveals that SCC patients co-infected with COVID-19 experienced significantly higher mortality rates (2.28% vs. 0.33%), more complications such as acute respiratory failure and acute kidney injury, longer hospital stays, and increased hospital charges[2]. The findings underscore the critical need for enhanced medical care for SCC patients with COVID-19 and the importance of preventive strategies to protect this vulnerable group from severe outcomes[2].\\n\\n### Citation List\\n\\n[1] \"Tele-Mental Health Service: Unveiling the Disparity and Impact on Healthcare Access and Expenditures during the COVID-19 Pandemic in Mississippi.\"\\n\\n[2] \"Double Trouble: COVID-19 Infection Exacerbates Sickle Cell Crisis Outcomes in Hospitalized Patients—Insights from National Inpatient Sample 2020.\"', name='CiteEditor')]}}\n",
      "---\n",
      "2024-10-10 14:32:44 - HTTP Request: POST https://api.openai.com/v1/chat/completions \"HTTP/1.1 200 OK\"\n",
      "2024-10-10 14:33:00 - HTTP Request: POST https://api.openai.com/v1/chat/completions \"HTTP/1.1 200 OK\"\n",
      "{'CopyEditor': {'messages': [HumanMessage(content='The detailed summaries of the two papers have been successfully written and saved to the document named \"paper_summaries.txt\".', name='CopyEditor')]}}\n",
      "---\n",
      "2024-10-10 14:33:02 - HTTP Request: POST https://api.openai.com/v1/chat/completions \"HTTP/1.1 200 OK\"\n",
      "{'supervisor': {'next': 'FINISH'}}\n",
      "---\n"
     ]
    }
   ],
   "source": [
    "for s in authoring_chain.stream(\n",
    "    \"\"\"Write an detailed summary about: \n",
    "    Paper 1: Tele-Mental Health Service: Unveiling the Disparity and Impact on Healthcare Access and Expenditures during the COVID-19 Pandemic in Mississippi.\n",
    "    Paper 2: Double Trouble: COVID-19 Infection Exacerbates Sickle Cell Crisis Outcomes in Hospitalized Patients-Insights from National Inpatient Sample 2020.\n",
    "    make sure to include citations numbers inside the text you created and at the end of the paragraph, create a citation list. At lst, write it to disk.\"\"\",\n",
    "    {\"recursion_limit\": 10},\n",
    "):\n",
    "    if \"__end__\" not in s:\n",
    "        print(s)\n",
    "        print(\"---\")"
   ]
  },
  {
   "cell_type": "code",
   "execution_count": null,
   "metadata": {},
   "outputs": [],
   "source": []
  }
 ],
 "metadata": {
  "kernelspec": {
   "display_name": "llmops-course",
   "language": "python",
   "name": "python3"
  },
  "language_info": {
   "codemirror_mode": {
    "name": "ipython",
    "version": 3
   },
   "file_extension": ".py",
   "mimetype": "text/x-python",
   "name": "python",
   "nbconvert_exporter": "python",
   "pygments_lexer": "ipython3",
   "version": "3.11.9"
  }
 },
 "nbformat": 4,
 "nbformat_minor": 2
}

{
 "cells": [
  {
   "cell_type": "code",
   "execution_count": 1,
   "metadata": {},
   "outputs": [],
   "source": [
    "import pandas as pd"
   ]
  },
  {
   "cell_type": "code",
   "execution_count": 1,
   "metadata": {},
   "outputs": [
    {
     "data": {
      "text/plain": [
       "True"
      ]
     },
     "execution_count": 1,
     "metadata": {},
     "output_type": "execute_result"
    }
   ],
   "source": [
    "from dotenv import load_dotenv\n",
    "load_dotenv()"
   ]
  },
  {
   "cell_type": "markdown",
   "metadata": {},
   "source": [
    "### Data description\n",
    "Reference: https://www.kaggle.com/datasets/prosperchuks/health-dataset/data  \n",
    "#### Columns:\n",
    "- **Age**: 13-level age category (_AGEG5YR see codebook) 1 = 18-24 9 = 60-64 13 = 80 or older\n",
    "- **Sex**: patient's gender (1: male; 0: female)\n",
    "- **HighChol**: 0 = no high cholesterol 1 = high cholesterol\n",
    "- **CholCheck**: 0 = no cholesterol check in 5 years 1 = yes cholesterol check in 5 years\n",
    "- **BMI**: Body Mass Index\n",
    "- **Smoker**: Have you smoked at least 100 cigarettes in your entire life? [Note: 5 packs = 100 cigarettes] 0 = no 1 = yes\n",
    "- **HeartDiseaseorAttack**: coronary heart disease (CHD) or myocardial infarction (MI) 0 = no 1 = yes\n",
    "- **PhysActivity**: physical activity in past 30 days - not including job 0 = no 1 = yes\n",
    "- **Fruits**: Consume Fruit 1 or more times per day 0 = no 1 = yes\n",
    "- **Veggies**: Consume Vegetables 1 or more times per day 0 = no 1 = yes\n",
    "- **HvyAlcoholConsump**: (adult men >=14 drinks per week and adult women>=7 drinks per week) 0 = no 1 = yes\n",
    "- **GenHlth**: Would you say that in general your health is: scale 1-5 1 = excellent 2 = very good 3 = good 4 = fair 5 = poor\n",
    "- **MentHlth**: days of poor mental health scale 1-30 days\n",
    "- **PhysHlth**: physical illness or injury days in past 30 days scale 1-30\n",
    "- **DiffWalk**: Do you have serious difficulty walking or climbing stairs? 0 = no 1 = yes\n",
    "- **Stroke**: you ever had a stroke. 0 = no, 1 = yes\n",
    "- **HighBP**: 0 = no high, BP 1 = high BP  \n",
    "\n",
    "### Research questions and hypothesis\n",
    "- Hypothesis: older people are at higher risk of diabetes\n",
    "- What kind of life style contributes or prevents diabetes?"
   ]
  },
  {
   "cell_type": "code",
   "execution_count": null,
   "metadata": {},
   "outputs": [],
   "source": [
    "df = pd.read_csv('data/raw_data/diabetes_data.csv')\n",
    "df.shape"
   ]
  },
  {
   "cell_type": "markdown",
   "metadata": {},
   "source": [
    "## **TODO**\n",
    "- wrap assistant in langchain tool\n",
    "- https://python.langchain.com/v0.2/api_reference/langchain/agents/langchain.agents.openai_assistant.base.OpenAIAssistantRunnable.html#langchain.agents.openai_assistant.base.OpenAIAssistantRunnable"
   ]
  },
  {
   "cell_type": "code",
   "execution_count": 2,
   "metadata": {},
   "outputs": [],
   "source": [
    "\n",
    "from openai import OpenAI\n",
    "client = OpenAI()\n",
    "prompt = \"You are a medical scientist great at interpreting clinical data through data visualization and story telling. You analyze data present in .csv files, understand patterns, and come up with data visualizations relevant to those patterns. You also share a brief story of the patterns observed from the data with references provided.\"\n",
    "\n",
    "file = client.files.create(\n",
    "  file=open(\"data/raw_data/diabetes_data.csv\", \"rb\"),\n",
    "  purpose='assistants'\n",
    ")\n",
    "\n",
    "assistant = client.beta.assistants.create(\n",
    "  name=\"Data visualizer\",\n",
    "  description=prompt,\n",
    "  model=\"gpt-3.5-turbo\",\n",
    "  tools=[{\"type\": \"code_interpreter\"}],\n",
    "  tool_resources={\n",
    "    \"code_interpreter\": {\n",
    "      \"file_ids\": [file.id]\n",
    "    }\n",
    "  }\n",
    ")"
   ]
  },
  {
   "cell_type": "code",
   "execution_count": 3,
   "metadata": {},
   "outputs": [],
   "source": [
    "content = \"Is age an major factor of diabetes? Create a data visualizations based on the data in this file.\""
   ]
  },
  {
   "cell_type": "code",
   "execution_count": 4,
   "metadata": {},
   "outputs": [],
   "source": [
    "# create thread\n",
    "thread = client.beta.threads.create(\n",
    "            messages=[{\"role\": \"user\",\n",
    "                        \"content\": content}]\n",
    "            )\n",
    "\n",
    "# create run\n",
    "run = client.beta.threads.runs.create_and_poll(\n",
    "  thread_id=thread.id,\n",
    "  assistant_id=assistant.id,\n",
    "  instructions=\"Please address the user as Jane Doe. The user has a premium account.\"\n",
    ")"
   ]
  },
  {
   "cell_type": "code",
   "execution_count": 5,
   "metadata": {},
   "outputs": [
    {
     "name": "stdout",
     "output_type": "stream",
     "text": [
      "run completed\n",
      "SyncCursorPage[Message](data=[Message(id='msg_M2EPjm9NqKcgmwsVAo921kxg', assistant_id='asst_DaVEenaRDF50e0ThmFXe7PKC', attachments=[], completed_at=None, content=[ImageFileContentBlock(image_file=ImageFile(file_id='file-jp0qawrgaAtDljMx4CVqd6B1', detail=None), type='image_file'), TextContentBlock(text=Text(annotations=[], value='The bar plot above shows the distribution of diabetes across different age groups based on the data in the file. Each age group is represented on the x-axis, while the count of individuals with and without diabetes is shown on the y-axis.\\n\\nFrom the visualization, we can observe how diabetes is distributed across different age groups. If you have any specific questions or would like to explore the data further, feel free to let me know!'), type='text')], created_at=1729401822, incomplete_at=None, incomplete_details=None, metadata={}, object='thread.message', role='assistant', run_id='run_COYgwkeRWtP6NuOaaTau4mRI', status=None, thread_id='thread_RFt2RxlHu59vdPNOu4CshBNW'), Message(id='msg_6x9P88O8COFxBcGi4vrLJ8Uv', assistant_id='asst_DaVEenaRDF50e0ThmFXe7PKC', attachments=[], completed_at=None, content=[TextContentBlock(text=Text(annotations=[], value=\"The data contains various columns including 'Age' and 'Diabetes' which will be of interest to us for this analysis. \\n\\nLet's create data visualizations to explore the relationship between age and diabetes. We can start by plotting a graph to see how diabetes is distributed across different age groups. Let's create this visualization now.\"), type='text')], created_at=1729401812, incomplete_at=None, incomplete_details=None, metadata={}, object='thread.message', role='assistant', run_id='run_COYgwkeRWtP6NuOaaTau4mRI', status=None, thread_id='thread_RFt2RxlHu59vdPNOu4CshBNW'), Message(id='msg_Cgc1MiYMBsJYsgqOTIXDvuBY', assistant_id='asst_DaVEenaRDF50e0ThmFXe7PKC', attachments=[], completed_at=None, content=[TextContentBlock(text=Text(annotations=[], value=\"Sure, let's start by loading the data from the uploaded file to understand its structure and contents. Once we have a clear understanding of the data, we can create data visualizations to explore the relationship between age and diabetes. Let's load the data first.\"), type='text')], created_at=1729401805, incomplete_at=None, incomplete_details=None, metadata={}, object='thread.message', role='assistant', run_id='run_COYgwkeRWtP6NuOaaTau4mRI', status=None, thread_id='thread_RFt2RxlHu59vdPNOu4CshBNW'), Message(id='msg_sILnSWnbyyepzuoAmKtUTVUe', assistant_id=None, attachments=[], completed_at=None, content=[TextContentBlock(text=Text(annotations=[], value='Is age an major factor of diabetes? Create a data visualizations based on the data in this file.'), type='text')], created_at=1729401802, incomplete_at=None, incomplete_details=None, metadata={}, object='thread.message', role='user', run_id=None, status=None, thread_id='thread_RFt2RxlHu59vdPNOu4CshBNW')], object='list', first_id='msg_M2EPjm9NqKcgmwsVAo921kxg', last_id='msg_sILnSWnbyyepzuoAmKtUTVUe', has_more=False)\n"
     ]
    }
   ],
   "source": [
    "import time\n",
    "while run.status != 'completed':\n",
    "    print(run.status)\n",
    "    time.sleep(3)\n",
    "\n",
    "print(f'run {run.status}')\n",
    "messages = client.beta.threads.messages.list(thread_id=thread.id)\n",
    "print(messages)"
   ]
  },
  {
   "cell_type": "code",
   "execution_count": 6,
   "metadata": {},
   "outputs": [
    {
     "data": {
      "text/plain": [
       "4"
      ]
     },
     "execution_count": 6,
     "metadata": {},
     "output_type": "execute_result"
    }
   ],
   "source": [
    "len(messages.data)"
   ]
  },
  {
   "cell_type": "code",
   "execution_count": 9,
   "metadata": {},
   "outputs": [
    {
     "data": {
      "text/plain": [
       "[ImageFileContentBlock(image_file=ImageFile(file_id='file-jp0qawrgaAtDljMx4CVqd6B1', detail=None), type='image_file'),\n",
       " TextContentBlock(text=Text(annotations=[], value='The bar plot above shows the distribution of diabetes across different age groups based on the data in the file. Each age group is represented on the x-axis, while the count of individuals with and without diabetes is shown on the y-axis.\\n\\nFrom the visualization, we can observe how diabetes is distributed across different age groups. If you have any specific questions or would like to explore the data further, feel free to let me know!'), type='text')]"
      ]
     },
     "execution_count": 9,
     "metadata": {},
     "output_type": "execute_result"
    }
   ],
   "source": [
    "messages.data[0].content"
   ]
  },
  {
   "cell_type": "code",
   "execution_count": 11,
   "metadata": {},
   "outputs": [
    {
     "data": {
      "text/plain": [
       "[TextContentBlock(text=Text(annotations=[], value=\"The data contains various columns including 'Age' and 'Diabetes' which will be of interest to us for this analysis. \\n\\nLet's create data visualizations to explore the relationship between age and diabetes. We can start by plotting a graph to see how diabetes is distributed across different age groups. Let's create this visualization now.\"), type='text')]"
      ]
     },
     "execution_count": 11,
     "metadata": {},
     "output_type": "execute_result"
    }
   ],
   "source": [
    "messages.data[1].content"
   ]
  },
  {
   "cell_type": "code",
   "execution_count": 12,
   "metadata": {},
   "outputs": [
    {
     "data": {
      "text/plain": [
       "[TextContentBlock(text=Text(annotations=[], value=\"Sure, let's start by loading the data from the uploaded file to understand its structure and contents. Once we have a clear understanding of the data, we can create data visualizations to explore the relationship between age and diabetes. Let's load the data first.\"), type='text')]"
      ]
     },
     "execution_count": 12,
     "metadata": {},
     "output_type": "execute_result"
    }
   ],
   "source": [
    "messages.data[2].content"
   ]
  },
  {
   "cell_type": "code",
   "execution_count": 13,
   "metadata": {},
   "outputs": [
    {
     "data": {
      "text/plain": [
       "[TextContentBlock(text=Text(annotations=[], value='Is age an major factor of diabetes? Create a data visualizations based on the data in this file.'), type='text')]"
      ]
     },
     "execution_count": 13,
     "metadata": {},
     "output_type": "execute_result"
    }
   ],
   "source": [
    "messages.data[3].content"
   ]
  },
  {
   "cell_type": "code",
   "execution_count": 14,
   "metadata": {},
   "outputs": [
    {
     "data": {
      "text/plain": [
       "\"The data contains various columns including 'Age' and 'Diabetes' which will be of interest to us for this analysis. \\n\\nLet's create data visualizations to explore the relationship between age and diabetes. We can start by plotting a graph to see how diabetes is distributed across different age groups. Let's create this visualization now.\""
      ]
     },
     "execution_count": 14,
     "metadata": {},
     "output_type": "execute_result"
    }
   ],
   "source": [
    "messages.data[1].content[0].text.value"
   ]
  },
  {
   "cell_type": "code",
   "execution_count": 16,
   "metadata": {},
   "outputs": [],
   "source": [
    "# retrieve image\n",
    "image_data = client.files.content(messages.data[0].content[0].image_file.file_id)\n",
    "image_data_bytes = image_data.read()\n",
    "\n",
    "with open(\"data/plot.png\", \"wb\") as file:\n",
    "    file.write(image_data_bytes)"
   ]
  },
  {
   "cell_type": "markdown",
   "metadata": {},
   "source": [
    "### Langchain assistant runnable"
   ]
  },
  {
   "cell_type": "code",
   "execution_count": 2,
   "metadata": {},
   "outputs": [],
   "source": [
    "file_path = \"data/raw_data/diabetes_data.csv\"\n",
    "DATA_ANALYSIS_PROMPT = \"You are a medical scientist great at interpreting clinical data through data visualization and story telling. You analyze data present in .csv files, understand patterns, and come up with data visualizations relevant to those patterns. You also share a brief story of the patterns observed from the data with references provided.\"\n",
    "content = \"Is age an major factor of diabetes? Create a data visualizations based on the data in this file.\""
   ]
  },
  {
   "cell_type": "code",
   "execution_count": 3,
   "metadata": {},
   "outputs": [],
   "source": [
    "from langchain_experimental.openai_assistant import OpenAIAssistantRunnable\n",
    "from openai import OpenAI\n"
   ]
  },
  {
   "cell_type": "code",
   "execution_count": null,
   "metadata": {},
   "outputs": [],
   "source": [
    "interpreter_assistant = OpenAIAssistantRunnable.create_assistant(\n",
    "                            name=\"visualization_assistant\",\n",
    "                            instructions = prompt,\n",
    "                            tools=[{\"type\": \"code_interpreter\"}],\n",
    "                            model=\"gpt-3.5-turbo\", \n",
    "                            truncation_strategy={\n",
    "                                        \"type\": \"last_messages\",\n",
    "                                        \"last_messages\": 1\n",
    "                                    }\n",
    "                            )"
   ]
  },
  {
   "cell_type": "code",
   "execution_count": 4,
   "metadata": {},
   "outputs": [],
   "source": [
    "def create_thread(file_path, content):    \n",
    "    \"\"\" Define the thread that uploads file and takes input message\"\"\"\n",
    "    \n",
    "    client = OpenAI()\n",
    "    file = client.files.create(\n",
    "                file=open(file_path, \"rb\"),\n",
    "                purpose='assistants'\n",
    "                )\n",
    "\n",
    "    thread = client.beta.threads.create(\n",
    "                    messages=[{\"role\": \"user\",\n",
    "                                \"content\": content,\n",
    "                                \"attachments\": [{\n",
    "                                    \"file_id\": file.id,\n",
    "                                    \"tools\": [{\"type\": \"code_interpreter\"}]\n",
    "                                    }]\n",
    "                            }],           \n",
    "                    )\n",
    "    return thread\n",
    "    \n",
    "\n",
    "output = interpreter_assistant.invoke(input={\"content\": content, 'thread_id':thread.id})[-1]\n"
   ]
  },
  {
   "cell_type": "code",
   "execution_count": null,
   "metadata": {},
   "outputs": [],
   "source": [
    "def plot_node(content, prompt, name='data_vis'):\n",
    "    assistant = OpenAIAssistantRunnable.create_assistant(\n",
    "                            name=\"visualization_assistant\",\n",
    "                            instructions = prompt,\n",
    "                            tools=[{\"type\": \"code_interpreter\"}],\n",
    "                            model=\"gpt-3.5-turbo\", \n",
    "                            truncation_strategy={\n",
    "                                        \"type\": \"last_messages\",\n",
    "                                        \"last_messages\": 1\n",
    "                                    })\n",
    "    thread = create_thread(file_path, content)\n",
    "    results = assistant.invoke(input={\"content\": content, 'thread_id':thread.id})[-1]\n",
    "    \n",
    "    # retrieve image\n",
    "    f_id = results.content[0].image_file.file_id\n",
    "    image_data = client.files.content(f_id)\n",
    "    image_data_bytes = image_data.read()\n",
    "    with open(\"data/plot.png\", \"wb\") as file:\n",
    "        file.write(image_data_bytes)\n",
    "    \n",
    "    return {\"messages\": [HumanMessage(content=results.content[1].text.value, name=name)]}\n"
   ]
  },
  {
   "cell_type": "code",
   "execution_count": 5,
   "metadata": {},
   "outputs": [
    {
     "data": {
      "text/plain": [
       "[ImageFileContentBlock(image_file=ImageFile(file_id='file-y9nyQvJAJkm1YLfDmHqqIPAQ', detail=None), type='image_file'),\n",
       " TextContentBlock(text=Text(annotations=[], value='The histograms above show the distribution of ages for individuals with and without diabetes. The red histogram represents individuals with diabetes (Diabetes: Yes), while the blue histogram represents individuals without diabetes (Diabetes: No).\\n\\nFrom the histograms, we can observe the following:\\n- The distribution of ages for individuals without diabetes (blue) is relatively uniform across age groups.\\n- The distribution of ages for individuals with diabetes (red) shows a slightly right-skewed pattern, with a slightly higher proportion of older individuals having diabetes.\\n\\nThis visualization provides a clearer comparison of the age distribution between individuals with and without diabetes. It suggests that there may be a slightly higher likelihood of having diabetes among older individuals, but further analysis would be needed to quantify and understand this relationship more comprehensively.\\n\\nIf you would like any additional analyses or visualizations, feel free to let me know!'), type='text')]"
      ]
     },
     "execution_count": 5,
     "metadata": {},
     "output_type": "execute_result"
    }
   ],
   "source": [
    "output.content"
   ]
  },
  {
   "cell_type": "code",
   "execution_count": 6,
   "metadata": {},
   "outputs": [
    {
     "data": {
      "text/plain": [
       "'The histograms above show the distribution of ages for individuals with and without diabetes. The red histogram represents individuals with diabetes (Diabetes: Yes), while the blue histogram represents individuals without diabetes (Diabetes: No).\\n\\nFrom the histograms, we can observe the following:\\n- The distribution of ages for individuals without diabetes (blue) is relatively uniform across age groups.\\n- The distribution of ages for individuals with diabetes (red) shows a slightly right-skewed pattern, with a slightly higher proportion of older individuals having diabetes.\\n\\nThis visualization provides a clearer comparison of the age distribution between individuals with and without diabetes. It suggests that there may be a slightly higher likelihood of having diabetes among older individuals, but further analysis would be needed to quantify and understand this relationship more comprehensively.\\n\\nIf you would like any additional analyses or visualizations, feel free to let me know!'"
      ]
     },
     "execution_count": 6,
     "metadata": {},
     "output_type": "execute_result"
    }
   ],
   "source": [
    "text_results = output.content[1].text.value\n",
    "text_results"
   ]
  },
  {
   "cell_type": "code",
   "execution_count": null,
   "metadata": {},
   "outputs": [],
   "source": []
  },
  {
   "cell_type": "code",
   "execution_count": 7,
   "metadata": {},
   "outputs": [
    {
     "data": {
      "text/plain": [
       "'file-y9nyQvJAJkm1YLfDmHqqIPAQ'"
      ]
     },
     "execution_count": 7,
     "metadata": {},
     "output_type": "execute_result"
    }
   ],
   "source": [
    "f_id = output.content[0].image_file.file_id\n",
    "f_id"
   ]
  },
  {
   "cell_type": "code",
   "execution_count": 8,
   "metadata": {},
   "outputs": [],
   "source": [
    "# retrieve image\n",
    "image_data = client.files.content(f_id)\n",
    "image_data_bytes = image_data.read()\n",
    "\n",
    "with open(\"data/plot.png\", \"wb\") as file:\n",
    "    file.write(image_data_bytes)"
   ]
  },
  {
   "cell_type": "code",
   "execution_count": null,
   "metadata": {},
   "outputs": [],
   "source": []
  },
  {
   "cell_type": "code",
   "execution_count": null,
   "metadata": {},
   "outputs": [],
   "source": []
  },
  {
   "cell_type": "code",
   "execution_count": null,
   "metadata": {},
   "outputs": [],
   "source": [
    "from utils.data_analysis import data_visualization_node\n",
    "file_path = \"data/raw_data/diabetes_data.csv\"\n",
    "content = \"Is age an major factor of diabetes? Create a data visualizations based on the data in this file.\""
   ]
  },
  {
   "cell_type": "code",
   "execution_count": null,
   "metadata": {},
   "outputs": [],
   "source": [
    "results = data_visualization_node(content, file_path)\n",
    "results"
   ]
  }
 ],
 "metadata": {
  "kernelspec": {
   "display_name": "ai-playground",
   "language": "python",
   "name": "python3"
  },
  "language_info": {
   "codemirror_mode": {
    "name": "ipython",
    "version": 3
   },
   "file_extension": ".py",
   "mimetype": "text/x-python",
   "name": "python",
   "nbconvert_exporter": "python",
   "pygments_lexer": "ipython3",
   "version": "3.11.9"
  }
 },
 "nbformat": 4,
 "nbformat_minor": 2
}

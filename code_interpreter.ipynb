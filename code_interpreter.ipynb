{
 "cells": [
  {
   "cell_type": "code",
   "execution_count": 11,
   "metadata": {},
   "outputs": [],
   "source": [
    "import pandas as pd"
   ]
  },
  {
   "cell_type": "code",
   "execution_count": null,
   "metadata": {},
   "outputs": [],
   "source": [
    "from dotenv import load_dotenv\n",
    "load_dotenv()"
   ]
  },
  {
   "cell_type": "markdown",
   "metadata": {},
   "source": [
    "### Data description\n",
    "Reference: https://www.kaggle.com/datasets/prosperchuks/health-dataset/data  \n",
    "#### Columns:\n",
    "- **Age**: 13-level age category (_AGEG5YR see codebook) 1 = 18-24 9 = 60-64 13 = 80 or older\n",
    "- **Sex**: patient's gender (1: male; 0: female)\n",
    "- **HighChol**: 0 = no high cholesterol 1 = high cholesterol\n",
    "- **CholCheck**: 0 = no cholesterol check in 5 years 1 = yes cholesterol check in 5 years\n",
    "- **BMI**: Body Mass Index\n",
    "- **Smoker**: Have you smoked at least 100 cigarettes in your entire life? [Note: 5 packs = 100 cigarettes] 0 = no 1 = yes\n",
    "- **HeartDiseaseorAttack**: coronary heart disease (CHD) or myocardial infarction (MI) 0 = no 1 = yes\n",
    "- **PhysActivity**: physical activity in past 30 days - not including job 0 = no 1 = yes\n",
    "- **Fruits**: Consume Fruit 1 or more times per day 0 = no 1 = yes\n",
    "- **Veggies**: Consume Vegetables 1 or more times per day 0 = no 1 = yes\n",
    "- **HvyAlcoholConsump**: (adult men >=14 drinks per week and adult women>=7 drinks per week) 0 = no 1 = yes\n",
    "- **GenHlth**: Would you say that in general your health is: scale 1-5 1 = excellent 2 = very good 3 = good 4 = fair 5 = poor\n",
    "- **MentHlth**: days of poor mental health scale 1-30 days\n",
    "- **PhysHlth**: physical illness or injury days in past 30 days scale 1-30\n",
    "- **DiffWalk**: Do you have serious difficulty walking or climbing stairs? 0 = no 1 = yes\n",
    "- **Stroke**: you ever had a stroke. 0 = no, 1 = yes\n",
    "- **HighBP**: 0 = no high, BP 1 = high BP  \n",
    "\n",
    "### Research questions and hypothesis\n",
    "- Hypothesis: older people are at higher risk of diabetes\n",
    "- What kind of life style contributes or prevents diabetes?"
   ]
  },
  {
   "cell_type": "code",
   "execution_count": null,
   "metadata": {},
   "outputs": [],
   "source": [
    "df = pd.read_csv('data/raw_data/diabetes_data.csv')\n",
    "df.shape"
   ]
  },
  {
   "cell_type": "code",
   "execution_count": null,
   "metadata": {},
   "outputs": [],
   "source": [
    "df.head()"
   ]
  },
  {
   "cell_type": "markdown",
   "metadata": {},
   "source": [
    "## **TODO**\n",
    "- wrap assistant in langchain tool\n",
    "- https://python.langchain.com/v0.2/api_reference/langchain/agents/langchain.agents.openai_assistant.base.OpenAIAssistantRunnable.html#langchain.agents.openai_assistant.base.OpenAIAssistantRunnable"
   ]
  },
  {
   "cell_type": "code",
   "execution_count": 2,
   "metadata": {},
   "outputs": [],
   "source": [
    "\n",
    "from openai import OpenAI\n",
    "client = OpenAI()\n",
    "prompt = \"You are a medical scientist great at interpreting clinical data through data visualization and story telling. You analyze data present in .csv files, understand patterns, and come up with data visualizations relevant to those patterns. You also share a brief story of the patterns observed from the data with references provided.\"\n",
    "\n",
    "file = client.files.create(\n",
    "  file=open(\"data/raw_data/diabetes_data.csv\", \"rb\"),\n",
    "  purpose='assistants'\n",
    ")\n",
    "\n",
    "assistant = client.beta.assistants.create(\n",
    "  name=\"Data visualizer\",\n",
    "  description=prompt,\n",
    "  model=\"gpt-3.5-turbo\",\n",
    "  tools=[{\"type\": \"code_interpreter\"}],\n",
    "  tool_resources={\n",
    "    \"code_interpreter\": {\n",
    "      \"file_ids\": [file.id]\n",
    "    }\n",
    "  }\n",
    ")"
   ]
  },
  {
   "cell_type": "code",
   "execution_count": 3,
   "metadata": {},
   "outputs": [],
   "source": [
    "content = \"Is age an major factor of diabetes? Create a data visualizations based on the data in this file.\""
   ]
  },
  {
   "cell_type": "code",
   "execution_count": 4,
   "metadata": {},
   "outputs": [],
   "source": [
    "# create thread\n",
    "thread = client.beta.threads.create(\n",
    "            messages=[{\"role\": \"user\",\n",
    "                        \"content\": content}]\n",
    "            )\n",
    "\n",
    "# create run\n",
    "run = client.beta.threads.runs.create_and_poll(\n",
    "  thread_id=thread.id,\n",
    "  assistant_id=assistant.id,\n",
    "  instructions=\"Please address the user as Jane Doe. The user has a premium account.\"\n",
    ")"
   ]
  },
  {
   "cell_type": "code",
   "execution_count": null,
   "metadata": {},
   "outputs": [],
   "source": [
    "import time\n",
    "while run.status != 'completed':\n",
    "    print(run.status)\n",
    "    time.sleep(3)\n",
    "\n",
    "print(f'run {run.status}')\n",
    "messages = client.beta.threads.messages.list(thread_id=thread.id)\n",
    "print(messages)"
   ]
  },
  {
   "cell_type": "code",
   "execution_count": null,
   "metadata": {},
   "outputs": [],
   "source": [
    "len(messages.data)"
   ]
  },
  {
   "cell_type": "code",
   "execution_count": null,
   "metadata": {},
   "outputs": [],
   "source": [
    "messages.data[0].content"
   ]
  },
  {
   "cell_type": "code",
   "execution_count": null,
   "metadata": {},
   "outputs": [],
   "source": [
    "messages.data[1].content"
   ]
  },
  {
   "cell_type": "code",
   "execution_count": null,
   "metadata": {},
   "outputs": [],
   "source": [
    "messages.data[2].content"
   ]
  },
  {
   "cell_type": "code",
   "execution_count": null,
   "metadata": {},
   "outputs": [],
   "source": [
    "messages.data[3].content"
   ]
  },
  {
   "cell_type": "code",
   "execution_count": null,
   "metadata": {},
   "outputs": [],
   "source": [
    "messages.data[1].content[0].text.value"
   ]
  },
  {
   "cell_type": "code",
   "execution_count": 16,
   "metadata": {},
   "outputs": [],
   "source": [
    "# retrieve image\n",
    "image_data = client.files.content(messages.data[0].content[0].image_file.file_id)\n",
    "image_data_bytes = image_data.read()\n",
    "\n",
    "with open(\"data/plot.png\", \"wb\") as file:\n",
    "    file.write(image_data_bytes)"
   ]
  },
  {
   "cell_type": "markdown",
   "metadata": {},
   "source": [
    "### Langchain assistant runnable"
   ]
  },
  {
   "cell_type": "code",
   "execution_count": 2,
   "metadata": {},
   "outputs": [],
   "source": [
    "file_path = \"data/raw_data/diabetes_data.csv\"\n",
    "DATA_ANALYSIS_PROMPT = \"You are a medical scientist great at interpreting clinical data through data visualization and story telling. You analyze data present in .csv files, understand patterns, and come up with data visualizations relevant to those patterns. You also share a brief story of the patterns observed from the data with references provided.\"\n",
    "content = \"What caused diabetes?\""
   ]
  },
  {
   "cell_type": "code",
   "execution_count": 3,
   "metadata": {},
   "outputs": [],
   "source": [
    "from langchain_experimental.openai_assistant import OpenAIAssistantRunnable\n",
    "from openai import OpenAI\n"
   ]
  },
  {
   "cell_type": "code",
   "execution_count": null,
   "metadata": {},
   "outputs": [],
   "source": [
    "interpreter_assistant = OpenAIAssistantRunnable.create_assistant(\n",
    "                            name=\"visualization_assistant\",\n",
    "                            instructions = prompt,\n",
    "                            tools=[{\"type\": \"code_interpreter\"}],\n",
    "                            model=\"gpt-3.5-turbo\", \n",
    "                            truncation_strategy={\n",
    "                                        \"type\": \"last_messages\",\n",
    "                                        \"last_messages\": 1\n",
    "                                    }\n",
    "                            )"
   ]
  },
  {
   "cell_type": "code",
   "execution_count": 4,
   "metadata": {},
   "outputs": [],
   "source": [
    "def create_thread(file_path, content):    \n",
    "    \"\"\" Define the thread that uploads file and takes input message\"\"\"\n",
    "    \n",
    "    client = OpenAI()\n",
    "    file = client.files.create(\n",
    "                file=open(file_path, \"rb\"),\n",
    "                purpose='assistants'\n",
    "                )\n",
    "\n",
    "    thread = client.beta.threads.create(\n",
    "                    messages=[{\"role\": \"user\",\n",
    "                                \"content\": content,\n",
    "                                \"attachments\": [{\n",
    "                                    \"file_id\": file.id,\n",
    "                                    \"tools\": [{\"type\": \"code_interpreter\"}]\n",
    "                                    }]\n",
    "                            }],           \n",
    "                    )\n",
    "    return thread\n",
    "    \n",
    "\n",
    "output = interpreter_assistant.invoke(input={\"content\": content, 'thread_id':thread.id})[-1]\n"
   ]
  },
  {
   "cell_type": "code",
   "execution_count": null,
   "metadata": {},
   "outputs": [],
   "source": [
    "def plot_node(content, prompt, name='data_vis'):\n",
    "    assistant = OpenAIAssistantRunnable.create_assistant(\n",
    "                            name=\"visualization_assistant\",\n",
    "                            instructions = prompt,\n",
    "                            tools=[{\"type\": \"code_interpreter\"}],\n",
    "                            model=\"gpt-3.5-turbo\", \n",
    "                            truncation_strategy={\n",
    "                                        \"type\": \"last_messages\",\n",
    "                                        \"last_messages\": 1\n",
    "                                    })\n",
    "    thread = create_thread(file_path, content)\n",
    "    results = assistant.invoke(input={\"content\": content, 'thread_id':thread.id})[-1]\n",
    "    \n",
    "    # retrieve image\n",
    "    f_id = results.content[0].image_file.file_id\n",
    "    image_data = client.files.content(f_id)\n",
    "    image_data_bytes = image_data.read()\n",
    "    with open(\"data/plot.png\", \"wb\") as file:\n",
    "        file.write(image_data_bytes)\n",
    "    \n",
    "    return {\"messages\": [HumanMessage(content=results.content[1].text.value, name=name)]}\n"
   ]
  },
  {
   "cell_type": "code",
   "execution_count": null,
   "metadata": {},
   "outputs": [],
   "source": [
    "output.content"
   ]
  },
  {
   "cell_type": "code",
   "execution_count": null,
   "metadata": {},
   "outputs": [],
   "source": [
    "text_results = output.content[1].text.value\n",
    "text_results"
   ]
  },
  {
   "cell_type": "code",
   "execution_count": null,
   "metadata": {},
   "outputs": [],
   "source": []
  },
  {
   "cell_type": "code",
   "execution_count": null,
   "metadata": {},
   "outputs": [],
   "source": [
    "f_id = output.content[0].image_file.file_id\n",
    "f_id"
   ]
  },
  {
   "cell_type": "code",
   "execution_count": 8,
   "metadata": {},
   "outputs": [],
   "source": [
    "# retrieve image\n",
    "image_data = client.files.content(f_id)\n",
    "image_data_bytes = image_data.read()\n",
    "\n",
    "with open(\"data/plot.png\", \"wb\") as file:\n",
    "    file.write(image_data_bytes)"
   ]
  },
  {
   "cell_type": "code",
   "execution_count": null,
   "metadata": {},
   "outputs": [],
   "source": []
  },
  {
   "cell_type": "code",
   "execution_count": null,
   "metadata": {},
   "outputs": [],
   "source": []
  },
  {
   "cell_type": "code",
   "execution_count": 1,
   "metadata": {},
   "outputs": [],
   "source": [
    "from utils.data_analysis import data_visualization_node\n",
    "file_path = \"data/raw_data/diabetes_data.csv\"\n",
    "content = \"Is age an major factor of diabetes? Create a data visualizations based on the data in this file.\""
   ]
  },
  {
   "cell_type": "code",
   "execution_count": null,
   "metadata": {},
   "outputs": [],
   "source": [
    "results = data_visualization_node(content, file_path)\n",
    "results"
   ]
  },
  {
   "cell_type": "code",
   "execution_count": 1,
   "metadata": {},
   "outputs": [
    {
     "data": {
      "text/plain": [
       "True"
      ]
     },
     "execution_count": 1,
     "metadata": {},
     "output_type": "execute_result"
    }
   ],
   "source": [
    "from dotenv import load_dotenv\n",
    "load_dotenv()"
   ]
  },
  {
   "cell_type": "code",
   "execution_count": 2,
   "metadata": {},
   "outputs": [
    {
     "name": "stderr",
     "output_type": "stream",
     "text": [
      "/opt/anaconda3/envs/ai-playground/lib/python3.11/site-packages/sentence_transformers/cross_encoder/CrossEncoder.py:13: TqdmWarning: IProgress not found. Please update jupyter and ipywidgets. See https://ipywidgets.readthedocs.io/en/stable/user_install.html\n",
      "  from tqdm.autonotebook import tqdm, trange\n",
      "/opt/anaconda3/envs/ai-playground/lib/python3.11/site-packages/transformers/tokenization_utils_base.py:1601: FutureWarning: `clean_up_tokenization_spaces` was not set. It will be set to `True` by default. This behavior will be depracted in transformers v4.45, and will be then set to `False` by default. For more details check this issue: https://github.com/huggingface/transformers/issues/31884\n",
      "  warnings.warn(\n",
      "/opt/anaconda3/envs/ai-playground/lib/python3.11/site-packages/transformers/tokenization_utils_base.py:1601: FutureWarning: `clean_up_tokenization_spaces` was not set. It will be set to `True` by default. This behavior will be depracted in transformers v4.45, and will be then set to `False` by default. For more details check this issue: https://github.com/huggingface/transformers/issues/31884\n",
      "  warnings.warn(\n",
      "/opt/anaconda3/envs/ai-playground/lib/python3.11/site-packages/langgraph/graph/graph.py:36: LangChainDeprecationWarning: As of langchain-core 0.3.0, LangChain uses pydantic v2 internally. The langchain_core.pydantic_v1 module was a compatibility shim for pydantic v1, and should no longer be used. Please update the code to import from Pydantic directly.\n",
      "\n",
      "For example, replace imports like: `from langchain_core.pydantic_v1 import BaseModel`\n",
      "with: `from pydantic import BaseModel`\n",
      "or the v1 compatibility namespace if you are working in a code base that has not been fully upgraded to pydantic 2 yet. \tfrom pydantic.v1 import BaseModel\n",
      "\n",
      "  from langgraph.pregel import Channel, Pregel\n"
     ]
    }
   ],
   "source": [
    "from utils.graphs import compile_analysis_graph"
   ]
  },
  {
   "cell_type": "code",
   "execution_count": 3,
   "metadata": {},
   "outputs": [
    {
     "name": "stderr",
     "output_type": "stream",
     "text": [
      "/Users/zding/Documents/aibootcamp/code/AIE4-DemoDay/utils/agent_helper.py:83: LangChainDeprecationWarning: The method `BaseChatOpenAI.bind_functions` was deprecated in langchain-openai 0.2.1 and will be removed in 0.3.0. Use :meth:`~langchain_openai.chat_models.base.ChatOpenAI.bind_tools` instead.\n",
      "  | llm.bind_functions(functions=[function_def], function_call=\"route\")\n",
      "INFO:httpx:HTTP Request: POST https://api.openai.com/v1/assistants \"HTTP/1.1 200 OK\"\n"
     ]
    },
    {
     "name": "stdout",
     "output_type": "stream",
     "text": [
      "Processing data/literature/s41591-023-02278-8.pdf...\n",
      "[                                        ] (0/3[=                                       ] ( 1/3[==                                      ] ( 2/35[===                                     ] ( 3/3[====                                    ] ( 4/35[=====                                   ] ( 5/3[======                                  ] ( 6/35[========                                ] ( 7/35=[=========                               ] ( 8/3[==========                              ] ( 9/35[===========                             ] (10/3[============                            ] (11/35[=============                           ] (12/3[==============                          ] (13/35[================                        ] (14/35=[=================                       ] (15/3[==================                      ] (16/35[===================                     ] (17/3[====================                    ] (18/35[=====================                   ] (19/3[======================                  ] (20/35[========================                ] (21/35=[=========================               ] (22/3[==========================              ] (23/35[===========================             ] (24/3[============================            ] (25/35[=============================           ] (26/3[==============================          ] (27/35[================================        ] (28/35=[=================================       ] (29/3[==================================      ] (30/35[===================================     ] (31/3[====================================    ] (32/35[=====================================   ] (33/3[======================================  ] (34/35[========================================] (35/35]\n",
      "Processing data/literature/PIIS1550413121006318.pdf...\n",
      "[                                        ] (0/1===[====                                    ] ( 1/10===[========                                ] ( 2/10===[============                            ] ( 3/10===[================                        ] ( 4/10===[====================                    ] ( 5/10===[========================                ] ( 6/10===[============================            ] ( 7/10===[================================        ] ( 8/10===[====================================    ] ( 9/10===[========================================] (10/10]\n",
      "Processing data/text_books/Textbook-of-Diabetes-2024-shortened.pdf...\n",
      "[                                        ] (0/78[                                        ] ( 1/78[=                                       ] ( 2/78[=                                       ] ( 3/7[==                                      ] ( 4/7[==                                      ] ( 5/78[===                                     ] ( 6/78[===                                     ] ( 7/7[====                                    ] ( 8/7[====                                    ] ( 9/78[=====                                   ] (10/78[=====                                   ] (11/7[======                                  ] (12/7[======                                  ] (13/78[=======                                 ] (14/[=======                                 ] (15/7[========                                ] (16/7[========                                ] (17/78[=========                               ] (18/[=========                               ] (19/7[==========                              ] (20/7[==========                              ] (21/78[===========                             ] (22/78[===========                             ] (23/7[============                            ] (24/7[============                            ] (25/78[=============                           ] (26/78[=============                           ] (27/7[==============                          ] (28/7[==============                          ] (29/78[===============                         ] (30/[===============                         ] (31/7[================                        ] (32/7[================                        ] (33/78[=================                       ] (34/[=================                       ] (35/7[==================                      ] (36/7[==================                      ] (37/78[===================                     ] (38/[====================                    ] (39/78[====================                    ] (40/78[=====================                   ] (41/[=====================                   ] (42/7[======================                  ] (43/7[======================                  ] (44/78[=======================                 ] (45/[=======================                 ] (46/7[========================                ] (47/7[========================                ] (48/78[=========================               ] (49/[=========================               ] (50/7[==========================              ] (51/7[==========================              ] (52/78[===========================             ] (53/[===========================             ] (54/7[============================            ] (55/7[============================            ] (56/78[=============================           ] (57/[=============================           ] (58/7[==============================          ] (59/7[==============================          ] (60/78[===============================         ] (61/[===============================         ] (62/7[================================        ] (63/7[================================        ] (64/78[=================================       ] (65/[=================================       ] (66/7[==================================      ] (67/7[==================================      ] (68/78[===================================     ] (69/78[===================================     ] (70/7[====================================    ] (71/7[====================================    ] (72/78[=====================================   ] (73/[=====================================   ] (74/7[======================================  ] (75/7[======================================  ] (76/78[======================================= ] (77/78[========================================] (78/78]\n"
     ]
    }
   ],
   "source": [
    "graph = compile_analysis_graph()"
   ]
  },
  {
   "cell_type": "code",
   "execution_count": 4,
   "metadata": {},
   "outputs": [],
   "source": [
    "question = \"What caused diabetes?\"\n",
    "file_path = \"data/raw_data/diabetes_data.csv\""
   ]
  },
  {
   "cell_type": "code",
   "execution_count": null,
   "metadata": {},
   "outputs": [],
   "source": [
    "graph.invoke(question, file_path=file_path)"
   ]
  },
  {
   "cell_type": "code",
   "execution_count": 5,
   "metadata": {},
   "outputs": [
    {
     "name": "stderr",
     "output_type": "stream",
     "text": [
      "INFO:httpx:HTTP Request: POST https://api.openai.com/v1/files \"HTTP/1.1 200 OK\"\n",
      "INFO:root:File uploaded successfully with ID: file-VUFduroUmDush7RbCFuXN6hN\n",
      "INFO:httpx:HTTP Request: POST https://api.openai.com/v1/threads \"HTTP/1.1 200 OK\"\n",
      "INFO:root:Thread created successfully with ID: thread_J9BkEWJXED0yyImWIDCV3iQe\n",
      "INFO:httpx:HTTP Request: POST https://api.openai.com/v1/threads/thread_J9BkEWJXED0yyImWIDCV3iQe/messages \"HTTP/1.1 200 OK\"\n",
      "INFO:httpx:HTTP Request: POST https://api.openai.com/v1/threads/thread_J9BkEWJXED0yyImWIDCV3iQe/runs \"HTTP/1.1 200 OK\"\n",
      "INFO:httpx:HTTP Request: GET https://api.openai.com/v1/threads/thread_J9BkEWJXED0yyImWIDCV3iQe/runs/run_VDtDGyjJhmCN0eOyGdykPz1s \"HTTP/1.1 200 OK\"\n",
      "INFO:httpx:HTTP Request: GET https://api.openai.com/v1/threads/thread_J9BkEWJXED0yyImWIDCV3iQe/runs/run_VDtDGyjJhmCN0eOyGdykPz1s \"HTTP/1.1 200 OK\"\n",
      "INFO:httpx:HTTP Request: GET https://api.openai.com/v1/threads/thread_J9BkEWJXED0yyImWIDCV3iQe/runs/run_VDtDGyjJhmCN0eOyGdykPz1s \"HTTP/1.1 200 OK\"\n",
      "INFO:httpx:HTTP Request: GET https://api.openai.com/v1/threads/thread_J9BkEWJXED0yyImWIDCV3iQe/runs/run_VDtDGyjJhmCN0eOyGdykPz1s \"HTTP/1.1 200 OK\"\n",
      "INFO:httpx:HTTP Request: GET https://api.openai.com/v1/threads/thread_J9BkEWJXED0yyImWIDCV3iQe/runs/run_VDtDGyjJhmCN0eOyGdykPz1s \"HTTP/1.1 200 OK\"\n",
      "INFO:httpx:HTTP Request: GET https://api.openai.com/v1/threads/thread_J9BkEWJXED0yyImWIDCV3iQe/runs/run_VDtDGyjJhmCN0eOyGdykPz1s \"HTTP/1.1 200 OK\"\n",
      "INFO:httpx:HTTP Request: GET https://api.openai.com/v1/threads/thread_J9BkEWJXED0yyImWIDCV3iQe/runs/run_VDtDGyjJhmCN0eOyGdykPz1s \"HTTP/1.1 200 OK\"\n",
      "INFO:httpx:HTTP Request: GET https://api.openai.com/v1/threads/thread_J9BkEWJXED0yyImWIDCV3iQe/runs/run_VDtDGyjJhmCN0eOyGdykPz1s \"HTTP/1.1 200 OK\"\n",
      "INFO:httpx:HTTP Request: GET https://api.openai.com/v1/threads/thread_J9BkEWJXED0yyImWIDCV3iQe/runs/run_VDtDGyjJhmCN0eOyGdykPz1s \"HTTP/1.1 200 OK\"\n",
      "INFO:httpx:HTTP Request: GET https://api.openai.com/v1/threads/thread_J9BkEWJXED0yyImWIDCV3iQe/runs/run_VDtDGyjJhmCN0eOyGdykPz1s \"HTTP/1.1 200 OK\"\n",
      "INFO:httpx:HTTP Request: GET https://api.openai.com/v1/threads/thread_J9BkEWJXED0yyImWIDCV3iQe/runs/run_VDtDGyjJhmCN0eOyGdykPz1s \"HTTP/1.1 200 OK\"\n",
      "INFO:httpx:HTTP Request: GET https://api.openai.com/v1/threads/thread_J9BkEWJXED0yyImWIDCV3iQe/runs/run_VDtDGyjJhmCN0eOyGdykPz1s \"HTTP/1.1 200 OK\"\n",
      "INFO:httpx:HTTP Request: GET https://api.openai.com/v1/threads/thread_J9BkEWJXED0yyImWIDCV3iQe/runs/run_VDtDGyjJhmCN0eOyGdykPz1s \"HTTP/1.1 200 OK\"\n",
      "INFO:httpx:HTTP Request: GET https://api.openai.com/v1/threads/thread_J9BkEWJXED0yyImWIDCV3iQe/runs/run_VDtDGyjJhmCN0eOyGdykPz1s \"HTTP/1.1 200 OK\"\n",
      "INFO:httpx:HTTP Request: GET https://api.openai.com/v1/threads/thread_J9BkEWJXED0yyImWIDCV3iQe/runs/run_VDtDGyjJhmCN0eOyGdykPz1s \"HTTP/1.1 200 OK\"\n",
      "INFO:httpx:HTTP Request: GET https://api.openai.com/v1/threads/thread_J9BkEWJXED0yyImWIDCV3iQe/runs/run_VDtDGyjJhmCN0eOyGdykPz1s \"HTTP/1.1 200 OK\"\n",
      "INFO:httpx:HTTP Request: GET https://api.openai.com/v1/threads/thread_J9BkEWJXED0yyImWIDCV3iQe/runs/run_VDtDGyjJhmCN0eOyGdykPz1s \"HTTP/1.1 200 OK\"\n",
      "INFO:httpx:HTTP Request: GET https://api.openai.com/v1/threads/thread_J9BkEWJXED0yyImWIDCV3iQe/runs/run_VDtDGyjJhmCN0eOyGdykPz1s \"HTTP/1.1 200 OK\"\n",
      "INFO:httpx:HTTP Request: GET https://api.openai.com/v1/threads/thread_J9BkEWJXED0yyImWIDCV3iQe/runs/run_VDtDGyjJhmCN0eOyGdykPz1s \"HTTP/1.1 200 OK\"\n",
      "INFO:httpx:HTTP Request: GET https://api.openai.com/v1/threads/thread_J9BkEWJXED0yyImWIDCV3iQe/runs/run_VDtDGyjJhmCN0eOyGdykPz1s \"HTTP/1.1 200 OK\"\n",
      "INFO:httpx:HTTP Request: GET https://api.openai.com/v1/threads/thread_J9BkEWJXED0yyImWIDCV3iQe/runs/run_VDtDGyjJhmCN0eOyGdykPz1s \"HTTP/1.1 200 OK\"\n",
      "INFO:httpx:HTTP Request: GET https://api.openai.com/v1/threads/thread_J9BkEWJXED0yyImWIDCV3iQe/runs/run_VDtDGyjJhmCN0eOyGdykPz1s \"HTTP/1.1 200 OK\"\n",
      "INFO:httpx:HTTP Request: GET https://api.openai.com/v1/threads/thread_J9BkEWJXED0yyImWIDCV3iQe/messages?order=asc \"HTTP/1.1 200 OK\"\n",
      "INFO:httpx:HTTP Request: GET https://api.openai.com/v1/threads/thread_J9BkEWJXED0yyImWIDCV3iQe/messages?order=asc&after=msg_ZyQlKwB9LLZbzLtZ0yp10Jl9 \"HTTP/1.1 200 OK\"\n",
      "INFO:root:Assistant invocation results: Message(id='msg_ZyQlKwB9LLZbzLtZ0yp10Jl9', assistant_id='asst_CYk57CbPqnkMBB7wJVH60opc', attachments=[], completed_at=None, content=[ImageFileContentBlock(image_file=ImageFile(file_id='file-vopLHklnFF2xaTq7HKMUZE7U', detail=None), type='image_file'), TextContentBlock(text=Text(annotations=[], value='### Observations from the Correlation Heatmap\\n\\nThe heatmap above illustrates the correlations of various variables with diabetes using the Pearson correlation coefficient. Below are some key observations:\\n\\n1. **Age**: There is a moderate positive correlation (0.28) between age and diabetes. This indicates that as age increases, the likelihood of having diabetes also tends to increase.\\n  \\n2. **High Cholesterol (HighChol)**: High cholesterol shows a moderate positive correlation (0.29) with diabetes, suggesting that individuals with high cholesterol levels are more likely to have diabetes.\\n\\n3. **Body Mass Index (BMI)**: BMI also presents a moderate positive correlation (0.29) with diabetes, indicating that higher BMI is associated with a higher prevalence of diabetes.\\n\\n4. **Physical Activity (PhysActivity)**: Physical activity has a small negative correlation (-0.16) with diabetes, suggesting that individuals who engage in physical activity have a lower likelihood of being diabetic.\\n\\n5. **General Health (GenHlth)**: A higher general health rating correlates positively (0.41) with a lower prevalence of diabetes, indicating that individuals who perceive themselves as having good health are less likely to have diabetes.\\n\\n6. **High Blood Pressure (HighBP)**: There is a significant positive correlation (0.38) between high blood pressure and diabetes, suggesting that individuals with hypertension are more prone to diabetes.\\n\\n### Conclusion\\n\\nBased on the patterns observed, several factors contribute to the risk of developing diabetes. These include older age, high cholesterol levels, elevated BMI, lack of physical activity, and high blood pressure. The influence of general health rating indicates that improving overall health might help in diabetes prevention. \\n\\nThis analysis emphasizes the importance of lifestyle choices and health management in preventing diabetes and suggests potential areas for further intervention and public health strategies.\\n\\n### References\\nFor further reading, consider exploring the following:\\n- Centers for Disease Control and Prevention (CDC) on diabetes prevention and related factors.\\n- American Diabetes Association for comprehensive insights on risk factors and management.'), type='text')], created_at=1729570818, incomplete_at=None, incomplete_details=None, metadata={}, object='thread.message', role='assistant', run_id='run_VDtDGyjJhmCN0eOyGdykPz1s', status=None, thread_id='thread_J9BkEWJXED0yyImWIDCV3iQe')\n",
      "INFO:httpx:HTTP Request: GET https://api.openai.com/v1/files/file-vopLHklnFF2xaTq7HKMUZE7U/content \"HTTP/1.1 200 OK\"\n",
      "INFO:root:Image saved successfully to: data/data_visualisation/plot_20241022002025.png\n"
     ]
    },
    {
     "name": "stdout",
     "output_type": "stream",
     "text": [
      "{'Visualisation': {'messages': [HumanMessage(content='### Observations from the Correlation Heatmap\\n\\nThe heatmap above illustrates the correlations of various variables with diabetes using the Pearson correlation coefficient. Below are some key observations:\\n\\n1. **Age**: There is a moderate positive correlation (0.28) between age and diabetes. This indicates that as age increases, the likelihood of having diabetes also tends to increase.\\n  \\n2. **High Cholesterol (HighChol)**: High cholesterol shows a moderate positive correlation (0.29) with diabetes, suggesting that individuals with high cholesterol levels are more likely to have diabetes.\\n\\n3. **Body Mass Index (BMI)**: BMI also presents a moderate positive correlation (0.29) with diabetes, indicating that higher BMI is associated with a higher prevalence of diabetes.\\n\\n4. **Physical Activity (PhysActivity)**: Physical activity has a small negative correlation (-0.16) with diabetes, suggesting that individuals who engage in physical activity have a lower likelihood of being diabetic.\\n\\n5. **General Health (GenHlth)**: A higher general health rating correlates positively (0.41) with a lower prevalence of diabetes, indicating that individuals who perceive themselves as having good health are less likely to have diabetes.\\n\\n6. **High Blood Pressure (HighBP)**: There is a significant positive correlation (0.38) between high blood pressure and diabetes, suggesting that individuals with hypertension are more prone to diabetes.\\n\\n### Conclusion\\n\\nBased on the patterns observed, several factors contribute to the risk of developing diabetes. These include older age, high cholesterol levels, elevated BMI, lack of physical activity, and high blood pressure. The influence of general health rating indicates that improving overall health might help in diabetes prevention. \\n\\nThis analysis emphasizes the importance of lifestyle choices and health management in preventing diabetes and suggests potential areas for further intervention and public health strategies.\\n\\n### References\\nFor further reading, consider exploring the following:\\n- Centers for Disease Control and Prevention (CDC) on diabetes prevention and related factors.\\n- American Diabetes Association for comprehensive insights on risk factors and management.', additional_kwargs={}, response_metadata={}, name='DataVis')]}}\n",
      "---\n"
     ]
    },
    {
     "name": "stderr",
     "output_type": "stream",
     "text": [
      "INFO:httpx:HTTP Request: POST https://api.openai.com/v1/chat/completions \"HTTP/1.1 200 OK\"\n"
     ]
    },
    {
     "name": "stdout",
     "output_type": "stream",
     "text": [
      "{'Supervisor': {'next': 'LocalInformationRetriever'}}\n",
      "---\n"
     ]
    },
    {
     "name": "stderr",
     "output_type": "stream",
     "text": [
      "INFO:httpx:HTTP Request: POST https://api.openai.com/v1/chat/completions \"HTTP/1.1 200 OK\"\n"
     ]
    },
    {
     "name": "stdout",
     "output_type": "stream",
     "text": [
      "{'Research': {'messages': [HumanMessage(content='The observations from the correlation heatmap indicate several factors that contribute to the risk of developing diabetes:\\n\\n1. **Age**: Moderate positive correlation (0.28) with diabetes, suggesting that older age increases the likelihood of diabetes.\\n\\n2. **High Cholesterol**: Moderate positive correlation (0.29) with diabetes, indicating that individuals with higher cholesterol levels are more likely to be diabetic.\\n\\n3. **Body Mass Index (BMI)**: Moderate positive correlation (0.29) with diabetes, showing that higher BMI is associated with a higher prevalence of diabetes.\\n\\n4. **Physical Activity**: Small negative correlation (-0.16) with diabetes, implying that engaging in physical activity lowers the likelihood of diabetes.\\n\\n5. **General Health**: Positive correlation (0.41) with lower prevalence of diabetes, indicating that individuals who perceive their health as good are less likely to have diabetes.\\n\\n6. **High Blood Pressure**: Significant positive correlation (0.38) with diabetes, suggesting that individuals with hypertension are more prone to diabetes.\\n\\nIn conclusion, factors like older age, high cholesterol, elevated BMI, low physical activity, and high blood pressure are contributors to diabetes risk. Improving overall health could potentially aid in diabetes prevention.', additional_kwargs={}, response_metadata={}, name='LocalInformationRetriever')]}}\n",
      "---\n"
     ]
    },
    {
     "name": "stderr",
     "output_type": "stream",
     "text": [
      "INFO:httpx:HTTP Request: POST https://api.openai.com/v1/chat/completions \"HTTP/1.1 200 OK\"\n"
     ]
    },
    {
     "name": "stdout",
     "output_type": "stream",
     "text": [
      "{'Supervisor': {'next': 'FINISH'}}\n",
      "---\n"
     ]
    }
   ],
   "source": [
    "for s in graph.stream(question, file_path=file_path):\n",
    "    if \"__end__\" not in s:\n",
    "        print(s)\n",
    "        print(\"---\")"
   ]
  },
  {
   "cell_type": "code",
   "execution_count": 6,
   "metadata": {},
   "outputs": [],
   "source": [
    "import asyncio\n",
    "from langchain_core.messages import HumanMessage"
   ]
  },
  {
   "cell_type": "code",
   "execution_count": 12,
   "metadata": {},
   "outputs": [],
   "source": [
    "async def run_analysis(file_path, question, compiled_graph):\n",
    "    # Compile the graph\n",
    "    # compiled_graph = compile_analysis_graph()\n",
    "\n",
    "    # Run the compiled graph asynchronously\n",
    "    async for chunk in compiled_graph.astream(question, file_path=file_path):\n",
    "        \n",
    "        references = []\n",
    "        for _, values in chunk.items():\n",
    "            # Extract messages from values\n",
    "            if \"messages\" in values:\n",
    "                if values['name'] == 'DataVis':\n",
    "                    analysis = values[\"messages\"]\n",
    "                else:\n",
    "                    references.append(values[\"messages\"])\n",
    "\n",
    "    return analysis, '\\n'.join(references)"
   ]
  },
  {
   "cell_type": "code",
   "execution_count": 13,
   "metadata": {},
   "outputs": [
    {
     "name": "stderr",
     "output_type": "stream",
     "text": [
      "INFO:httpx:HTTP Request: POST https://api.openai.com/v1/files \"HTTP/1.1 200 OK\"\n",
      "INFO:root:File uploaded successfully with ID: file-NHPCiuWMhd7YgKcylrLEyFhO\n",
      "INFO:httpx:HTTP Request: POST https://api.openai.com/v1/threads \"HTTP/1.1 200 OK\"\n",
      "INFO:root:Thread created successfully with ID: thread_AGn6jqF5S5LbDY1tVM8TTUPL\n",
      "INFO:httpx:HTTP Request: POST https://api.openai.com/v1/threads/thread_AGn6jqF5S5LbDY1tVM8TTUPL/messages \"HTTP/1.1 200 OK\"\n",
      "INFO:httpx:HTTP Request: POST https://api.openai.com/v1/threads/thread_AGn6jqF5S5LbDY1tVM8TTUPL/runs \"HTTP/1.1 200 OK\"\n",
      "INFO:httpx:HTTP Request: GET https://api.openai.com/v1/threads/thread_AGn6jqF5S5LbDY1tVM8TTUPL/runs/run_gccQMhnEYtBtzwXhGFHOZDWI \"HTTP/1.1 200 OK\"\n",
      "INFO:httpx:HTTP Request: GET https://api.openai.com/v1/threads/thread_AGn6jqF5S5LbDY1tVM8TTUPL/runs/run_gccQMhnEYtBtzwXhGFHOZDWI \"HTTP/1.1 200 OK\"\n",
      "INFO:httpx:HTTP Request: GET https://api.openai.com/v1/threads/thread_AGn6jqF5S5LbDY1tVM8TTUPL/runs/run_gccQMhnEYtBtzwXhGFHOZDWI \"HTTP/1.1 200 OK\"\n",
      "INFO:httpx:HTTP Request: GET https://api.openai.com/v1/threads/thread_AGn6jqF5S5LbDY1tVM8TTUPL/runs/run_gccQMhnEYtBtzwXhGFHOZDWI \"HTTP/1.1 200 OK\"\n",
      "INFO:httpx:HTTP Request: GET https://api.openai.com/v1/threads/thread_AGn6jqF5S5LbDY1tVM8TTUPL/runs/run_gccQMhnEYtBtzwXhGFHOZDWI \"HTTP/1.1 200 OK\"\n",
      "INFO:httpx:HTTP Request: GET https://api.openai.com/v1/threads/thread_AGn6jqF5S5LbDY1tVM8TTUPL/runs/run_gccQMhnEYtBtzwXhGFHOZDWI \"HTTP/1.1 200 OK\"\n",
      "INFO:httpx:HTTP Request: GET https://api.openai.com/v1/threads/thread_AGn6jqF5S5LbDY1tVM8TTUPL/runs/run_gccQMhnEYtBtzwXhGFHOZDWI \"HTTP/1.1 200 OK\"\n",
      "INFO:httpx:HTTP Request: GET https://api.openai.com/v1/threads/thread_AGn6jqF5S5LbDY1tVM8TTUPL/runs/run_gccQMhnEYtBtzwXhGFHOZDWI \"HTTP/1.1 200 OK\"\n",
      "INFO:httpx:HTTP Request: GET https://api.openai.com/v1/threads/thread_AGn6jqF5S5LbDY1tVM8TTUPL/runs/run_gccQMhnEYtBtzwXhGFHOZDWI \"HTTP/1.1 200 OK\"\n",
      "INFO:httpx:HTTP Request: GET https://api.openai.com/v1/threads/thread_AGn6jqF5S5LbDY1tVM8TTUPL/runs/run_gccQMhnEYtBtzwXhGFHOZDWI \"HTTP/1.1 200 OK\"\n",
      "INFO:httpx:HTTP Request: GET https://api.openai.com/v1/threads/thread_AGn6jqF5S5LbDY1tVM8TTUPL/runs/run_gccQMhnEYtBtzwXhGFHOZDWI \"HTTP/1.1 200 OK\"\n",
      "INFO:httpx:HTTP Request: GET https://api.openai.com/v1/threads/thread_AGn6jqF5S5LbDY1tVM8TTUPL/runs/run_gccQMhnEYtBtzwXhGFHOZDWI \"HTTP/1.1 200 OK\"\n",
      "INFO:httpx:HTTP Request: GET https://api.openai.com/v1/threads/thread_AGn6jqF5S5LbDY1tVM8TTUPL/runs/run_gccQMhnEYtBtzwXhGFHOZDWI \"HTTP/1.1 200 OK\"\n",
      "INFO:httpx:HTTP Request: GET https://api.openai.com/v1/threads/thread_AGn6jqF5S5LbDY1tVM8TTUPL/runs/run_gccQMhnEYtBtzwXhGFHOZDWI \"HTTP/1.1 200 OK\"\n",
      "INFO:httpx:HTTP Request: GET https://api.openai.com/v1/threads/thread_AGn6jqF5S5LbDY1tVM8TTUPL/runs/run_gccQMhnEYtBtzwXhGFHOZDWI \"HTTP/1.1 200 OK\"\n",
      "INFO:httpx:HTTP Request: GET https://api.openai.com/v1/threads/thread_AGn6jqF5S5LbDY1tVM8TTUPL/runs/run_gccQMhnEYtBtzwXhGFHOZDWI \"HTTP/1.1 200 OK\"\n",
      "INFO:httpx:HTTP Request: GET https://api.openai.com/v1/threads/thread_AGn6jqF5S5LbDY1tVM8TTUPL/runs/run_gccQMhnEYtBtzwXhGFHOZDWI \"HTTP/1.1 200 OK\"\n",
      "INFO:httpx:HTTP Request: GET https://api.openai.com/v1/threads/thread_AGn6jqF5S5LbDY1tVM8TTUPL/runs/run_gccQMhnEYtBtzwXhGFHOZDWI \"HTTP/1.1 200 OK\"\n",
      "INFO:httpx:HTTP Request: GET https://api.openai.com/v1/threads/thread_AGn6jqF5S5LbDY1tVM8TTUPL/runs/run_gccQMhnEYtBtzwXhGFHOZDWI \"HTTP/1.1 200 OK\"\n",
      "INFO:httpx:HTTP Request: GET https://api.openai.com/v1/threads/thread_AGn6jqF5S5LbDY1tVM8TTUPL/runs/run_gccQMhnEYtBtzwXhGFHOZDWI \"HTTP/1.1 200 OK\"\n",
      "INFO:httpx:HTTP Request: GET https://api.openai.com/v1/threads/thread_AGn6jqF5S5LbDY1tVM8TTUPL/runs/run_gccQMhnEYtBtzwXhGFHOZDWI \"HTTP/1.1 200 OK\"\n",
      "INFO:httpx:HTTP Request: GET https://api.openai.com/v1/threads/thread_AGn6jqF5S5LbDY1tVM8TTUPL/runs/run_gccQMhnEYtBtzwXhGFHOZDWI \"HTTP/1.1 200 OK\"\n",
      "INFO:httpx:HTTP Request: GET https://api.openai.com/v1/threads/thread_AGn6jqF5S5LbDY1tVM8TTUPL/runs/run_gccQMhnEYtBtzwXhGFHOZDWI \"HTTP/1.1 200 OK\"\n",
      "INFO:httpx:HTTP Request: GET https://api.openai.com/v1/threads/thread_AGn6jqF5S5LbDY1tVM8TTUPL/runs/run_gccQMhnEYtBtzwXhGFHOZDWI \"HTTP/1.1 200 OK\"\n",
      "INFO:httpx:HTTP Request: GET https://api.openai.com/v1/threads/thread_AGn6jqF5S5LbDY1tVM8TTUPL/messages?order=asc \"HTTP/1.1 200 OK\"\n",
      "INFO:httpx:HTTP Request: GET https://api.openai.com/v1/threads/thread_AGn6jqF5S5LbDY1tVM8TTUPL/messages?order=asc&after=msg_yz3xtmi3QfVEZVEiQ7UzGKGT \"HTTP/1.1 200 OK\"\n",
      "INFO:root:Assistant invocation results: Message(id='msg_yz3xtmi3QfVEZVEiQ7UzGKGT', assistant_id='asst_CYk57CbPqnkMBB7wJVH60opc', attachments=[], completed_at=None, content=[ImageFileContentBlock(image_file=ImageFile(file_id='file-ROa5tueNQ1LbuJUEHehMnW8V', detail=None), type='image_file'), TextContentBlock(text=Text(annotations=[], value='The bar plot illustrates the prevalence of diabetes across different age groups. However, the results show a significant issue: nearly 50% of individuals in the 0-18 age group have been classified as having diabetes, which seems anomalous given the typical disease profile of diabetes.\\n\\n### Insights from the Data Visualization:\\n\\n1. **Age Group 0-18**: A remarkably high percentage of diabetes prevalence in this group suggests potential data quality issues (e.g., reporting errors or misclassification of diabetes cases). This calls for further examination of the underlying data for this age group.\\n\\n2. **Other Age Groups**: The bars for older age groups (19-35, 36-50, 51-65, 66+) are not available, which indicates that a detailed breakdown for older populations may also be needed for a comprehensive understanding of diabetes trends.\\n\\n3. **Lifestyle and Health Variables**: Understanding how the variables such as BMI, physical activity, smoking, and cholesterol levels impact diabetes risk would require further analysis. It may be beneficial to examine how these factors correlate with diabetes prevalence in different age groups.\\n\\n### Moving Forward\\nTo draw more meaningful conclusions, the next steps could involve:\\n- Investigating the data quality and integrity regarding the younger population.\\n- Evaluating correlations between diabetes and other health and lifestyle factors.\\n- Segmenting the data further to customize insights by demographics (e.g., by sex or ethnicity).\\n\\nIf you need further analysis on specific factors or other visualizations, please let me know!'), type='text')], created_at=1729571270, incomplete_at=None, incomplete_details=None, metadata={}, object='thread.message', role='assistant', run_id='run_gccQMhnEYtBtzwXhGFHOZDWI', status=None, thread_id='thread_AGn6jqF5S5LbDY1tVM8TTUPL')\n",
      "INFO:httpx:HTTP Request: GET https://api.openai.com/v1/files/file-ROa5tueNQ1LbuJUEHehMnW8V/content \"HTTP/1.1 200 OK\"\n",
      "INFO:root:Image saved successfully to: data/data_visualisation/plot_20241022002756.png\n"
     ]
    },
    {
     "name": "stdout",
     "output_type": "stream",
     "text": [
      "[HumanMessage(content='The bar plot illustrates the prevalence of diabetes across different age groups. However, the results show a significant issue: nearly 50% of individuals in the 0-18 age group have been classified as having diabetes, which seems anomalous given the typical disease profile of diabetes.\\n\\n### Insights from the Data Visualization:\\n\\n1. **Age Group 0-18**: A remarkably high percentage of diabetes prevalence in this group suggests potential data quality issues (e.g., reporting errors or misclassification of diabetes cases). This calls for further examination of the underlying data for this age group.\\n\\n2. **Other Age Groups**: The bars for older age groups (19-35, 36-50, 51-65, 66+) are not available, which indicates that a detailed breakdown for older populations may also be needed for a comprehensive understanding of diabetes trends.\\n\\n3. **Lifestyle and Health Variables**: Understanding how the variables such as BMI, physical activity, smoking, and cholesterol levels impact diabetes risk would require further analysis. It may be beneficial to examine how these factors correlate with diabetes prevalence in different age groups.\\n\\n### Moving Forward\\nTo draw more meaningful conclusions, the next steps could involve:\\n- Investigating the data quality and integrity regarding the younger population.\\n- Evaluating correlations between diabetes and other health and lifestyle factors.\\n- Segmenting the data further to customize insights by demographics (e.g., by sex or ethnicity).\\n\\nIf you need further analysis on specific factors or other visualizations, please let me know!', additional_kwargs={}, response_metadata={}, name='DataVis')]\n"
     ]
    },
    {
     "name": "stderr",
     "output_type": "stream",
     "text": [
      "INFO:httpx:HTTP Request: POST https://api.openai.com/v1/chat/completions \"HTTP/1.1 200 OK\"\n",
      "INFO:httpx:HTTP Request: POST https://api.openai.com/v1/chat/completions \"HTTP/1.1 200 OK\"\n",
      "INFO:httpx:HTTP Request: POST https://api.openai.com/v1/chat/completions \"HTTP/1.1 200 OK\"\n",
      "INFO:httpx:HTTP Request: POST https://api.openai.com/v1/chat/completions \"HTTP/1.1 200 OK\"\n"
     ]
    },
    {
     "name": "stdout",
     "output_type": "stream",
     "text": [
      "[HumanMessage(content='Here are several documents that discuss various causes and factors associated with diabetes:\\n\\n1. **Incident type 2 diabetes attributable to suboptimal diet in 184 countries** (2023) by Meghan O’Hearn et al. - This paper explores how poor dietary choices contribute to the incidence of type 2 diabetes globally.\\n\\n2. **Reduced early insulin secretion in the etiology of type 2 diabetes mellitus in Pima Indians** (2002) by C. Bogardus and P.A. Tataranni - This study investigates the role of insulin secretion levels in the development of type 2 diabetes among the Pima Indian population.\\n\\n3. **Contribution of abnormal muscle and liver glucose metabolism to postprandial hyperglycemia in NIDDM** (1990) by A. Mitrakou et al. - The research focuses on how metabolic abnormalities in muscle and liver contribute to high blood sugar levels after meals in non-insulin-dependent diabetes mellitus (NIDDM).\\n\\n4. **Reversal of type 2 diabetes: normalization of beta cell function in association with decreased pancreas and liver triacylglycerol** (2011) by E.L. Lim et al. - This paper discusses the improvement of beta-cell function and its relationship to reduced fat accumulation in the pancreas and liver as a factor in reversing type 2 diabetes.\\n\\n5. **Pancreatic beta-cell proliferation in obesity** (2014) by A.K. Linnemann et al. - This document looks into how obesity affects the proliferation of pancreatic beta-cells, which are crucial for insulin production.\\n\\n6. **The many secret lives of adipocytes: implications for diabetes** (2019) by P.E. Scherer - This paper examines the role of adipocytes (fat cells) in the development of diabetes and their various functions that impact metabolic health.\\n\\n7. **Knockdown of ANT2 reduces adipocyte hypoxia and improves insulin resistance in obesity** (2019) by J.B. Seo et al. - This study addresses how reducing the expression of ANT2 in adipocytes can alleviate hypoxia and enhance insulin sensitivity, linking obesity to diabetes risk.\\n\\nThese documents provide a comprehensive overview of the biological, dietary, and metabolic factors that contribute to the development and management of diabetes.', additional_kwargs={}, response_metadata={}, name='LocalInformationRetriever')]\n"
     ]
    },
    {
     "name": "stderr",
     "output_type": "stream",
     "text": [
      "INFO:httpx:HTTP Request: POST https://api.openai.com/v1/chat/completions \"HTTP/1.1 200 OK\"\n"
     ]
    },
    {
     "name": "stdout",
     "output_type": "stream",
     "text": [
      "Analysis Complete.\n"
     ]
    }
   ],
   "source": [
    "\n",
    "\n",
    "question = \"What caused diabetes?\"\n",
    "file_path = \"data/raw_data/diabetes_data.csv\"\n",
    "\n",
    "\n",
    "# Running the async function using asyncio\n",
    "analysis, references = asyncio.run(run_analysis(file_path, question, graph))"
   ]
  },
  {
   "cell_type": "code",
   "execution_count": null,
   "metadata": {},
   "outputs": [],
   "source": []
  },
  {
   "cell_type": "code",
   "execution_count": null,
   "metadata": {},
   "outputs": [],
   "source": []
  },
  {
   "cell_type": "code",
   "execution_count": null,
   "metadata": {},
   "outputs": [],
   "source": []
  },
  {
   "cell_type": "code",
   "execution_count": null,
   "metadata": {},
   "outputs": [],
   "source": []
  },
  {
   "cell_type": "code",
   "execution_count": null,
   "metadata": {},
   "outputs": [],
   "source": [
    "from IPython.display import Image, display\n",
    "\n",
    "chain = compile_analysis_chain()\n",
    "\n",
    "try:\n",
    "    display(Image(chain.get_graph(xray=True).draw_mermaid_png()))\n",
    "except:\n",
    "    print('Na...')\n",
    "    pass"
   ]
  },
  {
   "cell_type": "code",
   "execution_count": null,
   "metadata": {},
   "outputs": [],
   "source": []
  },
  {
   "cell_type": "code",
   "execution_count": null,
   "metadata": {},
   "outputs": [],
   "source": []
  }
 ],
 "metadata": {
  "kernelspec": {
   "display_name": "ai-playground",
   "language": "python",
   "name": "python3"
  },
  "language_info": {
   "codemirror_mode": {
    "name": "ipython",
    "version": 3
   },
   "file_extension": ".py",
   "mimetype": "text/x-python",
   "name": "python",
   "nbconvert_exporter": "python",
   "pygments_lexer": "ipython3",
   "version": "3.11.9"
  }
 },
 "nbformat": 4,
 "nbformat_minor": 2
}
